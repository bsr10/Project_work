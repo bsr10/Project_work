{
 "cells": [
  {
   "cell_type": "markdown",
   "metadata": {},
   "source": [
    "#  [MATH2319] Course Project - Group 68\n",
    "\n",
    "\n",
    "\n",
    "###  Tushar Kondvilkar (s3800119)\n",
    "\n",
    "###  M. Abdullah Anis (s3790720)\n",
    "\n",
    "###  Brian Steven Rathod (s3760875)\n",
    "\n"
   ]
  },
  {
   "cell_type": "markdown",
   "metadata": {},
   "source": [
    "# 1. Introduction"
   ]
  },
  {
   "cell_type": "markdown",
   "metadata": {},
   "source": [
    "When banks give out loans to customers they need to know whether a customer is good credit risk or bad. So the banks do not want to give loan to any customer who is not able to return the loans. Subsequently, they want to give loans to customers who will successfully pay back the loans.\n",
    "\n",
    "We have selected a dataset on German Credit Data prepared by Prof. Hoffman which has been imported from the UCI website. The dataset we have chosen propese a classification problem. This dataset contains 1000 rows & 20 attributes. Each row in the dataset represents a customer who has taken credit from the bank. All the potential customers are classified as good or bad credit risk based on many parameters such as credit history. The original dataset has been referenced below. The target feature is 'risk' which contains 2 classes 'Good' or 'Bad' which are represented by 1 & 0 respectively. The target feature classifies whether the customer has good credit risk or bad credit risk.\n",
    "\n",
    "UCI Machine Learning Repository: Statlog (German Credit Data) Data Set. Archive.ics.uci.edu. (2020). Retrieved 31 May 2020, from https://archive.ics.uci.edu/ml/datasets/Statlog+%28German+Credit+Data%29."
   ]
  },
  {
   "cell_type": "markdown",
   "metadata": {},
   "source": [
    "## 1.1 Objective"
   ]
  },
  {
   "cell_type": "markdown",
   "metadata": {},
   "source": [
    "The objective of the study is to use various machine learning algorithms in order to find the best model which can classify a customer as good or bad credit risk based on the set of attributes in the dataset."
   ]
  },
  {
   "cell_type": "markdown",
   "metadata": {},
   "source": [
    "## 1.2 Predictive modelling Methodology"
   ]
  },
  {
   "cell_type": "markdown",
   "metadata": {},
   "source": [
    "Following are the binary classifiers we considered for classifiying the target feature:\n",
    "1. KNN\n",
    "2. Decision Tree\n",
    "3. Naive Bayes\n",
    "4. Random Forest\n",
    "5. Logistic Regression\n",
    "\n",
    "First we checked for missing values, encoded categorical features, encoded the target feature and scaled the descriptive features. After that, we split the full dataset to training & test sets with 75:25 ratio. Training dataset contains 750 rows & test dataset has 250 rows.\n",
    "Next, we performed feature selection using the powerful Random Forest Importance method inside a pipeline. We selected 15 best features for modelling our data. We set the hyparameter values for all the algorithms & assessed their performance using the training data. Our performance metric was AUC score & we built each model with parallel processing set to -2 cores.\n",
    "We found the tuned classifiers with best hyparameter values using Grid Search. Upon finding the 5 tuned classifiers we fit them on the test data with 10-fold cross validation & performed paired t-tests to check whether any performance difference is statistically significant. Finally we compared classifiers with respect to different scoring metrics such as recall to see which classifier would perform the best."
   ]
  },
  {
   "cell_type": "markdown",
   "metadata": {},
   "source": [
    "# 2. Data - Preprocessing"
   ]
  },
  {
   "cell_type": "markdown",
   "metadata": {},
   "source": [
    "We will be importing all the required librarys below."
   ]
  },
  {
   "cell_type": "code",
   "execution_count": 1,
   "metadata": {},
   "outputs": [],
   "source": [
    "import warnings\n",
    "warnings.filterwarnings(\"ignore\")\n",
    "import numpy as np\n",
    "import pandas as pd\n",
    "pd.set_option('display.max_columns', None)\n",
    "import io\n",
    "import requests\n",
    "from sklearn.model_selection import cross_val_score, RepeatedStratifiedKFold\n",
    "import sklearn.metrics as metrics\n",
    "from sklearn.ensemble import RandomForestClassifier\n",
    "from sklearn import preprocessing\n",
    "from sklearn import feature_selection as fs\n",
    "from sklearn.model_selection import train_test_split\n",
    "from sklearn.neighbors import KNeighborsClassifier\n",
    "from sklearn.tree import DecisionTreeRegressor\n",
    "from sklearn.tree import DecisionTreeClassifier\n",
    "from numpy.random import randn\n",
    "from numpy.random import seed\n",
    "from matplotlib import pyplot as plt\n",
    "import seaborn as sns\n",
    "#! pip install dython\n",
    "from dython.nominal import associations\n",
    "\n",
    "#!pip install --upgrade altair\n",
    "#!pip install vega vega_datasets"
   ]
  },
  {
   "cell_type": "markdown",
   "metadata": {},
   "source": [
    "## 2.1 Reading Data"
   ]
  },
  {
   "cell_type": "code",
   "execution_count": 2,
   "metadata": {},
   "outputs": [],
   "source": [
    "pd.set_option('display.max_columns', None) \n",
    "\n",
    "attributeNames = ['checking_account',\n",
    "'duration',\n",
    "'credit history',\n",
    "'purpose',\n",
    "'credit amount',\n",
    "'savings account',\n",
    "'employment status',\n",
    "'rate',\n",
    "'status_sex',\n",
    "'debt',\n",
    "'residence',\n",
    "'property',\n",
    "'age',\n",
    "'other installment plans',\n",
    "'housing',\n",
    "'existing credits',\n",
    "'job',\n",
    "'liability',\n",
    "'telephone',\n",
    "'foreign worker',\n",
    "'risk']\n",
    "\n",
    "df = pd.read_csv(\"s3800119_Data.csv\", \n",
    "                   sep = ',', \n",
    "                   names = attributeNames)\n"
   ]
  },
  {
   "cell_type": "markdown",
   "metadata": {},
   "source": [
    "There were no ID like columns in the dataset."
   ]
  },
  {
   "cell_type": "code",
   "execution_count": 3,
   "metadata": {},
   "outputs": [
    {
     "data": {
      "text/html": [
       "<div>\n",
       "<style scoped>\n",
       "    .dataframe tbody tr th:only-of-type {\n",
       "        vertical-align: middle;\n",
       "    }\n",
       "\n",
       "    .dataframe tbody tr th {\n",
       "        vertical-align: top;\n",
       "    }\n",
       "\n",
       "    .dataframe thead th {\n",
       "        text-align: right;\n",
       "    }\n",
       "</style>\n",
       "<table border=\"1\" class=\"dataframe\">\n",
       "  <thead>\n",
       "    <tr style=\"text-align: right;\">\n",
       "      <th></th>\n",
       "      <th>checking_account</th>\n",
       "      <th>duration</th>\n",
       "      <th>credit history</th>\n",
       "      <th>purpose</th>\n",
       "      <th>credit amount</th>\n",
       "      <th>savings account</th>\n",
       "      <th>employment status</th>\n",
       "      <th>rate</th>\n",
       "      <th>status_sex</th>\n",
       "      <th>debt</th>\n",
       "      <th>residence</th>\n",
       "      <th>property</th>\n",
       "      <th>age</th>\n",
       "      <th>other installment plans</th>\n",
       "      <th>housing</th>\n",
       "      <th>existing credits</th>\n",
       "      <th>job</th>\n",
       "      <th>liability</th>\n",
       "      <th>telephone</th>\n",
       "      <th>foreign worker</th>\n",
       "      <th>risk</th>\n",
       "    </tr>\n",
       "  </thead>\n",
       "  <tbody>\n",
       "    <tr>\n",
       "      <th>0</th>\n",
       "      <td>A11</td>\n",
       "      <td>6</td>\n",
       "      <td>A34</td>\n",
       "      <td>A43</td>\n",
       "      <td>1169</td>\n",
       "      <td>A65</td>\n",
       "      <td>A75</td>\n",
       "      <td>4</td>\n",
       "      <td>A93</td>\n",
       "      <td>A101</td>\n",
       "      <td>4</td>\n",
       "      <td>A121</td>\n",
       "      <td>67</td>\n",
       "      <td>A143</td>\n",
       "      <td>A152</td>\n",
       "      <td>2</td>\n",
       "      <td>A173</td>\n",
       "      <td>1</td>\n",
       "      <td>A192</td>\n",
       "      <td>A201</td>\n",
       "      <td>1</td>\n",
       "    </tr>\n",
       "    <tr>\n",
       "      <th>1</th>\n",
       "      <td>A12</td>\n",
       "      <td>48</td>\n",
       "      <td>A32</td>\n",
       "      <td>A43</td>\n",
       "      <td>5951</td>\n",
       "      <td>A61</td>\n",
       "      <td>A73</td>\n",
       "      <td>2</td>\n",
       "      <td>A92</td>\n",
       "      <td>A101</td>\n",
       "      <td>2</td>\n",
       "      <td>A121</td>\n",
       "      <td>22</td>\n",
       "      <td>A143</td>\n",
       "      <td>A152</td>\n",
       "      <td>1</td>\n",
       "      <td>A173</td>\n",
       "      <td>1</td>\n",
       "      <td>A191</td>\n",
       "      <td>A201</td>\n",
       "      <td>2</td>\n",
       "    </tr>\n",
       "    <tr>\n",
       "      <th>2</th>\n",
       "      <td>A14</td>\n",
       "      <td>12</td>\n",
       "      <td>A34</td>\n",
       "      <td>A46</td>\n",
       "      <td>2096</td>\n",
       "      <td>A61</td>\n",
       "      <td>A74</td>\n",
       "      <td>2</td>\n",
       "      <td>A93</td>\n",
       "      <td>A101</td>\n",
       "      <td>3</td>\n",
       "      <td>A121</td>\n",
       "      <td>49</td>\n",
       "      <td>A143</td>\n",
       "      <td>A152</td>\n",
       "      <td>1</td>\n",
       "      <td>A172</td>\n",
       "      <td>2</td>\n",
       "      <td>A191</td>\n",
       "      <td>A201</td>\n",
       "      <td>1</td>\n",
       "    </tr>\n",
       "    <tr>\n",
       "      <th>3</th>\n",
       "      <td>A11</td>\n",
       "      <td>42</td>\n",
       "      <td>A32</td>\n",
       "      <td>A42</td>\n",
       "      <td>7882</td>\n",
       "      <td>A61</td>\n",
       "      <td>A74</td>\n",
       "      <td>2</td>\n",
       "      <td>A93</td>\n",
       "      <td>A103</td>\n",
       "      <td>4</td>\n",
       "      <td>A122</td>\n",
       "      <td>45</td>\n",
       "      <td>A143</td>\n",
       "      <td>A153</td>\n",
       "      <td>1</td>\n",
       "      <td>A173</td>\n",
       "      <td>2</td>\n",
       "      <td>A191</td>\n",
       "      <td>A201</td>\n",
       "      <td>1</td>\n",
       "    </tr>\n",
       "    <tr>\n",
       "      <th>4</th>\n",
       "      <td>A11</td>\n",
       "      <td>24</td>\n",
       "      <td>A33</td>\n",
       "      <td>A40</td>\n",
       "      <td>4870</td>\n",
       "      <td>A61</td>\n",
       "      <td>A73</td>\n",
       "      <td>3</td>\n",
       "      <td>A93</td>\n",
       "      <td>A101</td>\n",
       "      <td>4</td>\n",
       "      <td>A124</td>\n",
       "      <td>53</td>\n",
       "      <td>A143</td>\n",
       "      <td>A153</td>\n",
       "      <td>2</td>\n",
       "      <td>A173</td>\n",
       "      <td>2</td>\n",
       "      <td>A191</td>\n",
       "      <td>A201</td>\n",
       "      <td>2</td>\n",
       "    </tr>\n",
       "  </tbody>\n",
       "</table>\n",
       "</div>"
      ],
      "text/plain": [
       "  checking_account  duration credit history purpose  credit amount  \\\n",
       "0              A11         6            A34     A43           1169   \n",
       "1              A12        48            A32     A43           5951   \n",
       "2              A14        12            A34     A46           2096   \n",
       "3              A11        42            A32     A42           7882   \n",
       "4              A11        24            A33     A40           4870   \n",
       "\n",
       "  savings account employment status  rate status_sex  debt  residence  \\\n",
       "0             A65               A75     4        A93  A101          4   \n",
       "1             A61               A73     2        A92  A101          2   \n",
       "2             A61               A74     2        A93  A101          3   \n",
       "3             A61               A74     2        A93  A103          4   \n",
       "4             A61               A73     3        A93  A101          4   \n",
       "\n",
       "  property  age other installment plans housing  existing credits   job  \\\n",
       "0     A121   67                    A143    A152                 2  A173   \n",
       "1     A121   22                    A143    A152                 1  A173   \n",
       "2     A121   49                    A143    A152                 1  A172   \n",
       "3     A122   45                    A143    A153                 1  A173   \n",
       "4     A124   53                    A143    A153                 2  A173   \n",
       "\n",
       "   liability telephone foreign worker  risk  \n",
       "0          1      A192           A201     1  \n",
       "1          1      A191           A201     2  \n",
       "2          2      A191           A201     1  \n",
       "3          2      A191           A201     1  \n",
       "4          2      A191           A201     2  "
      ]
     },
     "execution_count": 3,
     "metadata": {},
     "output_type": "execute_result"
    }
   ],
   "source": [
    "df.head(5)"
   ]
  },
  {
   "cell_type": "code",
   "execution_count": 4,
   "metadata": {},
   "outputs": [
    {
     "name": "stdout",
     "output_type": "stream",
     "text": [
      "(1000, 21)\n"
     ]
    }
   ],
   "source": [
    "print(df.shape)"
   ]
  },
  {
   "cell_type": "markdown",
   "metadata": {},
   "source": [
    "## 2.2 Types of variable"
   ]
  },
  {
   "cell_type": "code",
   "execution_count": 5,
   "metadata": {},
   "outputs": [
    {
     "data": {
      "text/plain": [
       "checking_account           object\n",
       "duration                    int64\n",
       "credit history             object\n",
       "purpose                    object\n",
       "credit amount               int64\n",
       "savings account            object\n",
       "employment status          object\n",
       "rate                        int64\n",
       "status_sex                 object\n",
       "debt                       object\n",
       "residence                   int64\n",
       "property                   object\n",
       "age                         int64\n",
       "other installment plans    object\n",
       "housing                    object\n",
       "existing credits            int64\n",
       "job                        object\n",
       "liability                   int64\n",
       "telephone                  object\n",
       "foreign worker             object\n",
       "risk                        int64\n",
       "dtype: object"
      ]
     },
     "execution_count": 5,
     "metadata": {},
     "output_type": "execute_result"
    }
   ],
   "source": [
    " df.dtypes"
   ]
  },
  {
   "cell_type": "markdown",
   "metadata": {},
   "source": [
    "## 2.3 Checking for Missing Values & Unique values"
   ]
  },
  {
   "cell_type": "code",
   "execution_count": 6,
   "metadata": {},
   "outputs": [
    {
     "data": {
      "text/plain": [
       "checking_account           0\n",
       "duration                   0\n",
       "credit history             0\n",
       "purpose                    0\n",
       "credit amount              0\n",
       "savings account            0\n",
       "employment status          0\n",
       "rate                       0\n",
       "status_sex                 0\n",
       "debt                       0\n",
       "residence                  0\n",
       "property                   0\n",
       "age                        0\n",
       "other installment plans    0\n",
       "housing                    0\n",
       "existing credits           0\n",
       "job                        0\n",
       "liability                  0\n",
       "telephone                  0\n",
       "foreign worker             0\n",
       "risk                       0\n",
       "dtype: int64"
      ]
     },
     "execution_count": 6,
     "metadata": {},
     "output_type": "execute_result"
    }
   ],
   "source": [
    "df.isna().sum()"
   ]
  },
  {
   "cell_type": "code",
   "execution_count": 7,
   "metadata": {},
   "outputs": [
    {
     "name": "stdout",
     "output_type": "stream",
     "text": [
      "checking_account             4\n",
      "duration                    33\n",
      "credit history               5\n",
      "purpose                     10\n",
      "credit amount              921\n",
      "savings account              5\n",
      "employment status            5\n",
      "rate                         4\n",
      "status_sex                   4\n",
      "debt                         3\n",
      "residence                    4\n",
      "property                     4\n",
      "age                         53\n",
      "other installment plans      3\n",
      "housing                      3\n",
      "existing credits             4\n",
      "job                          4\n",
      "liability                    2\n",
      "telephone                    2\n",
      "foreign worker               2\n",
      "risk                         2\n",
      "dtype: int64\n"
     ]
    }
   ],
   "source": [
    "print(df.nunique())"
   ]
  },
  {
   "cell_type": "markdown",
   "metadata": {},
   "source": [
    "## 2.4 Converting categorical and numerical columns to relevant data types"
   ]
  },
  {
   "cell_type": "code",
   "execution_count": 8,
   "metadata": {},
   "outputs": [],
   "source": [
    "cat_cols = ['status_sex', 'job', 'housing', 'savings account','checking_account','purpose', 'risk']\n",
    "num_cols = [ 'credit amount', 'duration']\n",
    "\n",
    "df[cat_cols] = df[cat_cols].astype(np.object)\n",
    "df[num_cols] = df[num_cols].astype(np.number)"
   ]
  },
  {
   "cell_type": "markdown",
   "metadata": {},
   "source": [
    "## 2.5 Inserting proper categories to columns"
   ]
  },
  {
   "cell_type": "code",
   "execution_count": 9,
   "metadata": {},
   "outputs": [],
   "source": [
    "df[\"checking_account\"].replace({\"A11\": \"0 DM\", \"A12\": \"0 - 200 DM\", \"A13\": \">200 DM\", \"A14\": \"No Checking account\"}, inplace=True)\n",
    "\n",
    "df[\"credit history\"].replace({\"A30\": \"no creds taken\", \"A31\": \"all creds paid back\", \"A32\": \"existing creds paid back\", \"A33\": \"delay in paying\",\n",
    "                              \"A34\": \"critical account\"}, inplace=True)\n",
    "\n",
    "df[\"purpose\"].replace({\"A40\": \"new car\", \"A41\": \"used car\", \"A42\": \"furniture\", \"A43\": \"radio/tv\",\"A44\": \"domestic applicances\",\"A45\": \"repairs\", \n",
    "                       \"A46\": \"education\", \"A47\": \"vacation\", \"A48\": \"retraining\", \"A49\": \"business\", \"A410\": \"others\",}, inplace=True)\n",
    "\n",
    "df[\"savings account\"].replace({\"A61\": \"<100 DM\", \"A62\": \"100 - 500 DM\", \"A63\": \"500 - 1000 DM\", \"A64\": \">1000 DM\",\"A65\": \"No savings account\"}, inplace=True)\n",
    "\n",
    "df[\"employment status\"].replace({\"A71\": \"Unemployed\", \"A72\": \"<1 year\", \"A73\": \"1 - 4 years\", \"A74\": \"4 - 7 years\", \"A75\": \">7 years\"}, inplace=True)\n",
    "\n",
    "df[\"status_sex\"].replace({\"A91\": \"M/D\", \"A92\": \"F/D,M\", \"A93\": \"M/S\", \"A94\": \"M/M\", \"A95\": \"F/S\"}, inplace=True)\n",
    "\n",
    "df[\"debt\"].replace({\"A101\": \"no debt\", \"A102\": \"co-applicant\", \"A103\": \"guarantor\"}, inplace=True)\n",
    "\n",
    "df[\"property\"].replace({\"A121\": \"real estate\", \"A122\": \"life inusrance\", \"A123\": \"car\", \"A124\": \"no property\"}, inplace=True)\n",
    "\n",
    "df[\"other installment plans\"].replace({\"A141\": \"bank\", \"A142\": \"stores\", \"A143\": \"none\"}, inplace=True)\n",
    "\n",
    "df[\"housing\"].replace({\"A151\": \"rent\", \"A152\": \"own\", \"A153\": \"for free\"}, inplace=True)\n",
    "\n",
    "df[\"job\"].replace({\"A171\": \"unemployed\", \"A172\": \"unskilled\", \"A173\": \"skilled\", \"A174\": \"management\"}, inplace=True)\n",
    "\n",
    "df[\"telephone\"].replace({\"A191\": \"none\", \"A192\": \"yes\"}, inplace=True)\n",
    "\n",
    "df[\"foreign worker\"].replace({\"A201\": \"yes\", \"A202\": \"no\"}, inplace=True)\n",
    "\n",
    "df['risk'].replace({1: 'Good', 2: 'Bad'}, inplace= True)"
   ]
  },
  {
   "cell_type": "markdown",
   "metadata": {},
   "source": [
    "## 2.6 Converting Age column to categorical variable"
   ]
  },
  {
   "cell_type": "markdown",
   "metadata": {},
   "source": [
    "We converted the continuous age variable into 4 categories -\n",
    "\n",
    "student = 18 to 25 years old \n",
    "\n",
    "young = 26 to 35 years old \n",
    "\n",
    "adults = 36 to 60 years old\n",
    "\n",
    "Senior =  > 61 years old"
   ]
  },
  {
   "cell_type": "code",
   "execution_count": 10,
   "metadata": {},
   "outputs": [],
   "source": [
    "interval = (18, 25, 35, 60, 120)\n",
    "cats = ['Student', 'Young', 'Adult', 'Senior']\n",
    "df[\"Age_cat\"] = pd.cut(df['age'], interval, labels=cats)\n",
    "\n",
    "#df = df.drop(columns = 'age') - performed after data visualisation"
   ]
  },
  {
   "cell_type": "markdown",
   "metadata": {},
   "source": [
    "Converting remanining categorical columns to proper data type(object)"
   ]
  },
  {
   "cell_type": "code",
   "execution_count": 11,
   "metadata": {},
   "outputs": [
    {
     "data": {
      "text/plain": [
       "checking_account            object\n",
       "duration                   float64\n",
       "credit history              object\n",
       "purpose                     object\n",
       "credit amount              float64\n",
       "savings account             object\n",
       "employment status           object\n",
       "rate                        object\n",
       "status_sex                  object\n",
       "debt                        object\n",
       "residence                   object\n",
       "property                    object\n",
       "age                          int64\n",
       "other installment plans     object\n",
       "housing                     object\n",
       "existing credits            object\n",
       "job                         object\n",
       "liability                   object\n",
       "telephone                   object\n",
       "foreign worker              object\n",
       "risk                        object\n",
       "Age_cat                     object\n",
       "dtype: object"
      ]
     },
     "execution_count": 11,
     "metadata": {},
     "output_type": "execute_result"
    }
   ],
   "source": [
    "\n",
    "df[\"rate\"] = df[\"rate\"].astype(np.object)\n",
    "df[\"residence\"] = df[\"residence\"].astype(np.object)\n",
    "df[\"existing credits\"] = df[\"existing credits\"].astype(np.object)\n",
    "df[\"liability\"] = df[\"liability\"].astype(np.object)\n",
    "df[\"risk\"] = df[\"risk\"].astype(np.object)\n",
    "df[\"Age_cat\"] = df[\"Age_cat\"].astype(np.object)\n",
    "\n",
    "df.dtypes"
   ]
  },
  {
   "cell_type": "markdown",
   "metadata": {},
   "source": [
    "## 2.7 Summary statistics"
   ]
  },
  {
   "cell_type": "markdown",
   "metadata": {},
   "source": [
    "Summary statistics for numeric variables are given below:"
   ]
  },
  {
   "cell_type": "code",
   "execution_count": 12,
   "metadata": {},
   "outputs": [
    {
     "data": {
      "text/html": [
       "<div>\n",
       "<style scoped>\n",
       "    .dataframe tbody tr th:only-of-type {\n",
       "        vertical-align: middle;\n",
       "    }\n",
       "\n",
       "    .dataframe tbody tr th {\n",
       "        vertical-align: top;\n",
       "    }\n",
       "\n",
       "    .dataframe thead th {\n",
       "        text-align: right;\n",
       "    }\n",
       "</style>\n",
       "<table border=\"1\" class=\"dataframe\">\n",
       "  <thead>\n",
       "    <tr style=\"text-align: right;\">\n",
       "      <th></th>\n",
       "      <th>duration</th>\n",
       "      <th>credit amount</th>\n",
       "      <th>age</th>\n",
       "    </tr>\n",
       "  </thead>\n",
       "  <tbody>\n",
       "    <tr>\n",
       "      <th>count</th>\n",
       "      <td>1000.000000</td>\n",
       "      <td>1000.000000</td>\n",
       "      <td>1000.000000</td>\n",
       "    </tr>\n",
       "    <tr>\n",
       "      <th>mean</th>\n",
       "      <td>20.903000</td>\n",
       "      <td>3271.258000</td>\n",
       "      <td>35.546000</td>\n",
       "    </tr>\n",
       "    <tr>\n",
       "      <th>std</th>\n",
       "      <td>12.058814</td>\n",
       "      <td>2822.736876</td>\n",
       "      <td>11.375469</td>\n",
       "    </tr>\n",
       "    <tr>\n",
       "      <th>min</th>\n",
       "      <td>4.000000</td>\n",
       "      <td>250.000000</td>\n",
       "      <td>19.000000</td>\n",
       "    </tr>\n",
       "    <tr>\n",
       "      <th>25%</th>\n",
       "      <td>12.000000</td>\n",
       "      <td>1365.500000</td>\n",
       "      <td>27.000000</td>\n",
       "    </tr>\n",
       "    <tr>\n",
       "      <th>50%</th>\n",
       "      <td>18.000000</td>\n",
       "      <td>2319.500000</td>\n",
       "      <td>33.000000</td>\n",
       "    </tr>\n",
       "    <tr>\n",
       "      <th>75%</th>\n",
       "      <td>24.000000</td>\n",
       "      <td>3972.250000</td>\n",
       "      <td>42.000000</td>\n",
       "    </tr>\n",
       "    <tr>\n",
       "      <th>max</th>\n",
       "      <td>72.000000</td>\n",
       "      <td>18424.000000</td>\n",
       "      <td>75.000000</td>\n",
       "    </tr>\n",
       "  </tbody>\n",
       "</table>\n",
       "</div>"
      ],
      "text/plain": [
       "          duration  credit amount          age\n",
       "count  1000.000000    1000.000000  1000.000000\n",
       "mean     20.903000    3271.258000    35.546000\n",
       "std      12.058814    2822.736876    11.375469\n",
       "min       4.000000     250.000000    19.000000\n",
       "25%      12.000000    1365.500000    27.000000\n",
       "50%      18.000000    2319.500000    33.000000\n",
       "75%      24.000000    3972.250000    42.000000\n",
       "max      72.000000   18424.000000    75.000000"
      ]
     },
     "execution_count": 12,
     "metadata": {},
     "output_type": "execute_result"
    }
   ],
   "source": [
    "df.describe()"
   ]
  },
  {
   "cell_type": "markdown",
   "metadata": {},
   "source": [
    "Summary statistics for categorical variables are below:"
   ]
  },
  {
   "cell_type": "code",
   "execution_count": 13,
   "metadata": {
    "scrolled": true
   },
   "outputs": [
    {
     "data": {
      "text/html": [
       "<div>\n",
       "<style scoped>\n",
       "    .dataframe tbody tr th:only-of-type {\n",
       "        vertical-align: middle;\n",
       "    }\n",
       "\n",
       "    .dataframe tbody tr th {\n",
       "        vertical-align: top;\n",
       "    }\n",
       "\n",
       "    .dataframe thead th {\n",
       "        text-align: right;\n",
       "    }\n",
       "</style>\n",
       "<table border=\"1\" class=\"dataframe\">\n",
       "  <thead>\n",
       "    <tr style=\"text-align: right;\">\n",
       "      <th></th>\n",
       "      <th>checking_account</th>\n",
       "      <th>credit history</th>\n",
       "      <th>purpose</th>\n",
       "      <th>savings account</th>\n",
       "      <th>employment status</th>\n",
       "      <th>rate</th>\n",
       "      <th>status_sex</th>\n",
       "      <th>debt</th>\n",
       "      <th>residence</th>\n",
       "      <th>property</th>\n",
       "      <th>other installment plans</th>\n",
       "      <th>housing</th>\n",
       "      <th>existing credits</th>\n",
       "      <th>job</th>\n",
       "      <th>liability</th>\n",
       "      <th>telephone</th>\n",
       "      <th>foreign worker</th>\n",
       "      <th>risk</th>\n",
       "      <th>Age_cat</th>\n",
       "    </tr>\n",
       "  </thead>\n",
       "  <tbody>\n",
       "    <tr>\n",
       "      <th>count</th>\n",
       "      <td>1000</td>\n",
       "      <td>1000</td>\n",
       "      <td>1000</td>\n",
       "      <td>1000</td>\n",
       "      <td>1000</td>\n",
       "      <td>1000</td>\n",
       "      <td>1000</td>\n",
       "      <td>1000</td>\n",
       "      <td>1000</td>\n",
       "      <td>1000</td>\n",
       "      <td>1000</td>\n",
       "      <td>1000</td>\n",
       "      <td>1000</td>\n",
       "      <td>1000</td>\n",
       "      <td>1000</td>\n",
       "      <td>1000</td>\n",
       "      <td>1000</td>\n",
       "      <td>1000</td>\n",
       "      <td>1000</td>\n",
       "    </tr>\n",
       "    <tr>\n",
       "      <th>unique</th>\n",
       "      <td>4</td>\n",
       "      <td>5</td>\n",
       "      <td>10</td>\n",
       "      <td>5</td>\n",
       "      <td>5</td>\n",
       "      <td>4</td>\n",
       "      <td>4</td>\n",
       "      <td>3</td>\n",
       "      <td>4</td>\n",
       "      <td>4</td>\n",
       "      <td>3</td>\n",
       "      <td>3</td>\n",
       "      <td>4</td>\n",
       "      <td>4</td>\n",
       "      <td>2</td>\n",
       "      <td>2</td>\n",
       "      <td>2</td>\n",
       "      <td>2</td>\n",
       "      <td>4</td>\n",
       "    </tr>\n",
       "    <tr>\n",
       "      <th>top</th>\n",
       "      <td>No Checking account</td>\n",
       "      <td>existing creds paid back</td>\n",
       "      <td>radio/tv</td>\n",
       "      <td>&lt;100 DM</td>\n",
       "      <td>1 - 4 years</td>\n",
       "      <td>4</td>\n",
       "      <td>M/S</td>\n",
       "      <td>no debt</td>\n",
       "      <td>4</td>\n",
       "      <td>car</td>\n",
       "      <td>none</td>\n",
       "      <td>own</td>\n",
       "      <td>1</td>\n",
       "      <td>skilled</td>\n",
       "      <td>1</td>\n",
       "      <td>none</td>\n",
       "      <td>yes</td>\n",
       "      <td>Good</td>\n",
       "      <td>Young</td>\n",
       "    </tr>\n",
       "    <tr>\n",
       "      <th>freq</th>\n",
       "      <td>394</td>\n",
       "      <td>530</td>\n",
       "      <td>280</td>\n",
       "      <td>603</td>\n",
       "      <td>339</td>\n",
       "      <td>476</td>\n",
       "      <td>548</td>\n",
       "      <td>907</td>\n",
       "      <td>413</td>\n",
       "      <td>332</td>\n",
       "      <td>814</td>\n",
       "      <td>713</td>\n",
       "      <td>633</td>\n",
       "      <td>630</td>\n",
       "      <td>845</td>\n",
       "      <td>596</td>\n",
       "      <td>963</td>\n",
       "      <td>700</td>\n",
       "      <td>398</td>\n",
       "    </tr>\n",
       "  </tbody>\n",
       "</table>\n",
       "</div>"
      ],
      "text/plain": [
       "           checking_account            credit history   purpose  \\\n",
       "count                  1000                      1000      1000   \n",
       "unique                    4                         5        10   \n",
       "top     No Checking account  existing creds paid back  radio/tv   \n",
       "freq                    394                       530       280   \n",
       "\n",
       "       savings account employment status  rate status_sex     debt  residence  \\\n",
       "count             1000              1000  1000       1000     1000       1000   \n",
       "unique               5                 5     4          4        3          4   \n",
       "top            <100 DM       1 - 4 years     4        M/S  no debt          4   \n",
       "freq               603               339   476        548      907        413   \n",
       "\n",
       "       property other installment plans housing  existing credits      job  \\\n",
       "count      1000                    1000    1000              1000     1000   \n",
       "unique        4                       3       3                 4        4   \n",
       "top         car                    none     own                 1  skilled   \n",
       "freq        332                     814     713               633      630   \n",
       "\n",
       "        liability telephone foreign worker  risk Age_cat  \n",
       "count        1000      1000           1000  1000    1000  \n",
       "unique          2         2              2     2       4  \n",
       "top             1      none            yes  Good   Young  \n",
       "freq          845       596            963   700     398  "
      ]
     },
     "execution_count": 13,
     "metadata": {},
     "output_type": "execute_result"
    }
   ],
   "source": [
    "df.describe(include = np.object) "
   ]
  },
  {
   "cell_type": "markdown",
   "metadata": {},
   "source": [
    "# 3. Data Visualization"
   ]
  },
  {
   "cell_type": "markdown",
   "metadata": {},
   "source": [
    "## 3.1 Univariate Plots"
   ]
  },
  {
   "cell_type": "code",
   "execution_count": 14,
   "metadata": {},
   "outputs": [
    {
     "data": {
      "image/png": "[encoded data removed]",
      "text/plain": [
       "<Figure size 432x288 with 1 Axes>"
      ]
     },
     "metadata": {
      "needs_background": "light"
     },
     "output_type": "display_data"
    }
   ],
   "source": [
    "ax = df['risk'].value_counts().plot(kind = 'bar')\n",
    "ax.set_xticklabels(ax.get_xticklabels(), rotation = 90)\n",
    "plt.tight_layout()\n",
    "plt.title('Figure 1: Bar Chart of Credit Risk', fontsize = 15)\n",
    "plt.show();"
   ]
  },
  {
   "cell_type": "markdown",
   "metadata": {},
   "source": [
    "We have 700 good credit customers & 300 bad credit customers."
   ]
  },
  {
   "cell_type": "code",
   "execution_count": 15,
   "metadata": {},
   "outputs": [
    {
     "data": {
      "image/png": "[encoded data removed]",
      "text/plain": [
       "<Figure size 432x288 with 1 Axes>"
      ]
     },
     "metadata": {
      "needs_background": "light"
     },
     "output_type": "display_data"
    }
   ],
   "source": [
    "# get a box plot of age\n",
    "sns.boxplot(df['age']).set_title('Figure 2: Box Plot of Age', fontsize = 15)\n",
    "plt.show();"
   ]
  },
  {
   "cell_type": "markdown",
   "metadata": {},
   "source": [
    "The mean age of people applying for credits is around 33 years."
   ]
  },
  {
   "cell_type": "code",
   "execution_count": 16,
   "metadata": {},
   "outputs": [
    {
     "data": {
      "text/plain": [
       "Text(0.5, 1.0, 'Number of credits taken by Age category')"
      ]
     },
     "execution_count": 16,
     "metadata": {},
     "output_type": "execute_result"
    },
    {
     "data": {
      "image/png": "[encoded data removed]",
      "text/plain": [
       "<Figure size 432x288 with 1 Axes>"
      ]
     },
     "metadata": {
      "needs_background": "light"
     },
     "output_type": "display_data"
    }
   ],
   "source": [
    "df['Age_cat'].value_counts().plot.bar().set_title(\"Number of credits taken by Age category\", fontsize = 15)"
   ]
  },
  {
   "cell_type": "markdown",
   "metadata": {},
   "source": [
    "The bar graph shows that applications for credit are mostly placed by young people."
   ]
  },
  {
   "cell_type": "code",
   "execution_count": 17,
   "metadata": {},
   "outputs": [
    {
     "data": {
      "text/plain": [
       "Text(0.5, 1.0, 'Credit amount distribution')"
      ]
     },
     "execution_count": 17,
     "metadata": {},
     "output_type": "execute_result"
    },
    {
     "data": {
      "image/png": "[encoded data removed]",
      "text/plain": [
       "<Figure size 432x288 with 1 Axes>"
      ]
     },
     "metadata": {
      "needs_background": "light"
     },
     "output_type": "display_data"
    }
   ],
   "source": [
    "df['credit amount'].plot(kind='density').set_title(\"Credit amount distribution\")"
   ]
  },
  {
   "cell_type": "markdown",
   "metadata": {},
   "source": [
    "Most credit amount is given to customers is under 5000 Euros."
   ]
  },
  {
   "cell_type": "code",
   "execution_count": 18,
   "metadata": {},
   "outputs": [
    {
     "data": {
      "image/png": "[encoded data removed]",
      "text/plain": [
       "<Figure size 432x288 with 1 Axes>"
      ]
     },
     "metadata": {
      "needs_background": "light"
     },
     "output_type": "display_data"
    }
   ],
   "source": [
    "# histogram of age with kernel density estimate\n",
    "sns.distplot(df['age'], kde = True).set_title('Figure 3: Histogram of Age', fontsize = 15)\n",
    "plt.show();"
   ]
  },
  {
   "cell_type": "markdown",
   "metadata": {},
   "source": [
    "## 3.2 Bivariate Plots"
   ]
  },
  {
   "cell_type": "code",
   "execution_count": 19,
   "metadata": {},
   "outputs": [
    {
     "data": {
      "text/plain": [
       "Text(0.5, 1.0, 'Credit amount based on Age category')"
      ]
     },
     "execution_count": 19,
     "metadata": {},
     "output_type": "execute_result"
    },
    {
     "data": {
      "image/png": "[encoded data removed]",
      "text/plain": [
       "<Figure size 360x360 with 1 Axes>"
      ]
     },
     "metadata": {
      "needs_background": "light"
     },
     "output_type": "display_data"
    }
   ],
   "source": [
    "sns.catplot(x=\"Age_cat\", y=\"credit amount\", data=df)\n",
    "plt.title(\"Credit amount based on Age category\")\n"
   ]
  },
  {
   "cell_type": "markdown",
   "metadata": {},
   "source": [
    "The scatter plot shows that most credit amount is taken by adults & young people. Seniors tend to take less credits amount from banks."
   ]
  },
  {
   "cell_type": "code",
   "execution_count": 20,
   "metadata": {},
   "outputs": [
    {
     "data": {
      "text/plain": [
       "Text(0, 0.5, 'Loan duration(in months)')"
      ]
     },
     "execution_count": 20,
     "metadata": {},
     "output_type": "execute_result"
    },
    {
     "data": {
      "image/png": "[encoded data removed]",
      "text/plain": [
       "<Figure size 864x288 with 1 Axes>"
      ]
     },
     "metadata": {
      "needs_background": "light"
     },
     "output_type": "display_data"
    }
   ],
   "source": [
    "# Box Plots\n",
    "f, (ax) = plt.subplots(1, 1, figsize=(12, 4))\n",
    "f.suptitle('Loan duration(in months) by Purpose', fontsize=14)\n",
    "\n",
    "sns.boxplot(x=\"purpose\", y=\"duration\", data=df,  ax=ax)\n",
    "ax.set_xlabel(\"Purpose\",size = 12,alpha=0.8)\n",
    "ax.tick_params(axis='x', labelrotation=35)\n",
    "ax.set_ylabel(\"Loan duration(in months)\",size = 12,alpha=0.8)"
   ]
  },
  {
   "cell_type": "markdown",
   "metadata": {},
   "source": [
    "The graph above shows the boxplots of the purposes each client had for taking credit from the bank. We can see that most people get credit froma bank for education, cars and businesses."
   ]
  },
  {
   "cell_type": "code",
   "execution_count": 21,
   "metadata": {},
   "outputs": [
    {
     "data": {
      "text/plain": [
       "Text(0.5, 1.0, 'Plot of credit amount w.r.t duration')"
      ]
     },
     "execution_count": 21,
     "metadata": {},
     "output_type": "execute_result"
    },
    {
     "data": {
      "image/png": "[encoded data removed]",
      "text/plain": [
       "<Figure size 432x288 with 1 Axes>"
      ]
     },
     "metadata": {
      "needs_background": "light"
     },
     "output_type": "display_data"
    }
   ],
   "source": [
    "df.plot.scatter(x='duration',\n",
    "                y='credit amount',\n",
    "                c='DarkBlue').set_title(\"Plot of credit amount w.r.t duration\")\n"
   ]
  },
  {
   "cell_type": "markdown",
   "metadata": {},
   "source": [
    "## 3.3 Multivariate Plots"
   ]
  },
  {
   "cell_type": "code",
   "execution_count": 22,
   "metadata": {},
   "outputs": [
    {
     "data": {
      "image/png": "[encoded data removed]",
      "text/plain": [
       "<Figure size 1080x1080 with 2 Axes>"
      ]
     },
     "metadata": {
      "needs_background": "light"
     },
     "output_type": "display_data"
    },
    {
     "data": {
      "text/plain": [
       "{'corr':                          checking_account  duration  credit history   purpose  \\\n",
       " checking_account                 1.000000  0.118855        0.026139  0.018842   \n",
       " duration                         0.118855  1.000000        0.194654  0.273692   \n",
       " credit history                   0.024831  0.194654        1.000000  0.025614   \n",
       " purpose                          0.027883  0.273692        0.039900  1.000000   \n",
       " credit amount                    0.145556  0.624984        0.193283  0.370954   \n",
       " savings account                  0.037330  0.105586        0.009393  0.014289   \n",
       " employment status                0.011421  0.093996        0.017312  0.015998   \n",
       " rate                             0.074606  0.074749        0.072874  0.182953   \n",
       " status_sex                       0.005207  0.133419        0.011302  0.018441   \n",
       " debt                             0.009894  0.048387        0.009172  0.012432   \n",
       " residence                        0.108725  0.034067        0.098787  0.151836   \n",
       " property                         0.006893  0.304274        0.007824  0.033483   \n",
       " age                              0.090730 -0.036136        0.176836  0.171765   \n",
       " other installment plans          0.001695  0.077902        0.030006  0.010225   \n",
       " housing                          0.007726  0.192174        0.007789  0.022393   \n",
       " existing credits                 0.097804 -0.011284        0.595094  0.146968   \n",
       " job                              0.006513  0.218688        0.005593  0.029645   \n",
       " liability                        0.076944 -0.023834        0.097687  0.163750   \n",
       " telephone                        0.002639  0.164718        0.002144  0.013384   \n",
       " foreign worker                   0.002581  0.138196        0.003431  0.007179   \n",
       " risk                             0.052573  0.214927        0.025480  0.009335   \n",
       " Age_cat                          0.010440  0.062466        0.023909  0.016317   \n",
       " \n",
       "                          credit amount  savings account  employment status  \\\n",
       " checking_account              0.145556         0.039858           0.009549   \n",
       " duration                      0.624984         0.105586           0.093996   \n",
       " credit history                0.193283         0.009528           0.013751   \n",
       " purpose                       0.370954         0.022578           0.019794   \n",
       " credit amount                 1.000000         0.129507           0.111905   \n",
       " savings account               0.129507         1.000000           0.010627   \n",
       " employment status             0.111905         0.013570           1.000000   \n",
       " rate                         -0.271316         0.046553           0.140501   \n",
       " status_sex                    0.187014         0.004986           0.028665   \n",
       " debt                          0.100164         0.011546           0.005217   \n",
       " residence                     0.028926         0.099015           0.325431   \n",
       " property                      0.318339         0.007897           0.020539   \n",
       " age                           0.032716         0.112603           0.409607   \n",
       " other installment plans       0.048336         0.000398           0.003227   \n",
       " housing                       0.201812         0.001975           0.019023   \n",
       " existing credits              0.020795         0.074588           0.154743   \n",
       " job                           0.334607         0.006799           0.062587   \n",
       " liability                     0.017142         0.033914           0.097989   \n",
       " telephone                     0.276995         0.003656           0.007580   \n",
       " foreign worker                0.050050         0.000748           0.003070   \n",
       " risk                          0.154739         0.016658           0.006079   \n",
       " Age_cat                       0.051216         0.011187           0.059826   \n",
       " \n",
       "                              rate  status_sex      debt  residence  property  \\\n",
       " checking_account         0.074606    0.006125  0.033111   0.108725  0.006377   \n",
       " duration                 0.074749    0.133419  0.048387   0.034067  0.304274   \n",
       " credit history           0.072874    0.012628  0.029159   0.098787  0.006876   \n",
       " purpose                  0.182953    0.032098  0.061568   0.151836  0.045841   \n",
       " credit amount           -0.271316    0.187014  0.100164   0.028926  0.318339   \n",
       " savings account          0.046553    0.005493  0.036189   0.099015  0.006843   \n",
       " employment status        0.140501    0.040323  0.020880   0.325431  0.022727   \n",
       " rate                     1.000000    0.143033  0.014840   0.049302  0.055589   \n",
       " status_sex               0.143033    1.000000  0.006117   0.113764  0.017479   \n",
       " debt                     0.014840    0.002150  1.000000   0.028335  0.015533   \n",
       " residence                0.049302    0.113764  0.028335   1.000000  0.191575   \n",
       " property                 0.055589    0.022221  0.056189   0.191575  1.000000   \n",
       " age                      0.058266    0.245809  0.030888   0.266419  0.224743   \n",
       " other installment plans  0.057177    0.003382  0.008428   0.055319  0.004725   \n",
       " housing                  0.094890    0.040270  0.011689   0.307190  0.166006   \n",
       " existing credits         0.021669    0.118680  0.025712   0.089625  0.018524   \n",
       " job                      0.111352    0.009094  0.022499   0.035411  0.041165   \n",
       " liability               -0.071207    0.284250  0.048008   0.042643  0.094770   \n",
       " telephone                0.014413    0.003767  0.008195   0.095359  0.014674   \n",
       " foreign worker           0.090024    0.002179  0.013679   0.054097  0.008211   \n",
       " risk                     0.072404    0.004445  0.008909   0.002967  0.008720   \n",
       " Age_cat                  0.072030    0.052490  0.001510   0.330547  0.018505   \n",
       " \n",
       "                               age  other installment plans   housing  \\\n",
       " checking_account         0.090730                 0.003616  0.012223   \n",
       " duration                -0.036136                 0.077902  0.192174   \n",
       " credit history           0.176836                 0.060810  0.011707   \n",
       " purpose                  0.171765                 0.032278  0.052427   \n",
       " credit amount            0.032716                 0.048336  0.201812   \n",
       " savings account          0.112603                 0.000796  0.002926   \n",
       " employment status        0.409607                 0.008232  0.035994   \n",
       " rate                     0.058266                 0.057177  0.094890   \n",
       " status_sex               0.245809                 0.006134  0.054167   \n",
       " debt                     0.030888                 0.005373  0.005526   \n",
       " residence                0.266419                 0.055319  0.307190   \n",
       " property                 0.224743                 0.010896  0.283880   \n",
       " age                      1.000000                 0.047069  0.307002   \n",
       " other installment plans  0.047069                 1.000000  0.012313   \n",
       " housing                  0.307002                 0.016603  1.000000   \n",
       " existing credits         0.149254                 0.050290  0.058105   \n",
       " job                      0.164476                 0.008896  0.019500   \n",
       " liability                0.118201                 0.077224  0.126136   \n",
       " telephone                0.145259                 0.000864  0.008705   \n",
       " foreign worker           0.006151                 0.003132  0.005728   \n",
       " risk                     0.091127                 0.010507  0.011197   \n",
       " Age_cat                  0.917500                 0.003580  0.074702   \n",
       " \n",
       "                          existing credits       job  liability  telephone  \\\n",
       " checking_account                 0.097804  0.008303   0.076944   0.004887   \n",
       " duration                        -0.011284  0.218688  -0.023834   0.164718   \n",
       " credit history                   0.595094  0.006774   0.097687   0.003772   \n",
       " purpose                          0.146968  0.055931   0.163750   0.036672   \n",
       " credit amount                    0.020795  0.334607   0.017142   0.276995   \n",
       " savings account                  0.074588  0.008119   0.033914   0.006340   \n",
       " employment status                0.154743  0.095435   0.097989   0.016786   \n",
       " rate                             0.021669  0.111352  -0.071207   0.014413   \n",
       " status_sex                       0.118680  0.009858   0.284250   0.005931   \n",
       " debt                             0.025712  0.008571   0.048008   0.004534   \n",
       " residence                        0.089625  0.035411   0.042643   0.095359   \n",
       " property                         0.018524  0.056728   0.094770   0.029368   \n",
       " age                              0.149254  0.164476   0.118201   0.145259   \n",
       " other installment plans          0.050290  0.005317   0.077224   0.000750   \n",
       " housing                          0.058105  0.015714   0.126136   0.010187   \n",
       " existing credits                 1.000000  0.060502   0.109667   0.065553   \n",
       " job                              0.060502  1.000000   0.145956   0.142838   \n",
       " liability                        0.109667  0.145956   1.000000   0.014753   \n",
       " telephone                        0.065553  0.098356   0.014753   1.000000   \n",
       " foreign worker                   0.009717  0.005135   0.077071   0.009860   \n",
       " risk                             0.045732  0.000946   0.003015   0.000990   \n",
       " Age_cat                          0.163956  0.030756   0.243371   0.026628   \n",
       " \n",
       "                          foreign worker      risk   Age_cat  \n",
       " checking_account               0.020364  0.107500  0.010961  \n",
       " duration                       0.138196  0.214927  0.062466  \n",
       " credit history                 0.025721  0.049493  0.023847  \n",
       " purpose                        0.083834  0.028247  0.025353  \n",
       " credit amount                  0.050050  0.154739  0.051216  \n",
       " savings account                0.005530  0.031902  0.011001  \n",
       " employment status              0.028978  0.014867  0.075125  \n",
       " rate                           0.090024  0.072404  0.072030  \n",
       " status_sex                     0.014621  0.007728  0.046857  \n",
       " debt                           0.032255  0.005443  0.000474  \n",
       " residence                      0.054097  0.002967  0.330547  \n",
       " property                       0.070038  0.019273  0.021001  \n",
       " age                            0.006151  0.091127  0.917500  \n",
       " other installment plans        0.011586  0.010071  0.001762  \n",
       " housing                        0.028568  0.014471  0.049576  \n",
       " existing credits               0.009717  0.045732  0.163956  \n",
       " job                            0.031781  0.001517  0.025329  \n",
       " liability                      0.077071  0.003015  0.243371  \n",
       " telephone                      0.042023  0.001093  0.015100  \n",
       " foreign worker                 1.000000  0.006607  0.002167  \n",
       " risk                           0.025499  1.000000  0.007675  \n",
       " Age_cat                        0.016283  0.014947  1.000000  ,\n",
       " 'ax': <matplotlib.axes._subplots.AxesSubplot at 0x17d905cf100>}"
      ]
     },
     "execution_count": 22,
     "metadata": {},
     "output_type": "execute_result"
    }
   ],
   "source": [
    "associations(df, theil_u=True, figsize=(15, 15))"
   ]
  },
  {
   "cell_type": "markdown",
   "metadata": {},
   "source": [
    "The correlation matrix above shows the correlation between each attributes in the dataset."
   ]
  },
  {
   "cell_type": "code",
   "execution_count": 23,
   "metadata": {},
   "outputs": [
    {
     "data": {
      "image/png": "[encoded data removed]",
      "text/plain": [
       "<Figure size 720x432 with 1 Axes>"
      ]
     },
     "metadata": {
      "needs_background": "light"
     },
     "output_type": "display_data"
    }
   ],
   "source": [
    "f, (ax2) = plt.subplots(1, 1, figsize=(10, 6))\n",
    "f.suptitle('Credit Amount - Gender/Status - Foreign Worker', fontsize=14)\n",
    "\n",
    "sns.violinplot(x=\"status_sex\", y=\"credit amount\", hue=\"foreign worker\", \n",
    "               data=df, split=True, inner=\"quart\", linewidth=1.3,\n",
    "               ax=ax2)\n",
    "ax2.set_xlabel(\"Gender and Status\",size = 12,alpha=0.8)\n",
    "ax2.set_ylabel(\"Credit Amount\",size = 12,alpha=0.8)\n",
    "l = plt.legend(loc='upper right', title='Foreign Worker')"
   ]
  },
  {
   "cell_type": "code",
   "execution_count": 24,
   "metadata": {},
   "outputs": [
    {
     "data": {
      "image/png": "[encoded data removed]",
      "text/plain": [
       "<Figure size 1440x432 with 2 Axes>"
      ]
     },
     "metadata": {
      "needs_background": "light"
     },
     "output_type": "display_data"
    }
   ],
   "source": [
    "# Visualizing 3-D mix data using box plots\n",
    "# leveraging the concepts of hue and axes for > 1 categorical dimensions\n",
    "f, (ax1, ax2) = plt.subplots(1, 2, figsize=(20, 6))\n",
    "f.suptitle('Purpose - Foreign worker status - Age - Duration (in months)', fontsize=14)\n",
    "\n",
    "sns.boxplot(x=\"purpose\", y=\"duration\", hue=\"foreign worker\",\n",
    "               data=df, ax=ax1)\n",
    "ax1.set_xlabel(\"Purpose\",size = 12,alpha=0.8)\n",
    "ax1.tick_params(axis='x', labelrotation=35)\n",
    "ax1.set_ylabel(\"Duration (in months)\",size = 12,alpha=0.8)\n",
    "\n",
    "sns.boxplot(x=\"Age_cat\", y=\"duration\", hue=\"foreign worker\",\n",
    "               data=df, ax=ax2)\n",
    "ax2.set_xlabel(\"Age (by category)\",size = 12,alpha=0.8)\n",
    "ax2.set_ylabel(\"Duration (in months)\",size = 12,alpha=0.8)\n",
    "l = plt.legend(loc='best', title='Foreign Worker')\n"
   ]
  },
  {
   "cell_type": "markdown",
   "metadata": {},
   "source": [
    "The above plot on the left show the distribution of foreign workers, their purposes of taking credit along with the duration of their credit.\n",
    "The right plot shows the ditribution of foreign workers taking credit w.r.t their age category and  duration of credit."
   ]
  },
  {
   "cell_type": "code",
   "execution_count": 25,
   "metadata": {},
   "outputs": [
    {
     "data": {
      "text/plain": [
       "<matplotlib.axes._subplots.AxesSubplot at 0x17d919e6880>"
      ]
     },
     "execution_count": 25,
     "metadata": {},
     "output_type": "execute_result"
    },
    {
     "data": {
      "image/png": "[encoded data removed]",
      "text/plain": [
       "<Figure size 432x288 with 1 Axes>"
      ]
     },
     "metadata": {
      "needs_background": "light"
     },
     "output_type": "display_data"
    }
   ],
   "source": [
    "sns.barplot(x=df.debt, y=df.duration, hue=df.status_sex,ci=None)"
   ]
  },
  {
   "cell_type": "markdown",
   "metadata": {},
   "source": [
    "the graph above shows the debt of each customer w.r.t to the duration of the credit they have taken from the bank. It highlights them based on their status and sex.\n",
    "\n",
    "\n",
    "  Divorced males have the highest rates of debt as guarantors and co-applicants, compared to other gender/status demographics.\n",
    "  On the other hand, females in general have lower rates of debt. While single males are likely to have no debt.\n"
   ]
  },
  {
   "cell_type": "code",
   "execution_count": 26,
   "metadata": {},
   "outputs": [
    {
     "data": {
      "image/png": "[encoded data removed]",
      "text/plain": [
       "<Figure size 432x288 with 1 Axes>"
      ]
     },
     "metadata": {
      "needs_background": "light"
     },
     "output_type": "display_data"
    }
   ],
   "source": [
    "sns.scatterplot(df['credit amount'], df['age'], hue = df['job'])\n",
    "plt.title('Figure 8: Scatterplot of credit amount by age coloured by job skill level', fontsize = 15);\n",
    "plt.legend(loc = 'upper right',fontsize = 8)\n",
    "from pylab import rcParams\n",
    "rcParams['figure.figsize'] = 8, 5\n",
    "plt.show();"
   ]
  },
  {
   "cell_type": "markdown",
   "metadata": {},
   "source": [
    "We can see that skilled people (blue) and people working in management (green) take credits with most credit amount. Also most people under tha age of 65 take credits with amount under 5000 euros."
   ]
  },
  {
   "cell_type": "markdown",
   "metadata": {},
   "source": [
    "## 4 Encoding Variables"
   ]
  },
  {
   "cell_type": "markdown",
   "metadata": {},
   "source": [
    "converting ordinal variables to category data type"
   ]
  },
  {
   "cell_type": "code",
   "execution_count": 27,
   "metadata": {},
   "outputs": [],
   "source": [
    "\n",
    "\n",
    "df[\"checking_account\"] = df[\"checking_account\"].astype('category')\n",
    "df[\"savings account\"] = df[\"savings account\"].astype('category')\n",
    "df[\"employment status\"] = df[\"employment status\"].astype('category')\n",
    "df[\"credit history\"] = df[\"credit history\"].astype('category')\n",
    "df[\"property\"] = df[\"property\"].astype('category')\n",
    "df[\"other installment plans\"] = df[\"other installment plans\"].astype('category')\n",
    "\n",
    "#Dropping duplicate age column\n",
    "df = df.drop(columns = 'age')"
   ]
  },
  {
   "cell_type": "markdown",
   "metadata": {},
   "source": [
    "Label/integer encoding the ordinal variables"
   ]
  },
  {
   "cell_type": "code",
   "execution_count": 28,
   "metadata": {},
   "outputs": [],
   "source": [
    "\n",
    "\n",
    "df[\"checking_account\"] = df[\"checking_account\"].cat.codes\n",
    "df[\"savings account\"] = df[\"savings account\"].cat.codes\n",
    "df[\"employment status\"] = df[\"employment status\"].cat.codes\n",
    "df[\"credit history\"] = df[\"credit history\"].cat.codes\n",
    "df[\"property\"] = df[\"property\"].cat.codes\n",
    "df[\"other installment plans\"] = df[\"other installment plans\"].cat.codes\n"
   ]
  },
  {
   "cell_type": "markdown",
   "metadata": {},
   "source": [
    "## 4.1 One-hot encoding (nominal) categorical variables"
   ]
  },
  {
   "cell_type": "code",
   "execution_count": 29,
   "metadata": {},
   "outputs": [],
   "source": [
    "\n",
    "\n",
    "# get the list of categorical descriptive features\n",
    "categorical_cols = df.columns[df.dtypes==object].tolist()\n",
    "\n",
    "# if a categorical descriptive feature has only 2 levels,\n",
    "# define only one binary variable\n",
    "for col in categorical_cols:\n",
    "    n = len(df[col].unique())\n",
    "    if (n == 2):\n",
    "        df[col] = pd.get_dummies(df[col], drop_first=True)\n",
    "\n",
    "# for other categorical features (with > 2 levels), \n",
    "# use regular one-hot-encoding \n",
    "# if a feature is numeric, it will be untouched\n",
    "df = pd.get_dummies(df)"
   ]
  },
  {
   "cell_type": "markdown",
   "metadata": {},
   "source": [
    "#### Target variable 'risk' is already integer-encoded in above step as 0 and 1. 0 is 'bad and 1 is 'good'."
   ]
  },
  {
   "cell_type": "code",
   "execution_count": 30,
   "metadata": {},
   "outputs": [],
   "source": [
    "\n",
    "data = df.drop(columns = 'risk').values"
   ]
  },
  {
   "cell_type": "code",
   "execution_count": 31,
   "metadata": {},
   "outputs": [
    {
     "data": {
      "text/html": [
       "<div>\n",
       "<style scoped>\n",
       "    .dataframe tbody tr th:only-of-type {\n",
       "        vertical-align: middle;\n",
       "    }\n",
       "\n",
       "    .dataframe tbody tr th {\n",
       "        vertical-align: top;\n",
       "    }\n",
       "\n",
       "    .dataframe thead th {\n",
       "        text-align: right;\n",
       "    }\n",
       "</style>\n",
       "<table border=\"1\" class=\"dataframe\">\n",
       "  <thead>\n",
       "    <tr style=\"text-align: right;\">\n",
       "      <th></th>\n",
       "      <th>checking_account</th>\n",
       "      <th>duration</th>\n",
       "      <th>credit history</th>\n",
       "      <th>credit amount</th>\n",
       "      <th>savings account</th>\n",
       "      <th>employment status</th>\n",
       "      <th>rate</th>\n",
       "      <th>residence</th>\n",
       "      <th>property</th>\n",
       "      <th>other installment plans</th>\n",
       "      <th>existing credits</th>\n",
       "      <th>liability</th>\n",
       "      <th>telephone</th>\n",
       "      <th>foreign worker</th>\n",
       "      <th>risk</th>\n",
       "      <th>purpose_business</th>\n",
       "      <th>purpose_domestic applicances</th>\n",
       "      <th>purpose_education</th>\n",
       "      <th>purpose_furniture</th>\n",
       "      <th>purpose_new car</th>\n",
       "      <th>purpose_others</th>\n",
       "      <th>purpose_radio/tv</th>\n",
       "      <th>purpose_repairs</th>\n",
       "      <th>purpose_retraining</th>\n",
       "      <th>purpose_used car</th>\n",
       "      <th>status_sex_F/D,M</th>\n",
       "      <th>status_sex_M/D</th>\n",
       "      <th>status_sex_M/M</th>\n",
       "      <th>status_sex_M/S</th>\n",
       "      <th>debt_co-applicant</th>\n",
       "      <th>debt_guarantor</th>\n",
       "      <th>debt_no debt</th>\n",
       "      <th>housing_for free</th>\n",
       "      <th>housing_own</th>\n",
       "      <th>housing_rent</th>\n",
       "      <th>job_management</th>\n",
       "      <th>job_skilled</th>\n",
       "      <th>job_unemployed</th>\n",
       "      <th>job_unskilled</th>\n",
       "      <th>Age_cat_Adult</th>\n",
       "      <th>Age_cat_Senior</th>\n",
       "      <th>Age_cat_Student</th>\n",
       "      <th>Age_cat_Young</th>\n",
       "    </tr>\n",
       "  </thead>\n",
       "  <tbody>\n",
       "    <tr>\n",
       "      <th>0</th>\n",
       "      <td>1</td>\n",
       "      <td>6.0</td>\n",
       "      <td>1</td>\n",
       "      <td>1169.0</td>\n",
       "      <td>4</td>\n",
       "      <td>3</td>\n",
       "      <td>4</td>\n",
       "      <td>4</td>\n",
       "      <td>3</td>\n",
       "      <td>1</td>\n",
       "      <td>2</td>\n",
       "      <td>1</td>\n",
       "      <td>1</td>\n",
       "      <td>1</td>\n",
       "      <td>1</td>\n",
       "      <td>0</td>\n",
       "      <td>0</td>\n",
       "      <td>0</td>\n",
       "      <td>0</td>\n",
       "      <td>0</td>\n",
       "      <td>0</td>\n",
       "      <td>1</td>\n",
       "      <td>0</td>\n",
       "      <td>0</td>\n",
       "      <td>0</td>\n",
       "      <td>0</td>\n",
       "      <td>0</td>\n",
       "      <td>0</td>\n",
       "      <td>1</td>\n",
       "      <td>0</td>\n",
       "      <td>0</td>\n",
       "      <td>1</td>\n",
       "      <td>0</td>\n",
       "      <td>1</td>\n",
       "      <td>0</td>\n",
       "      <td>0</td>\n",
       "      <td>1</td>\n",
       "      <td>0</td>\n",
       "      <td>0</td>\n",
       "      <td>0</td>\n",
       "      <td>1</td>\n",
       "      <td>0</td>\n",
       "      <td>0</td>\n",
       "    </tr>\n",
       "    <tr>\n",
       "      <th>1</th>\n",
       "      <td>0</td>\n",
       "      <td>48.0</td>\n",
       "      <td>3</td>\n",
       "      <td>5951.0</td>\n",
       "      <td>2</td>\n",
       "      <td>0</td>\n",
       "      <td>2</td>\n",
       "      <td>2</td>\n",
       "      <td>3</td>\n",
       "      <td>1</td>\n",
       "      <td>1</td>\n",
       "      <td>1</td>\n",
       "      <td>0</td>\n",
       "      <td>1</td>\n",
       "      <td>0</td>\n",
       "      <td>0</td>\n",
       "      <td>0</td>\n",
       "      <td>0</td>\n",
       "      <td>0</td>\n",
       "      <td>0</td>\n",
       "      <td>0</td>\n",
       "      <td>1</td>\n",
       "      <td>0</td>\n",
       "      <td>0</td>\n",
       "      <td>0</td>\n",
       "      <td>1</td>\n",
       "      <td>0</td>\n",
       "      <td>0</td>\n",
       "      <td>0</td>\n",
       "      <td>0</td>\n",
       "      <td>0</td>\n",
       "      <td>1</td>\n",
       "      <td>0</td>\n",
       "      <td>1</td>\n",
       "      <td>0</td>\n",
       "      <td>0</td>\n",
       "      <td>1</td>\n",
       "      <td>0</td>\n",
       "      <td>0</td>\n",
       "      <td>0</td>\n",
       "      <td>0</td>\n",
       "      <td>1</td>\n",
       "      <td>0</td>\n",
       "    </tr>\n",
       "    <tr>\n",
       "      <th>2</th>\n",
       "      <td>3</td>\n",
       "      <td>12.0</td>\n",
       "      <td>1</td>\n",
       "      <td>2096.0</td>\n",
       "      <td>2</td>\n",
       "      <td>1</td>\n",
       "      <td>2</td>\n",
       "      <td>3</td>\n",
       "      <td>3</td>\n",
       "      <td>1</td>\n",
       "      <td>1</td>\n",
       "      <td>2</td>\n",
       "      <td>0</td>\n",
       "      <td>1</td>\n",
       "      <td>1</td>\n",
       "      <td>0</td>\n",
       "      <td>0</td>\n",
       "      <td>1</td>\n",
       "      <td>0</td>\n",
       "      <td>0</td>\n",
       "      <td>0</td>\n",
       "      <td>0</td>\n",
       "      <td>0</td>\n",
       "      <td>0</td>\n",
       "      <td>0</td>\n",
       "      <td>0</td>\n",
       "      <td>0</td>\n",
       "      <td>0</td>\n",
       "      <td>1</td>\n",
       "      <td>0</td>\n",
       "      <td>0</td>\n",
       "      <td>1</td>\n",
       "      <td>0</td>\n",
       "      <td>1</td>\n",
       "      <td>0</td>\n",
       "      <td>0</td>\n",
       "      <td>0</td>\n",
       "      <td>0</td>\n",
       "      <td>1</td>\n",
       "      <td>1</td>\n",
       "      <td>0</td>\n",
       "      <td>0</td>\n",
       "      <td>0</td>\n",
       "    </tr>\n",
       "    <tr>\n",
       "      <th>3</th>\n",
       "      <td>1</td>\n",
       "      <td>42.0</td>\n",
       "      <td>3</td>\n",
       "      <td>7882.0</td>\n",
       "      <td>2</td>\n",
       "      <td>1</td>\n",
       "      <td>2</td>\n",
       "      <td>4</td>\n",
       "      <td>1</td>\n",
       "      <td>1</td>\n",
       "      <td>1</td>\n",
       "      <td>2</td>\n",
       "      <td>0</td>\n",
       "      <td>1</td>\n",
       "      <td>1</td>\n",
       "      <td>0</td>\n",
       "      <td>0</td>\n",
       "      <td>0</td>\n",
       "      <td>1</td>\n",
       "      <td>0</td>\n",
       "      <td>0</td>\n",
       "      <td>0</td>\n",
       "      <td>0</td>\n",
       "      <td>0</td>\n",
       "      <td>0</td>\n",
       "      <td>0</td>\n",
       "      <td>0</td>\n",
       "      <td>0</td>\n",
       "      <td>1</td>\n",
       "      <td>0</td>\n",
       "      <td>1</td>\n",
       "      <td>0</td>\n",
       "      <td>1</td>\n",
       "      <td>0</td>\n",
       "      <td>0</td>\n",
       "      <td>0</td>\n",
       "      <td>1</td>\n",
       "      <td>0</td>\n",
       "      <td>0</td>\n",
       "      <td>1</td>\n",
       "      <td>0</td>\n",
       "      <td>0</td>\n",
       "      <td>0</td>\n",
       "    </tr>\n",
       "    <tr>\n",
       "      <th>4</th>\n",
       "      <td>1</td>\n",
       "      <td>24.0</td>\n",
       "      <td>2</td>\n",
       "      <td>4870.0</td>\n",
       "      <td>2</td>\n",
       "      <td>0</td>\n",
       "      <td>3</td>\n",
       "      <td>4</td>\n",
       "      <td>2</td>\n",
       "      <td>1</td>\n",
       "      <td>2</td>\n",
       "      <td>2</td>\n",
       "      <td>0</td>\n",
       "      <td>1</td>\n",
       "      <td>0</td>\n",
       "      <td>0</td>\n",
       "      <td>0</td>\n",
       "      <td>0</td>\n",
       "      <td>0</td>\n",
       "      <td>1</td>\n",
       "      <td>0</td>\n",
       "      <td>0</td>\n",
       "      <td>0</td>\n",
       "      <td>0</td>\n",
       "      <td>0</td>\n",
       "      <td>0</td>\n",
       "      <td>0</td>\n",
       "      <td>0</td>\n",
       "      <td>1</td>\n",
       "      <td>0</td>\n",
       "      <td>0</td>\n",
       "      <td>1</td>\n",
       "      <td>1</td>\n",
       "      <td>0</td>\n",
       "      <td>0</td>\n",
       "      <td>0</td>\n",
       "      <td>1</td>\n",
       "      <td>0</td>\n",
       "      <td>0</td>\n",
       "      <td>1</td>\n",
       "      <td>0</td>\n",
       "      <td>0</td>\n",
       "      <td>0</td>\n",
       "    </tr>\n",
       "  </tbody>\n",
       "</table>\n",
       "</div>"
      ],
      "text/plain": [
       "   checking_account  duration  credit history  credit amount  savings account  \\\n",
       "0                 1       6.0               1         1169.0                4   \n",
       "1                 0      48.0               3         5951.0                2   \n",
       "2                 3      12.0               1         2096.0                2   \n",
       "3                 1      42.0               3         7882.0                2   \n",
       "4                 1      24.0               2         4870.0                2   \n",
       "\n",
       "   employment status  rate  residence  property  other installment plans  \\\n",
       "0                  3     4          4         3                        1   \n",
       "1                  0     2          2         3                        1   \n",
       "2                  1     2          3         3                        1   \n",
       "3                  1     2          4         1                        1   \n",
       "4                  0     3          4         2                        1   \n",
       "\n",
       "   existing credits  liability  telephone  foreign worker  risk  \\\n",
       "0                 2          1          1               1     1   \n",
       "1                 1          1          0               1     0   \n",
       "2                 1          2          0               1     1   \n",
       "3                 1          2          0               1     1   \n",
       "4                 2          2          0               1     0   \n",
       "\n",
       "   purpose_business  purpose_domestic applicances  purpose_education  \\\n",
       "0                 0                             0                  0   \n",
       "1                 0                             0                  0   \n",
       "2                 0                             0                  1   \n",
       "3                 0                             0                  0   \n",
       "4                 0                             0                  0   \n",
       "\n",
       "   purpose_furniture  purpose_new car  purpose_others  purpose_radio/tv  \\\n",
       "0                  0                0               0                 1   \n",
       "1                  0                0               0                 1   \n",
       "2                  0                0               0                 0   \n",
       "3                  1                0               0                 0   \n",
       "4                  0                1               0                 0   \n",
       "\n",
       "   purpose_repairs  purpose_retraining  purpose_used car  status_sex_F/D,M  \\\n",
       "0                0                   0                 0                 0   \n",
       "1                0                   0                 0                 1   \n",
       "2                0                   0                 0                 0   \n",
       "3                0                   0                 0                 0   \n",
       "4                0                   0                 0                 0   \n",
       "\n",
       "   status_sex_M/D  status_sex_M/M  status_sex_M/S  debt_co-applicant  \\\n",
       "0               0               0               1                  0   \n",
       "1               0               0               0                  0   \n",
       "2               0               0               1                  0   \n",
       "3               0               0               1                  0   \n",
       "4               0               0               1                  0   \n",
       "\n",
       "   debt_guarantor  debt_no debt  housing_for free  housing_own  housing_rent  \\\n",
       "0               0             1                 0            1             0   \n",
       "1               0             1                 0            1             0   \n",
       "2               0             1                 0            1             0   \n",
       "3               1             0                 1            0             0   \n",
       "4               0             1                 1            0             0   \n",
       "\n",
       "   job_management  job_skilled  job_unemployed  job_unskilled  Age_cat_Adult  \\\n",
       "0               0            1               0              0              0   \n",
       "1               0            1               0              0              0   \n",
       "2               0            0               0              1              1   \n",
       "3               0            1               0              0              1   \n",
       "4               0            1               0              0              1   \n",
       "\n",
       "   Age_cat_Senior  Age_cat_Student  Age_cat_Young  \n",
       "0               1                0              0  \n",
       "1               0                1              0  \n",
       "2               0                0              0  \n",
       "3               0                0              0  \n",
       "4               0                0              0  "
      ]
     },
     "execution_count": 31,
     "metadata": {},
     "output_type": "execute_result"
    }
   ],
   "source": [
    "df.head()"
   ]
  },
  {
   "cell_type": "code",
   "execution_count": 32,
   "metadata": {},
   "outputs": [
    {
     "data": {
      "text/html": [
       "<div>\n",
       "<style scoped>\n",
       "    .dataframe tbody tr th:only-of-type {\n",
       "        vertical-align: middle;\n",
       "    }\n",
       "\n",
       "    .dataframe tbody tr th {\n",
       "        vertical-align: top;\n",
       "    }\n",
       "\n",
       "    .dataframe thead th {\n",
       "        text-align: right;\n",
       "    }\n",
       "</style>\n",
       "<table border=\"1\" class=\"dataframe\">\n",
       "  <thead>\n",
       "    <tr style=\"text-align: right;\">\n",
       "      <th></th>\n",
       "      <th>checking_account</th>\n",
       "      <th>duration</th>\n",
       "      <th>credit history</th>\n",
       "      <th>credit amount</th>\n",
       "      <th>savings account</th>\n",
       "      <th>employment status</th>\n",
       "      <th>rate</th>\n",
       "      <th>residence</th>\n",
       "      <th>property</th>\n",
       "      <th>other installment plans</th>\n",
       "      <th>existing credits</th>\n",
       "      <th>liability</th>\n",
       "      <th>telephone</th>\n",
       "      <th>foreign worker</th>\n",
       "      <th>purpose_business</th>\n",
       "      <th>purpose_domestic applicances</th>\n",
       "      <th>purpose_education</th>\n",
       "      <th>purpose_furniture</th>\n",
       "      <th>purpose_new car</th>\n",
       "      <th>purpose_others</th>\n",
       "      <th>purpose_radio/tv</th>\n",
       "      <th>purpose_repairs</th>\n",
       "      <th>purpose_retraining</th>\n",
       "      <th>purpose_used car</th>\n",
       "      <th>status_sex_F/D,M</th>\n",
       "      <th>status_sex_M/D</th>\n",
       "      <th>status_sex_M/M</th>\n",
       "      <th>status_sex_M/S</th>\n",
       "      <th>debt_co-applicant</th>\n",
       "      <th>debt_guarantor</th>\n",
       "      <th>debt_no debt</th>\n",
       "      <th>housing_for free</th>\n",
       "      <th>housing_own</th>\n",
       "      <th>housing_rent</th>\n",
       "      <th>job_management</th>\n",
       "      <th>job_skilled</th>\n",
       "      <th>job_unemployed</th>\n",
       "      <th>job_unskilled</th>\n",
       "      <th>Age_cat_Adult</th>\n",
       "      <th>Age_cat_Senior</th>\n",
       "      <th>Age_cat_Student</th>\n",
       "      <th>Age_cat_Young</th>\n",
       "    </tr>\n",
       "  </thead>\n",
       "  <tbody>\n",
       "    <tr>\n",
       "      <th>0</th>\n",
       "      <td>1</td>\n",
       "      <td>6.0</td>\n",
       "      <td>1</td>\n",
       "      <td>1169.0</td>\n",
       "      <td>4</td>\n",
       "      <td>3</td>\n",
       "      <td>4</td>\n",
       "      <td>4</td>\n",
       "      <td>3</td>\n",
       "      <td>1</td>\n",
       "      <td>2</td>\n",
       "      <td>1</td>\n",
       "      <td>1</td>\n",
       "      <td>1</td>\n",
       "      <td>0</td>\n",
       "      <td>0</td>\n",
       "      <td>0</td>\n",
       "      <td>0</td>\n",
       "      <td>0</td>\n",
       "      <td>0</td>\n",
       "      <td>1</td>\n",
       "      <td>0</td>\n",
       "      <td>0</td>\n",
       "      <td>0</td>\n",
       "      <td>0</td>\n",
       "      <td>0</td>\n",
       "      <td>0</td>\n",
       "      <td>1</td>\n",
       "      <td>0</td>\n",
       "      <td>0</td>\n",
       "      <td>1</td>\n",
       "      <td>0</td>\n",
       "      <td>1</td>\n",
       "      <td>0</td>\n",
       "      <td>0</td>\n",
       "      <td>1</td>\n",
       "      <td>0</td>\n",
       "      <td>0</td>\n",
       "      <td>0</td>\n",
       "      <td>1</td>\n",
       "      <td>0</td>\n",
       "      <td>0</td>\n",
       "    </tr>\n",
       "    <tr>\n",
       "      <th>1</th>\n",
       "      <td>0</td>\n",
       "      <td>48.0</td>\n",
       "      <td>3</td>\n",
       "      <td>5951.0</td>\n",
       "      <td>2</td>\n",
       "      <td>0</td>\n",
       "      <td>2</td>\n",
       "      <td>2</td>\n",
       "      <td>3</td>\n",
       "      <td>1</td>\n",
       "      <td>1</td>\n",
       "      <td>1</td>\n",
       "      <td>0</td>\n",
       "      <td>1</td>\n",
       "      <td>0</td>\n",
       "      <td>0</td>\n",
       "      <td>0</td>\n",
       "      <td>0</td>\n",
       "      <td>0</td>\n",
       "      <td>0</td>\n",
       "      <td>1</td>\n",
       "      <td>0</td>\n",
       "      <td>0</td>\n",
       "      <td>0</td>\n",
       "      <td>1</td>\n",
       "      <td>0</td>\n",
       "      <td>0</td>\n",
       "      <td>0</td>\n",
       "      <td>0</td>\n",
       "      <td>0</td>\n",
       "      <td>1</td>\n",
       "      <td>0</td>\n",
       "      <td>1</td>\n",
       "      <td>0</td>\n",
       "      <td>0</td>\n",
       "      <td>1</td>\n",
       "      <td>0</td>\n",
       "      <td>0</td>\n",
       "      <td>0</td>\n",
       "      <td>0</td>\n",
       "      <td>1</td>\n",
       "      <td>0</td>\n",
       "    </tr>\n",
       "    <tr>\n",
       "      <th>2</th>\n",
       "      <td>3</td>\n",
       "      <td>12.0</td>\n",
       "      <td>1</td>\n",
       "      <td>2096.0</td>\n",
       "      <td>2</td>\n",
       "      <td>1</td>\n",
       "      <td>2</td>\n",
       "      <td>3</td>\n",
       "      <td>3</td>\n",
       "      <td>1</td>\n",
       "      <td>1</td>\n",
       "      <td>2</td>\n",
       "      <td>0</td>\n",
       "      <td>1</td>\n",
       "      <td>0</td>\n",
       "      <td>0</td>\n",
       "      <td>1</td>\n",
       "      <td>0</td>\n",
       "      <td>0</td>\n",
       "      <td>0</td>\n",
       "      <td>0</td>\n",
       "      <td>0</td>\n",
       "      <td>0</td>\n",
       "      <td>0</td>\n",
       "      <td>0</td>\n",
       "      <td>0</td>\n",
       "      <td>0</td>\n",
       "      <td>1</td>\n",
       "      <td>0</td>\n",
       "      <td>0</td>\n",
       "      <td>1</td>\n",
       "      <td>0</td>\n",
       "      <td>1</td>\n",
       "      <td>0</td>\n",
       "      <td>0</td>\n",
       "      <td>0</td>\n",
       "      <td>0</td>\n",
       "      <td>1</td>\n",
       "      <td>1</td>\n",
       "      <td>0</td>\n",
       "      <td>0</td>\n",
       "      <td>0</td>\n",
       "    </tr>\n",
       "    <tr>\n",
       "      <th>3</th>\n",
       "      <td>1</td>\n",
       "      <td>42.0</td>\n",
       "      <td>3</td>\n",
       "      <td>7882.0</td>\n",
       "      <td>2</td>\n",
       "      <td>1</td>\n",
       "      <td>2</td>\n",
       "      <td>4</td>\n",
       "      <td>1</td>\n",
       "      <td>1</td>\n",
       "      <td>1</td>\n",
       "      <td>2</td>\n",
       "      <td>0</td>\n",
       "      <td>1</td>\n",
       "      <td>0</td>\n",
       "      <td>0</td>\n",
       "      <td>0</td>\n",
       "      <td>1</td>\n",
       "      <td>0</td>\n",
       "      <td>0</td>\n",
       "      <td>0</td>\n",
       "      <td>0</td>\n",
       "      <td>0</td>\n",
       "      <td>0</td>\n",
       "      <td>0</td>\n",
       "      <td>0</td>\n",
       "      <td>0</td>\n",
       "      <td>1</td>\n",
       "      <td>0</td>\n",
       "      <td>1</td>\n",
       "      <td>0</td>\n",
       "      <td>1</td>\n",
       "      <td>0</td>\n",
       "      <td>0</td>\n",
       "      <td>0</td>\n",
       "      <td>1</td>\n",
       "      <td>0</td>\n",
       "      <td>0</td>\n",
       "      <td>1</td>\n",
       "      <td>0</td>\n",
       "      <td>0</td>\n",
       "      <td>0</td>\n",
       "    </tr>\n",
       "    <tr>\n",
       "      <th>4</th>\n",
       "      <td>1</td>\n",
       "      <td>24.0</td>\n",
       "      <td>2</td>\n",
       "      <td>4870.0</td>\n",
       "      <td>2</td>\n",
       "      <td>0</td>\n",
       "      <td>3</td>\n",
       "      <td>4</td>\n",
       "      <td>2</td>\n",
       "      <td>1</td>\n",
       "      <td>2</td>\n",
       "      <td>2</td>\n",
       "      <td>0</td>\n",
       "      <td>1</td>\n",
       "      <td>0</td>\n",
       "      <td>0</td>\n",
       "      <td>0</td>\n",
       "      <td>0</td>\n",
       "      <td>1</td>\n",
       "      <td>0</td>\n",
       "      <td>0</td>\n",
       "      <td>0</td>\n",
       "      <td>0</td>\n",
       "      <td>0</td>\n",
       "      <td>0</td>\n",
       "      <td>0</td>\n",
       "      <td>0</td>\n",
       "      <td>1</td>\n",
       "      <td>0</td>\n",
       "      <td>0</td>\n",
       "      <td>1</td>\n",
       "      <td>1</td>\n",
       "      <td>0</td>\n",
       "      <td>0</td>\n",
       "      <td>0</td>\n",
       "      <td>1</td>\n",
       "      <td>0</td>\n",
       "      <td>0</td>\n",
       "      <td>1</td>\n",
       "      <td>0</td>\n",
       "      <td>0</td>\n",
       "      <td>0</td>\n",
       "    </tr>\n",
       "  </tbody>\n",
       "</table>\n",
       "</div>"
      ],
      "text/plain": [
       "   checking_account  duration  credit history  credit amount  savings account  \\\n",
       "0                 1       6.0               1         1169.0                4   \n",
       "1                 0      48.0               3         5951.0                2   \n",
       "2                 3      12.0               1         2096.0                2   \n",
       "3                 1      42.0               3         7882.0                2   \n",
       "4                 1      24.0               2         4870.0                2   \n",
       "\n",
       "   employment status  rate  residence  property  other installment plans  \\\n",
       "0                  3     4          4         3                        1   \n",
       "1                  0     2          2         3                        1   \n",
       "2                  1     2          3         3                        1   \n",
       "3                  1     2          4         1                        1   \n",
       "4                  0     3          4         2                        1   \n",
       "\n",
       "   existing credits  liability  telephone  foreign worker  purpose_business  \\\n",
       "0                 2          1          1               1                 0   \n",
       "1                 1          1          0               1                 0   \n",
       "2                 1          2          0               1                 0   \n",
       "3                 1          2          0               1                 0   \n",
       "4                 2          2          0               1                 0   \n",
       "\n",
       "   purpose_domestic applicances  purpose_education  purpose_furniture  \\\n",
       "0                             0                  0                  0   \n",
       "1                             0                  0                  0   \n",
       "2                             0                  1                  0   \n",
       "3                             0                  0                  1   \n",
       "4                             0                  0                  0   \n",
       "\n",
       "   purpose_new car  purpose_others  purpose_radio/tv  purpose_repairs  \\\n",
       "0                0               0                 1                0   \n",
       "1                0               0                 1                0   \n",
       "2                0               0                 0                0   \n",
       "3                0               0                 0                0   \n",
       "4                1               0                 0                0   \n",
       "\n",
       "   purpose_retraining  purpose_used car  status_sex_F/D,M  status_sex_M/D  \\\n",
       "0                   0                 0                 0               0   \n",
       "1                   0                 0                 1               0   \n",
       "2                   0                 0                 0               0   \n",
       "3                   0                 0                 0               0   \n",
       "4                   0                 0                 0               0   \n",
       "\n",
       "   status_sex_M/M  status_sex_M/S  debt_co-applicant  debt_guarantor  \\\n",
       "0               0               1                  0               0   \n",
       "1               0               0                  0               0   \n",
       "2               0               1                  0               0   \n",
       "3               0               1                  0               1   \n",
       "4               0               1                  0               0   \n",
       "\n",
       "   debt_no debt  housing_for free  housing_own  housing_rent  job_management  \\\n",
       "0             1                 0            1             0               0   \n",
       "1             1                 0            1             0               0   \n",
       "2             1                 0            1             0               0   \n",
       "3             0                 1            0             0               0   \n",
       "4             1                 1            0             0               0   \n",
       "\n",
       "   job_skilled  job_unemployed  job_unskilled  Age_cat_Adult  Age_cat_Senior  \\\n",
       "0            1               0              0              0               1   \n",
       "1            1               0              0              0               0   \n",
       "2            0               0              1              1               0   \n",
       "3            1               0              0              1               0   \n",
       "4            1               0              0              1               0   \n",
       "\n",
       "   Age_cat_Student  Age_cat_Young  \n",
       "0                0              0  \n",
       "1                1              0  \n",
       "2                0              0  \n",
       "3                0              0  \n",
       "4                0              0  "
      ]
     },
     "execution_count": 32,
     "metadata": {},
     "output_type": "execute_result"
    }
   ],
   "source": [
    "fdf1 = df.drop(columns = 'risk')\n",
    "\n",
    "fdf1.head()"
   ]
  },
  {
   "cell_type": "markdown",
   "metadata": {},
   "source": [
    "## 5. Predictive Modelling"
   ]
  },
  {
   "cell_type": "markdown",
   "metadata": {},
   "source": [
    "## 5.1 Feature Selection\n",
    "\n",
    "We perform feature selection using the powerful random forest importance method inside a pipeline."
   ]
  },
  {
   "cell_type": "code",
   "execution_count": 33,
   "metadata": {},
   "outputs": [
    {
     "data": {
      "text/plain": [
       "array(['credit amount', 'checking_account', 'duration', 'credit history',\n",
       "       'employment status', 'savings account', 'rate', 'property',\n",
       "       'residence', 'other installment plans', 'existing credits',\n",
       "       'purpose_new car', 'telephone', 'Age_cat_Adult', 'Age_cat_Student'],\n",
       "      dtype=object)"
      ]
     },
     "execution_count": 33,
     "metadata": {},
     "output_type": "execute_result"
    }
   ],
   "source": [
    "from sklearn.ensemble import RandomForestClassifier\n",
    "\n",
    "num_features = 15\n",
    "model_rfi = RandomForestClassifier(n_estimators=100)\n",
    "model_rfi.fit(fdf1, df['risk'])\n",
    "fs_indices_rfi = np.argsort(model_rfi.feature_importances_)[::-1][0:num_features]\n",
    "\n",
    "best_features_rfi = fdf1.columns[fs_indices_rfi].values\n",
    "best_features_rfi"
   ]
  },
  {
   "cell_type": "code",
   "execution_count": 34,
   "metadata": {},
   "outputs": [
    {
     "data": {
      "text/plain": [
       "array([0.12193198, 0.10995192, 0.09525185, 0.05323096, 0.04708966,\n",
       "       0.04312938, 0.04172415, 0.04130079, 0.04116145, 0.02941617,\n",
       "       0.02359884, 0.02085985, 0.01976263, 0.01851494, 0.01836634])"
      ]
     },
     "execution_count": 34,
     "metadata": {},
     "output_type": "execute_result"
    }
   ],
   "source": [
    "feature_importances_rfi = model_rfi.feature_importances_[fs_indices_rfi]\n",
    "feature_importances_rfi"
   ]
  },
  {
   "cell_type": "code",
   "execution_count": 35,
   "metadata": {},
   "outputs": [
    {
     "data": {
      "text/html": [
       "<div>\n",
       "<style scoped>\n",
       "    .dataframe tbody tr th:only-of-type {\n",
       "        vertical-align: middle;\n",
       "    }\n",
       "\n",
       "    .dataframe tbody tr th {\n",
       "        vertical-align: top;\n",
       "    }\n",
       "\n",
       "    .dataframe thead th {\n",
       "        text-align: right;\n",
       "    }\n",
       "</style>\n",
       "<table border=\"1\" class=\"dataframe\">\n",
       "  <thead>\n",
       "    <tr style=\"text-align: right;\">\n",
       "      <th></th>\n",
       "      <th>features</th>\n",
       "      <th>importances</th>\n",
       "    </tr>\n",
       "  </thead>\n",
       "  <tbody>\n",
       "    <tr>\n",
       "      <th>0</th>\n",
       "      <td>credit amount</td>\n",
       "      <td>0.121932</td>\n",
       "    </tr>\n",
       "    <tr>\n",
       "      <th>1</th>\n",
       "      <td>checking_account</td>\n",
       "      <td>0.109952</td>\n",
       "    </tr>\n",
       "    <tr>\n",
       "      <th>2</th>\n",
       "      <td>duration</td>\n",
       "      <td>0.095252</td>\n",
       "    </tr>\n",
       "    <tr>\n",
       "      <th>3</th>\n",
       "      <td>credit history</td>\n",
       "      <td>0.053231</td>\n",
       "    </tr>\n",
       "    <tr>\n",
       "      <th>4</th>\n",
       "      <td>employment status</td>\n",
       "      <td>0.047090</td>\n",
       "    </tr>\n",
       "    <tr>\n",
       "      <th>5</th>\n",
       "      <td>savings account</td>\n",
       "      <td>0.043129</td>\n",
       "    </tr>\n",
       "    <tr>\n",
       "      <th>6</th>\n",
       "      <td>rate</td>\n",
       "      <td>0.041724</td>\n",
       "    </tr>\n",
       "    <tr>\n",
       "      <th>7</th>\n",
       "      <td>property</td>\n",
       "      <td>0.041301</td>\n",
       "    </tr>\n",
       "    <tr>\n",
       "      <th>8</th>\n",
       "      <td>residence</td>\n",
       "      <td>0.041161</td>\n",
       "    </tr>\n",
       "    <tr>\n",
       "      <th>9</th>\n",
       "      <td>other installment plans</td>\n",
       "      <td>0.029416</td>\n",
       "    </tr>\n",
       "    <tr>\n",
       "      <th>10</th>\n",
       "      <td>existing credits</td>\n",
       "      <td>0.023599</td>\n",
       "    </tr>\n",
       "    <tr>\n",
       "      <th>11</th>\n",
       "      <td>purpose_new car</td>\n",
       "      <td>0.020860</td>\n",
       "    </tr>\n",
       "    <tr>\n",
       "      <th>12</th>\n",
       "      <td>telephone</td>\n",
       "      <td>0.019763</td>\n",
       "    </tr>\n",
       "    <tr>\n",
       "      <th>13</th>\n",
       "      <td>Age_cat_Adult</td>\n",
       "      <td>0.018515</td>\n",
       "    </tr>\n",
       "    <tr>\n",
       "      <th>14</th>\n",
       "      <td>Age_cat_Student</td>\n",
       "      <td>0.018366</td>\n",
       "    </tr>\n",
       "  </tbody>\n",
       "</table>\n",
       "</div>"
      ],
      "text/plain": [
       "                   features  importances\n",
       "0             credit amount     0.121932\n",
       "1          checking_account     0.109952\n",
       "2                  duration     0.095252\n",
       "3            credit history     0.053231\n",
       "4         employment status     0.047090\n",
       "5           savings account     0.043129\n",
       "6                      rate     0.041724\n",
       "7                  property     0.041301\n",
       "8                 residence     0.041161\n",
       "9   other installment plans     0.029416\n",
       "10         existing credits     0.023599\n",
       "11          purpose_new car     0.020860\n",
       "12                telephone     0.019763\n",
       "13            Age_cat_Adult     0.018515\n",
       "14          Age_cat_Student     0.018366"
      ]
     },
     "execution_count": 35,
     "metadata": {},
     "output_type": "execute_result"
    }
   ],
   "source": [
    "df_imp = pd.DataFrame({'features': best_features_rfi, \n",
    "                       'importances': feature_importances_rfi})\n",
    "\n",
    "df_imp"
   ]
  },
  {
   "cell_type": "markdown",
   "metadata": {},
   "source": [
    "The above table shows the 15 features we selected along with their importance. Credit amount is the highest as this makes sense as the risk of giving credit is correlated with the amount of the credit given."
   ]
  },
  {
   "cell_type": "code",
   "execution_count": 36,
   "metadata": {},
   "outputs": [
    {
     "data": {
      "text/html": [
       "<div>\n",
       "<style scoped>\n",
       "    .dataframe tbody tr th:only-of-type {\n",
       "        vertical-align: middle;\n",
       "    }\n",
       "\n",
       "    .dataframe tbody tr th {\n",
       "        vertical-align: top;\n",
       "    }\n",
       "\n",
       "    .dataframe thead th {\n",
       "        text-align: right;\n",
       "    }\n",
       "</style>\n",
       "<table border=\"1\" class=\"dataframe\">\n",
       "  <thead>\n",
       "    <tr style=\"text-align: right;\">\n",
       "      <th></th>\n",
       "      <th>credit amount</th>\n",
       "      <th>checking_account</th>\n",
       "      <th>duration</th>\n",
       "      <th>credit history</th>\n",
       "      <th>employment status</th>\n",
       "      <th>savings account</th>\n",
       "      <th>property</th>\n",
       "      <th>rate</th>\n",
       "      <th>residence</th>\n",
       "      <th>other installment plans</th>\n",
       "      <th>existing credits</th>\n",
       "      <th>purpose_new car</th>\n",
       "      <th>housing_own</th>\n",
       "      <th>Age_cat_Student</th>\n",
       "      <th>status_sex_M/S</th>\n",
       "      <th>risk</th>\n",
       "    </tr>\n",
       "  </thead>\n",
       "  <tbody>\n",
       "    <tr>\n",
       "      <th>0</th>\n",
       "      <td>1169.0</td>\n",
       "      <td>1</td>\n",
       "      <td>6.0</td>\n",
       "      <td>1</td>\n",
       "      <td>3</td>\n",
       "      <td>4</td>\n",
       "      <td>3</td>\n",
       "      <td>4</td>\n",
       "      <td>4</td>\n",
       "      <td>1</td>\n",
       "      <td>2</td>\n",
       "      <td>0</td>\n",
       "      <td>1</td>\n",
       "      <td>0</td>\n",
       "      <td>1</td>\n",
       "      <td>1</td>\n",
       "    </tr>\n",
       "    <tr>\n",
       "      <th>1</th>\n",
       "      <td>5951.0</td>\n",
       "      <td>0</td>\n",
       "      <td>48.0</td>\n",
       "      <td>3</td>\n",
       "      <td>0</td>\n",
       "      <td>2</td>\n",
       "      <td>3</td>\n",
       "      <td>2</td>\n",
       "      <td>2</td>\n",
       "      <td>1</td>\n",
       "      <td>1</td>\n",
       "      <td>0</td>\n",
       "      <td>1</td>\n",
       "      <td>1</td>\n",
       "      <td>0</td>\n",
       "      <td>0</td>\n",
       "    </tr>\n",
       "    <tr>\n",
       "      <th>2</th>\n",
       "      <td>2096.0</td>\n",
       "      <td>3</td>\n",
       "      <td>12.0</td>\n",
       "      <td>1</td>\n",
       "      <td>1</td>\n",
       "      <td>2</td>\n",
       "      <td>3</td>\n",
       "      <td>2</td>\n",
       "      <td>3</td>\n",
       "      <td>1</td>\n",
       "      <td>1</td>\n",
       "      <td>0</td>\n",
       "      <td>1</td>\n",
       "      <td>0</td>\n",
       "      <td>1</td>\n",
       "      <td>1</td>\n",
       "    </tr>\n",
       "    <tr>\n",
       "      <th>3</th>\n",
       "      <td>7882.0</td>\n",
       "      <td>1</td>\n",
       "      <td>42.0</td>\n",
       "      <td>3</td>\n",
       "      <td>1</td>\n",
       "      <td>2</td>\n",
       "      <td>1</td>\n",
       "      <td>2</td>\n",
       "      <td>4</td>\n",
       "      <td>1</td>\n",
       "      <td>1</td>\n",
       "      <td>0</td>\n",
       "      <td>0</td>\n",
       "      <td>0</td>\n",
       "      <td>1</td>\n",
       "      <td>1</td>\n",
       "    </tr>\n",
       "    <tr>\n",
       "      <th>4</th>\n",
       "      <td>4870.0</td>\n",
       "      <td>1</td>\n",
       "      <td>24.0</td>\n",
       "      <td>2</td>\n",
       "      <td>0</td>\n",
       "      <td>2</td>\n",
       "      <td>2</td>\n",
       "      <td>3</td>\n",
       "      <td>4</td>\n",
       "      <td>1</td>\n",
       "      <td>2</td>\n",
       "      <td>1</td>\n",
       "      <td>0</td>\n",
       "      <td>0</td>\n",
       "      <td>1</td>\n",
       "      <td>0</td>\n",
       "    </tr>\n",
       "  </tbody>\n",
       "</table>\n",
       "</div>"
      ],
      "text/plain": [
       "   credit amount  checking_account  duration  credit history  \\\n",
       "0         1169.0                 1       6.0               1   \n",
       "1         5951.0                 0      48.0               3   \n",
       "2         2096.0                 3      12.0               1   \n",
       "3         7882.0                 1      42.0               3   \n",
       "4         4870.0                 1      24.0               2   \n",
       "\n",
       "   employment status  savings account  property  rate  residence  \\\n",
       "0                  3                4         3     4          4   \n",
       "1                  0                2         3     2          2   \n",
       "2                  1                2         3     2          3   \n",
       "3                  1                2         1     2          4   \n",
       "4                  0                2         2     3          4   \n",
       "\n",
       "   other installment plans  existing credits  purpose_new car  housing_own  \\\n",
       "0                        1                 2                0            1   \n",
       "1                        1                 1                0            1   \n",
       "2                        1                 1                0            1   \n",
       "3                        1                 1                0            0   \n",
       "4                        1                 2                1            0   \n",
       "\n",
       "   Age_cat_Student  status_sex_M/S  risk  \n",
       "0                0               1     1  \n",
       "1                1               0     0  \n",
       "2                0               1     1  \n",
       "3                0               1     1  \n",
       "4                0               1     0  "
      ]
     },
     "execution_count": 36,
     "metadata": {},
     "output_type": "execute_result"
    }
   ],
   "source": [
    "features_df = df[['credit amount', 'checking_account', 'duration', 'credit history',\n",
    "       'employment status', 'savings account', 'property', 'rate',\n",
    "       'residence', 'other installment plans', 'existing credits',\n",
    "       'purpose_new car', 'housing_own', 'Age_cat_Student',\n",
    "       'status_sex_M/S','risk']].copy()\n",
    "\n",
    "features_df.head(5)\n"
   ]
  },
  {
   "cell_type": "markdown",
   "metadata": {},
   "source": [
    "## 5.2 Train test splitting and data sampling"
   ]
  },
  {
   "cell_type": "markdown",
   "metadata": {},
   "source": [
    "We split the full dataset to training & test sets with 75:25 ratio. Training dataset contains 750 rows & test dataset has 250 rows."
   ]
  },
  {
   "cell_type": "code",
   "execution_count": 37,
   "metadata": {},
   "outputs": [],
   "source": [
    "from sklearn.model_selection import train_test_split, KFold, cross_val_score # to split the data\n",
    "from sklearn.metrics import accuracy_score, confusion_matrix, classification_report, fbeta_score #To evaluate our model\n",
    "\n",
    "from sklearn.model_selection import GridSearchCV\n",
    "\n",
    "# Algorithmns models to be compared\n",
    "from sklearn.ensemble import RandomForestClassifier\n",
    "from sklearn.linear_model import LogisticRegression\n",
    "from sklearn.tree import DecisionTreeClassifier\n",
    "from sklearn.neighbors import KNeighborsClassifier\n",
    "from sklearn.ensemble import RandomForestClassifier\n",
    "from sklearn.discriminant_analysis import LinearDiscriminantAnalysis\n",
    "from sklearn.naive_bayes import GaussianNB\n",
    "from sklearn.svm import SVC"
   ]
  },
  {
   "cell_type": "markdown",
   "metadata": {},
   "source": [
    "#### Setting Data and Target variables for modeling and Spliting X and y into train and test versions."
   ]
  },
  {
   "cell_type": "code",
   "execution_count": 38,
   "metadata": {},
   "outputs": [],
   "source": [
    "\n",
    "X = features_df.drop('risk', 1).values\n",
    "y = features_df[\"risk\"].values\n",
    "\n",
    "\n",
    "X_train, X_test, y_train, y_test = train_test_split(X, y, test_size = 0.25, random_state=42)"
   ]
  },
  {
   "cell_type": "markdown",
   "metadata": {},
   "source": [
    "Now, we plot the boxplots for each models according to the scoring metric 'accuracy'. These models are not tuned right now."
   ]
  },
  {
   "cell_type": "code",
   "execution_count": 39,
   "metadata": {},
   "outputs": [
    {
     "name": "stdout",
     "output_type": "stream",
     "text": [
      "LR: 0.721333 (0.032904)\n",
      "KNN: 0.665333 (0.052137)\n",
      "DT: 0.645333 (0.056944)\n",
      "NB: 0.726667 (0.059703)\n",
      "RF: 0.741333 (0.056944)\n"
     ]
    },
    {
     "data": {
      "image/png": "[encoded data removed]",
      "text/plain": [
       "<Figure size 792x432 with 1 Axes>"
      ]
     },
     "metadata": {
      "needs_background": "light"
     },
     "output_type": "display_data"
    }
   ],
   "source": [
    "# to feed the random state\n",
    "seed = 999\n",
    "\n",
    "# prepare models\n",
    "models = []\n",
    "models.append(('LR', LogisticRegression()))\n",
    "models.append(('KNN', KNeighborsClassifier()))\n",
    "models.append(('DT', DecisionTreeClassifier()))\n",
    "models.append(('NB', GaussianNB()))\n",
    "models.append(('RF', RandomForestClassifier()))\n",
    "\n",
    "\n",
    "# evaluate each model in turn\n",
    "results = []\n",
    "names = []\n",
    "scoring = 'accuracy'\n",
    "\n",
    "for name, model in models:\n",
    "        kfold = KFold(n_splits=10, random_state=seed)\n",
    "        cv_results = cross_val_score(model, X_train, y_train, cv=kfold, scoring=scoring)\n",
    "        results.append(cv_results)\n",
    "        names.append(name)\n",
    "        msg = \"%s: %f (%f)\" % (name, cv_results.mean(), cv_results.std())\n",
    "        print(msg)\n",
    "        \n",
    "# boxplot algorithm comparison\n",
    "fig = plt.figure(figsize=(11,6))\n",
    "fig.suptitle('Algorithm Comparison')\n",
    "ax = fig.add_subplot(111)\n",
    "plt.boxplot(results)\n",
    "ax.set_xticklabels(names)\n",
    "plt.show()"
   ]
  },
  {
   "cell_type": "markdown",
   "metadata": {},
   "source": [
    "From the above diagram, we can see that LR, NB and RF are performing relatively good in terms of accuracy."
   ]
  },
  {
   "cell_type": "markdown",
   "metadata": {},
   "source": [
    "##### Model Evaluation Strategy"
   ]
  },
  {
   "cell_type": "markdown",
   "metadata": {},
   "source": [
    "We will train and tune our models on 750 rows of training data and test them on 250 rows of testing data. we will be employing stratified K fold method to perform cross-validation on the data with number of splits = 5."
   ]
  },
  {
   "cell_type": "code",
   "execution_count": 40,
   "metadata": {},
   "outputs": [],
   "source": [
    "from sklearn.model_selection import StratifiedKFold, GridSearchCV\n",
    "\n",
    "cv_method = StratifiedKFold(n_splits=5, random_state=999)"
   ]
  },
  {
   "cell_type": "markdown",
   "metadata": {},
   "source": [
    "## 6 Hyper parameter tuning"
   ]
  },
  {
   "cell_type": "markdown",
   "metadata": {},
   "source": [
    "### 6.1 KNN tuning"
   ]
  },
  {
   "cell_type": "markdown",
   "metadata": {},
   "source": [
    "Using Pipeline, we stack feature selection and grid search for KNN hyperparameter tuning via cross-validation. We will use the same Pipeline methodology for NB, DT, RF and LR.\n",
    "\n",
    "The hyperparameters for KNN  are as follows:\n",
    "\n",
    "number of neighbors (n_neighbors)\n",
    "\n",
    "number of features (n_features)\n",
    "\n",
    "the distance metric p.\n",
    "\n",
    "Feature selection was done using the powerful Random Forest Importance (RFI) method with 100 estimators. Using the help of a case study referenced at the end, we defined the custom function RFIFeatureSelector() class below to pass in RFI as a step to the pipeline."
   ]
  },
  {
   "cell_type": "code",
   "execution_count": 41,
   "metadata": {},
   "outputs": [],
   "source": [
    "from sklearn.base import BaseEstimator, TransformerMixin\n",
    "\n",
    "# custom function for RFI feature selection inside a pipeline\n",
    "# here we use n_estimators=100\n",
    "class RFIFeatureSelector(BaseEstimator, TransformerMixin):\n",
    "    \n",
    "    # class constructor \n",
    "    # make sure class attributes end with a \"_\"\n",
    "    # per scikit-learn convention to avoid errors\n",
    "    def __init__(self, n_features_=10):\n",
    "        self.n_features_ = n_features_\n",
    "        self.fs_indices_ = None\n",
    "\n",
    "    # override the fit function\n",
    "    def fit(self, X, y):\n",
    "        from sklearn.ensemble import RandomForestClassifier\n",
    "        from numpy import argsort\n",
    "        model_rfi = RandomForestClassifier(n_estimators=100)\n",
    "        model_rfi.fit(X, y)\n",
    "        self.fs_indices_ = argsort(model_rfi.feature_importances_)[::-1][0:self.n_features_] \n",
    "        return self \n",
    "    \n",
    "    # override the transform function\n",
    "    def transform(self, X, y=None):\n",
    "        return X[:, self.fs_indices_]"
   ]
  },
  {
   "cell_type": "markdown",
   "metadata": {},
   "source": [
    "Running our KNN classifier to find the best parameters for using grid search cross validation."
   ]
  },
  {
   "cell_type": "code",
   "execution_count": 42,
   "metadata": {},
   "outputs": [],
   "source": [
    "from sklearn.pipeline import Pipeline\n",
    "from sklearn.neighbors import KNeighborsClassifier\n",
    "\n",
    "pipe_KNN = Pipeline(steps=[('rfi_fs', RFIFeatureSelector()), \n",
    "                           ('knn', KNeighborsClassifier())])\n",
    "\n",
    "params_pipe_KNN = {'rfi_fs__n_features_': [10, 15, df.shape[1]],\n",
    "                   'knn__n_neighbors': [1, 5, 10, 15],\n",
    "                   'knn__p': [1, 2]}\n",
    "\n",
    "gs_pipe_KNN = GridSearchCV(estimator=pipe_KNN, \n",
    "                           param_grid=params_pipe_KNN, \n",
    "                           cv=cv_method,\n",
    "                           refit=True,\n",
    "                           n_jobs=-2,\n",
    "                           scoring='roc_auc',\n",
    "                           verbose=1) "
   ]
  },
  {
   "cell_type": "code",
   "execution_count": 43,
   "metadata": {},
   "outputs": [
    {
     "name": "stdout",
     "output_type": "stream",
     "text": [
      "Fitting 5 folds for each of 24 candidates, totalling 120 fits\n"
     ]
    },
    {
     "name": "stderr",
     "output_type": "stream",
     "text": [
      "[Parallel(n_jobs=-2)]: Using backend LokyBackend with 7 concurrent workers.\n",
      "[Parallel(n_jobs=-2)]: Done  36 tasks      | elapsed:    5.5s\n",
      "[Parallel(n_jobs=-2)]: Done 120 out of 120 | elapsed:    8.5s finished\n"
     ]
    }
   ],
   "source": [
    "gs_pipe_KNN.fit(X_train, y_train);\n"
   ]
  },
  {
   "cell_type": "code",
   "execution_count": 44,
   "metadata": {},
   "outputs": [
    {
     "data": {
      "text/plain": [
       "{'knn__n_neighbors': 10, 'knn__p': 1, 'rfi_fs__n_features_': 15}"
      ]
     },
     "execution_count": 44,
     "metadata": {},
     "output_type": "execute_result"
    }
   ],
   "source": [
    "gs_pipe_KNN.best_params_"
   ]
  },
  {
   "cell_type": "markdown",
   "metadata": {},
   "source": [
    "We found the best parameters for KNN classifier to be:\n",
    "    n_neighbours = 10,\n",
    "    p = 1 and\n",
    "    n_features = 15."
   ]
  },
  {
   "cell_type": "code",
   "execution_count": 45,
   "metadata": {},
   "outputs": [
    {
     "data": {
      "text/plain": [
       "0.6058627966236662"
      ]
     },
     "execution_count": 45,
     "metadata": {},
     "output_type": "execute_result"
    }
   ],
   "source": [
    "gs_pipe_KNN.best_score_"
   ]
  },
  {
   "cell_type": "markdown",
   "metadata": {},
   "source": [
    "The best score after cross validation for KNN classifier is 0.59. Let us check the results of other classifiers as this can be improved."
   ]
  },
  {
   "cell_type": "markdown",
   "metadata": {},
   "source": [
    "The following function formats grid search results as a pandas data frame so we can see the results for the 5 cross validations. This makes it easier for comparison of different parameter scores."
   ]
  },
  {
   "cell_type": "code",
   "execution_count": 46,
   "metadata": {},
   "outputs": [],
   "source": [
    "# custom function to format the search results as a Pandas data frame\n",
    "def get_search_results(gs):\n",
    "\n",
    "    def model_result(scores, params):\n",
    "        scores = {'mean_score': np.mean(scores),\n",
    "             'std_score': np.std(scores),\n",
    "             'min_score': np.min(scores),\n",
    "             'max_score': np.max(scores)}\n",
    "        return pd.Series({**params,**scores})\n",
    "\n",
    "    models = []\n",
    "    scores = []\n",
    "\n",
    "    for i in range(gs.n_splits_):\n",
    "        key = f\"split{i}_test_score\"\n",
    "        r = gs.cv_results_[key]        \n",
    "        scores.append(r.reshape(-1,1))\n",
    "\n",
    "    all_scores = np.hstack(scores)\n",
    "    for p, s in zip(gs.cv_results_['params'], all_scores):\n",
    "        models.append((model_result(s, p)))\n",
    "\n",
    "    pipe_results = pd.concat(models, axis=1).T.sort_values(['mean_score'], ascending=False)\n",
    "\n",
    "    columns_first = ['mean_score', 'std_score', 'max_score', 'min_score']\n",
    "    columns = columns_first + [c for c in pipe_results.columns if c not in columns_first]\n",
    "\n",
    "    return pipe_results[columns]"
   ]
  },
  {
   "cell_type": "code",
   "execution_count": 47,
   "metadata": {},
   "outputs": [
    {
     "data": {
      "text/html": [
       "<div>\n",
       "<style scoped>\n",
       "    .dataframe tbody tr th:only-of-type {\n",
       "        vertical-align: middle;\n",
       "    }\n",
       "\n",
       "    .dataframe tbody tr th {\n",
       "        vertical-align: top;\n",
       "    }\n",
       "\n",
       "    .dataframe thead th {\n",
       "        text-align: right;\n",
       "    }\n",
       "</style>\n",
       "<table border=\"1\" class=\"dataframe\">\n",
       "  <thead>\n",
       "    <tr style=\"text-align: right;\">\n",
       "      <th></th>\n",
       "      <th>mean_score</th>\n",
       "      <th>std_score</th>\n",
       "      <th>max_score</th>\n",
       "      <th>min_score</th>\n",
       "      <th>knn__n_neighbors</th>\n",
       "      <th>knn__p</th>\n",
       "      <th>rfi_fs__n_features_</th>\n",
       "    </tr>\n",
       "  </thead>\n",
       "  <tbody>\n",
       "    <tr>\n",
       "      <th>14</th>\n",
       "      <td>0.605863</td>\n",
       "      <td>0.037356</td>\n",
       "      <td>0.677048</td>\n",
       "      <td>0.566576</td>\n",
       "      <td>10.0</td>\n",
       "      <td>1.0</td>\n",
       "      <td>43.0</td>\n",
       "    </tr>\n",
       "    <tr>\n",
       "      <th>13</th>\n",
       "      <td>0.605863</td>\n",
       "      <td>0.037356</td>\n",
       "      <td>0.677048</td>\n",
       "      <td>0.566576</td>\n",
       "      <td>10.0</td>\n",
       "      <td>1.0</td>\n",
       "      <td>15.0</td>\n",
       "    </tr>\n",
       "    <tr>\n",
       "      <th>12</th>\n",
       "      <td>0.602301</td>\n",
       "      <td>0.031128</td>\n",
       "      <td>0.658131</td>\n",
       "      <td>0.565113</td>\n",
       "      <td>10.0</td>\n",
       "      <td>1.0</td>\n",
       "      <td>10.0</td>\n",
       "    </tr>\n",
       "    <tr>\n",
       "      <th>7</th>\n",
       "      <td>0.594641</td>\n",
       "      <td>0.045789</td>\n",
       "      <td>0.670046</td>\n",
       "      <td>0.538519</td>\n",
       "      <td>5.0</td>\n",
       "      <td>1.0</td>\n",
       "      <td>15.0</td>\n",
       "    </tr>\n",
       "    <tr>\n",
       "      <th>8</th>\n",
       "      <td>0.594641</td>\n",
       "      <td>0.045789</td>\n",
       "      <td>0.670046</td>\n",
       "      <td>0.538519</td>\n",
       "      <td>5.0</td>\n",
       "      <td>1.0</td>\n",
       "      <td>43.0</td>\n",
       "    </tr>\n",
       "  </tbody>\n",
       "</table>\n",
       "</div>"
      ],
      "text/plain": [
       "    mean_score  std_score  max_score  min_score  knn__n_neighbors  knn__p  \\\n",
       "14    0.605863   0.037356   0.677048   0.566576              10.0     1.0   \n",
       "13    0.605863   0.037356   0.677048   0.566576              10.0     1.0   \n",
       "12    0.602301   0.031128   0.658131   0.565113              10.0     1.0   \n",
       "7     0.594641   0.045789   0.670046   0.538519               5.0     1.0   \n",
       "8     0.594641   0.045789   0.670046   0.538519               5.0     1.0   \n",
       "\n",
       "    rfi_fs__n_features_  \n",
       "14                 43.0  \n",
       "13                 15.0  \n",
       "12                 10.0  \n",
       "7                  15.0  \n",
       "8                  43.0  "
      ]
     },
     "execution_count": 47,
     "metadata": {},
     "output_type": "execute_result"
    }
   ],
   "source": [
    "results_KNN = get_search_results(gs_pipe_KNN)\n",
    "results_KNN.head()"
   ]
  },
  {
   "cell_type": "markdown",
   "metadata": {},
   "source": [
    "We can see above that the cross-validated AUC score difference for different hyper parameters is not much. Visualization is shown below."
   ]
  },
  {
   "cell_type": "code",
   "execution_count": 48,
   "metadata": {},
   "outputs": [
    {
     "data": {
      "text/html": [
       "\n",
       "<div id=\"altair-viz-45ef46d1bfe44fb08e77431071ee7990\"></div>\n",
       "<script type=\"text/javascript\">\n",
       "  (function(spec, embedOpt){\n",
       "    let outputDiv = document.currentScript.previousElementSibling;\n",
       "    if (outputDiv.id !== \"altair-viz-45ef46d1bfe44fb08e77431071ee7990\") {\n",
       "      outputDiv = document.getElementById(\"altair-viz-45ef46d1bfe44fb08e77431071ee7990\");\n",
       "    }\n",
       "    const paths = {\n",
       "      \"vega\": \"https://cdn.jsdelivr.net/npm//vega@5?noext\",\n",
       "      \"vega-lib\": \"https://cdn.jsdelivr.net/npm//vega-lib?noext\",\n",
       "      \"vega-lite\": \"https://cdn.jsdelivr.net/npm//vega-lite@4.8.1?noext\",\n",
       "      \"vega-embed\": \"https://cdn.jsdelivr.net/npm//vega-embed@6?noext\",\n",
       "    };\n",
       "\n",
       "    function loadScript(lib) {\n",
       "      return new Promise(function(resolve, reject) {\n",
       "        var s = document.createElement('script');\n",
       "        s.src = paths[lib];\n",
       "        s.async = true;\n",
       "        s.onload = () => resolve(paths[lib]);\n",
       "        s.onerror = () => reject(`Error loading script: ${paths[lib]}`);\n",
       "        document.getElementsByTagName(\"head\")[0].appendChild(s);\n",
       "      });\n",
       "    }\n",
       "\n",
       "    function showError(err) {\n",
       "      outputDiv.innerHTML = `<div class=\"error\" style=\"color:red;\">${err}</div>`;\n",
       "      throw err;\n",
       "    }\n",
       "\n",
       "    function displayChart(vegaEmbed) {\n",
       "      vegaEmbed(outputDiv, spec, embedOpt)\n",
       "        .catch(err => showError(`Javascript Error: ${err.message}<br>This usually means there's a typo in your chart specification. See the javascript console for the full traceback.`));\n",
       "    }\n",
       "\n",
       "    if(typeof define === \"function\" && define.amd) {\n",
       "      requirejs.config({paths});\n",
       "      require([\"vega-embed\"], displayChart, err => showError(`Error loading script: ${err.message}`));\n",
       "    } else if (typeof vegaEmbed === \"function\") {\n",
       "      displayChart(vegaEmbed);\n",
       "    } else {\n",
       "      loadScript(\"vega\")\n",
       "        .then(() => loadScript(\"vega-lite\"))\n",
       "        .then(() => loadScript(\"vega-embed\"))\n",
       "        .catch(showError)\n",
       "        .then(() => displayChart(vegaEmbed));\n",
       "    }\n",
       "  })({\"config\": {\"view\": {\"continuousWidth\": 400, \"continuousHeight\": 300}}, \"data\": {\"name\": \"data-33872ca4eac640f0347cc3d60b0258a3\"}, \"mark\": {\"type\": \"line\", \"point\": true}, \"encoding\": {\"color\": {\"type\": \"nominal\", \"field\": \"knn__p\", \"title\": \"p\"}, \"x\": {\"type\": \"quantitative\", \"field\": \"knn__n_neighbors\", \"title\": \"Number of Neighbors\"}, \"y\": {\"type\": \"quantitative\", \"field\": \"mean_score\", \"scale\": {\"zero\": false}, \"title\": \"AUC Score\"}}, \"title\": \"KNN Performance Comparison with 10 Features\", \"$schema\": \"https://vega.github.io/schema/vega-lite/v4.8.1.json\", \"datasets\": {\"data-33872ca4eac640f0347cc3d60b0258a3\": [{\"mean_score\": 0.6023006273114969, \"std_score\": 0.031128444380772086, \"max_score\": 0.65813127090301, \"min_score\": 0.5651128762541805, \"knn__n_neighbors\": 10.0, \"knn__p\": 1.0, \"rfi_fs__n_features_\": 10.0}, {\"mean_score\": 0.5931507228681141, \"std_score\": 0.04175624851078513, \"max_score\": 0.6541596989966556, \"min_score\": 0.5353439153439153, \"knn__n_neighbors\": 5.0, \"knn__p\": 1.0, \"rfi_fs__n_features_\": 10.0}, {\"mean_score\": 0.5908286174373132, \"std_score\": 0.04218717735724817, \"max_score\": 0.6431746031746033, \"min_score\": 0.5283597883597884, \"knn__n_neighbors\": 15.0, \"knn__p\": 1.0, \"rfi_fs__n_features_\": 10.0}, {\"mean_score\": 0.5872359098228663, \"std_score\": 0.03115649477837145, \"max_score\": 0.6420359531772576, \"min_score\": 0.5507943143812708, \"knn__n_neighbors\": 10.0, \"knn__p\": 2.0, \"rfi_fs__n_features_\": 10.0}, {\"mean_score\": 0.5795104537169755, \"std_score\": 0.042683256545956956, \"max_score\": 0.636825396825397, \"min_score\": 0.5223280423280423, \"knn__n_neighbors\": 15.0, \"knn__p\": 2.0, \"rfi_fs__n_features_\": 10.0}, {\"mean_score\": 0.576693095149617, \"std_score\": 0.041205877135444144, \"max_score\": 0.6402591973244147, \"min_score\": 0.5291005291005291, \"knn__n_neighbors\": 5.0, \"knn__p\": 2.0, \"rfi_fs__n_features_\": 10.0}, {\"mean_score\": 0.5539556458034719, \"std_score\": 0.01926745705011788, \"max_score\": 0.5742056856187291, \"min_score\": 0.5261287625418061, \"knn__n_neighbors\": 1.0, \"knn__p\": 1.0, \"rfi_fs__n_features_\": 10.0}, {\"mean_score\": 0.5487913415087328, \"std_score\": 0.02866074692642755, \"max_score\": 0.580267558528428, \"min_score\": 0.5079365079365079, \"knn__n_neighbors\": 1.0, \"knn__p\": 2.0, \"rfi_fs__n_features_\": 10.0}]}}, {\"mode\": \"vega-lite\"});\n",
       "</script>"
      ],
      "text/plain": [
       "alt.Chart(...)"
      ]
     },
     "execution_count": 48,
     "metadata": {},
     "output_type": "execute_result"
    }
   ],
   "source": [
    "import altair as alt\n",
    "\n",
    "results_KNN_10_features = results_KNN[results_KNN['rfi_fs__n_features_'] == 10.0]\n",
    "\n",
    "alt.Chart(results_KNN_10_features, \n",
    "          title='KNN Performance Comparison with 10 Features'\n",
    "         ).mark_line(point=True).encode(\n",
    "    alt.X('knn__n_neighbors', title='Number of Neighbors'),\n",
    "    alt.Y('mean_score', title='AUC Score', scale=alt.Scale(zero=False)),\n",
    "    alt.Color('knn__p:N', title='p')\n",
    ")"
   ]
  },
  {
   "cell_type": "markdown",
   "metadata": {},
   "source": [
    "## 6.2 (Gaussian) Naive Bayes (NB) tuning\n",
    "\n",
    "As NB requires every descriptive feature to follow a Gaussian distribution, we performed a power transformation on the input data before fitting the model. We will optomize var_smoothing parameter for NB.\n",
    "\n",
    "feature selection was done using RFIFeatureSelector() function."
   ]
  },
  {
   "cell_type": "code",
   "execution_count": 49,
   "metadata": {},
   "outputs": [],
   "source": [
    "from sklearn.preprocessing import PowerTransformer\n",
    "Data_sample_train_transformed = PowerTransformer().fit_transform(X_train)"
   ]
  },
  {
   "cell_type": "code",
   "execution_count": 50,
   "metadata": {},
   "outputs": [
    {
     "name": "stdout",
     "output_type": "stream",
     "text": [
      "Fitting 5 folds for each of 10 candidates, totalling 50 fits\n"
     ]
    },
    {
     "name": "stderr",
     "output_type": "stream",
     "text": [
      "[Parallel(n_jobs=-2)]: Using backend LokyBackend with 7 concurrent workers.\n",
      "[Parallel(n_jobs=-2)]: Done  36 tasks      | elapsed:    1.7s\n",
      "[Parallel(n_jobs=-2)]: Done  50 out of  50 | elapsed:    2.3s finished\n"
     ]
    }
   ],
   "source": [
    "from sklearn.naive_bayes import GaussianNB\n",
    "from sklearn.model_selection import RandomizedSearchCV\n",
    "\n",
    "pipe_NB = Pipeline([('rfi_fs', RFIFeatureSelector()), \n",
    "                     ('nb', GaussianNB())])\n",
    "\n",
    "params_pipe_NB = {'rfi_fs__n_features_': [10, 15,features_df.shape[1]],\n",
    "                  'nb__var_smoothing': np.logspace(1,-3, num=200)}\n",
    "\n",
    "n_iter_search = 10\n",
    "gs_pipe_NB = RandomizedSearchCV(estimator=pipe_NB, \n",
    "                          param_distributions=params_pipe_NB, \n",
    "                          cv=cv_method,\n",
    "                          refit=True,\n",
    "                          n_jobs=-2,\n",
    "                          scoring='roc_auc',\n",
    "                          n_iter=n_iter_search,\n",
    "                          verbose=1) \n",
    "\n",
    "gs_pipe_NB.fit(Data_sample_train_transformed , y_train);"
   ]
  },
  {
   "cell_type": "code",
   "execution_count": 51,
   "metadata": {},
   "outputs": [
    {
     "data": {
      "text/plain": [
       "{'rfi_fs__n_features_': 15, 'nb__var_smoothing': 0.008406652885618326}"
      ]
     },
     "execution_count": 51,
     "metadata": {},
     "output_type": "execute_result"
    }
   ],
   "source": [
    "gs_pipe_NB.best_params_"
   ]
  },
  {
   "cell_type": "markdown",
   "metadata": {},
   "source": [
    "We found the best parameters for NB to be: n_fetaures  = 15 and var_smoothing = 0.0028995"
   ]
  },
  {
   "cell_type": "code",
   "execution_count": 52,
   "metadata": {},
   "outputs": [
    {
     "data": {
      "text/plain": [
       "0.755267319636885"
      ]
     },
     "execution_count": 52,
     "metadata": {},
     "output_type": "execute_result"
    }
   ],
   "source": [
    "gs_pipe_NB.best_score_\n"
   ]
  },
  {
   "cell_type": "markdown",
   "metadata": {},
   "source": [
    "Best score by NB with auc score is 0.74 which is much better than KNN classifier. We shall test more classifiers to see if there is any better one."
   ]
  },
  {
   "cell_type": "code",
   "execution_count": 53,
   "metadata": {},
   "outputs": [
    {
     "data": {
      "text/html": [
       "<div>\n",
       "<style scoped>\n",
       "    .dataframe tbody tr th:only-of-type {\n",
       "        vertical-align: middle;\n",
       "    }\n",
       "\n",
       "    .dataframe tbody tr th {\n",
       "        vertical-align: top;\n",
       "    }\n",
       "\n",
       "    .dataframe thead th {\n",
       "        text-align: right;\n",
       "    }\n",
       "</style>\n",
       "<table border=\"1\" class=\"dataframe\">\n",
       "  <thead>\n",
       "    <tr style=\"text-align: right;\">\n",
       "      <th></th>\n",
       "      <th>mean_score</th>\n",
       "      <th>std_score</th>\n",
       "      <th>max_score</th>\n",
       "      <th>min_score</th>\n",
       "      <th>rfi_fs__n_features_</th>\n",
       "      <th>nb__var_smoothing</th>\n",
       "    </tr>\n",
       "  </thead>\n",
       "  <tbody>\n",
       "    <tr>\n",
       "      <th>5</th>\n",
       "      <td>0.755267</td>\n",
       "      <td>0.039687</td>\n",
       "      <td>0.803386</td>\n",
       "      <td>0.688042</td>\n",
       "      <td>15.0</td>\n",
       "      <td>0.008407</td>\n",
       "    </tr>\n",
       "    <tr>\n",
       "      <th>6</th>\n",
       "      <td>0.755184</td>\n",
       "      <td>0.039796</td>\n",
       "      <td>0.803598</td>\n",
       "      <td>0.687831</td>\n",
       "      <td>15.0</td>\n",
       "      <td>0.012751</td>\n",
       "    </tr>\n",
       "    <tr>\n",
       "      <th>0</th>\n",
       "      <td>0.754849</td>\n",
       "      <td>0.039277</td>\n",
       "      <td>0.802540</td>\n",
       "      <td>0.688677</td>\n",
       "      <td>16.0</td>\n",
       "      <td>0.038720</td>\n",
       "    </tr>\n",
       "    <tr>\n",
       "      <th>1</th>\n",
       "      <td>0.754679</td>\n",
       "      <td>0.038824</td>\n",
       "      <td>0.801270</td>\n",
       "      <td>0.689101</td>\n",
       "      <td>15.0</td>\n",
       "      <td>0.067475</td>\n",
       "    </tr>\n",
       "    <tr>\n",
       "      <th>8</th>\n",
       "      <td>0.754548</td>\n",
       "      <td>0.039405</td>\n",
       "      <td>0.800847</td>\n",
       "      <td>0.687196</td>\n",
       "      <td>15.0</td>\n",
       "      <td>0.128989</td>\n",
       "    </tr>\n",
       "  </tbody>\n",
       "</table>\n",
       "</div>"
      ],
      "text/plain": [
       "   mean_score  std_score  max_score  min_score  rfi_fs__n_features_  \\\n",
       "5    0.755267   0.039687   0.803386   0.688042                 15.0   \n",
       "6    0.755184   0.039796   0.803598   0.687831                 15.0   \n",
       "0    0.754849   0.039277   0.802540   0.688677                 16.0   \n",
       "1    0.754679   0.038824   0.801270   0.689101                 15.0   \n",
       "8    0.754548   0.039405   0.800847   0.687196                 15.0   \n",
       "\n",
       "   nb__var_smoothing  \n",
       "5           0.008407  \n",
       "6           0.012751  \n",
       "0           0.038720  \n",
       "1           0.067475  \n",
       "8           0.128989  "
      ]
     },
     "execution_count": 53,
     "metadata": {},
     "output_type": "execute_result"
    }
   ],
   "source": [
    "results_NB = get_search_results(gs_pipe_NB)\n",
    "results_NB.head()"
   ]
  },
  {
   "cell_type": "markdown",
   "metadata": {},
   "source": [
    "We can see above that the cross-validated AUC score difference for different hyper parameters for NB is small. Visualization is shown below."
   ]
  },
  {
   "cell_type": "code",
   "execution_count": 54,
   "metadata": {},
   "outputs": [
    {
     "data": {
      "text/html": [
       "\n",
       "<div id=\"altair-viz-08f8752bf9f749be978559bbf5d3b403\"></div>\n",
       "<script type=\"text/javascript\">\n",
       "  (function(spec, embedOpt){\n",
       "    let outputDiv = document.currentScript.previousElementSibling;\n",
       "    if (outputDiv.id !== \"altair-viz-08f8752bf9f749be978559bbf5d3b403\") {\n",
       "      outputDiv = document.getElementById(\"altair-viz-08f8752bf9f749be978559bbf5d3b403\");\n",
       "    }\n",
       "    const paths = {\n",
       "      \"vega\": \"https://cdn.jsdelivr.net/npm//vega@5?noext\",\n",
       "      \"vega-lib\": \"https://cdn.jsdelivr.net/npm//vega-lib?noext\",\n",
       "      \"vega-lite\": \"https://cdn.jsdelivr.net/npm//vega-lite@4.8.1?noext\",\n",
       "      \"vega-embed\": \"https://cdn.jsdelivr.net/npm//vega-embed@6?noext\",\n",
       "    };\n",
       "\n",
       "    function loadScript(lib) {\n",
       "      return new Promise(function(resolve, reject) {\n",
       "        var s = document.createElement('script');\n",
       "        s.src = paths[lib];\n",
       "        s.async = true;\n",
       "        s.onload = () => resolve(paths[lib]);\n",
       "        s.onerror = () => reject(`Error loading script: ${paths[lib]}`);\n",
       "        document.getElementsByTagName(\"head\")[0].appendChild(s);\n",
       "      });\n",
       "    }\n",
       "\n",
       "    function showError(err) {\n",
       "      outputDiv.innerHTML = `<div class=\"error\" style=\"color:red;\">${err}</div>`;\n",
       "      throw err;\n",
       "    }\n",
       "\n",
       "    function displayChart(vegaEmbed) {\n",
       "      vegaEmbed(outputDiv, spec, embedOpt)\n",
       "        .catch(err => showError(`Javascript Error: ${err.message}<br>This usually means there's a typo in your chart specification. See the javascript console for the full traceback.`));\n",
       "    }\n",
       "\n",
       "    if(typeof define === \"function\" && define.amd) {\n",
       "      requirejs.config({paths});\n",
       "      require([\"vega-embed\"], displayChart, err => showError(`Error loading script: ${err.message}`));\n",
       "    } else if (typeof vegaEmbed === \"function\") {\n",
       "      displayChart(vegaEmbed);\n",
       "    } else {\n",
       "      loadScript(\"vega\")\n",
       "        .then(() => loadScript(\"vega-lite\"))\n",
       "        .then(() => loadScript(\"vega-embed\"))\n",
       "        .catch(showError)\n",
       "        .then(() => displayChart(vegaEmbed));\n",
       "    }\n",
       "  })({\"config\": {\"view\": {\"continuousWidth\": 400, \"continuousHeight\": 300}}, \"data\": {\"name\": \"data-c78c8a59e489da09f3cfc685c931dacf\"}, \"mark\": {\"type\": \"line\", \"point\": true}, \"encoding\": {\"x\": {\"type\": \"quantitative\", \"field\": \"nb__var_smoothing\", \"title\": \"Var. Smoothing\"}, \"y\": {\"type\": \"quantitative\", \"field\": \"mean_score\", \"scale\": {\"zero\": false}, \"title\": \"AUC Score\"}}, \"title\": \"NB Performance Comparison with 10 Features\", \"$schema\": \"https://vega.github.io/schema/vega-lite/v4.8.1.json\", \"datasets\": {\"data-c78c8a59e489da09f3cfc685c931dacf\": [{\"mean_score\": 0.7310706411141193, \"std_score\": 0.04547837894134517, \"max_score\": 0.7822222222222223, \"min_score\": 0.662010582010582, \"rfi_fs__n_features_\": 10.0, \"nb__var_smoothing\": 0.27049597304631345}, {\"mean_score\": 0.7181860345773389, \"std_score\": 0.04208065414956098, \"max_score\": 0.7866666666666666, \"min_score\": 0.6541798941798941, \"rfi_fs__n_features_\": 10.0, \"nb__var_smoothing\": 0.04247571552536898}]}}, {\"mode\": \"vega-lite\"});\n",
       "</script>"
      ],
      "text/plain": [
       "alt.Chart(...)"
      ]
     },
     "execution_count": 54,
     "metadata": {},
     "output_type": "execute_result"
    }
   ],
   "source": [
    "results_NB_10_features = results_NB[results_NB['rfi_fs__n_features_'] == 10.0]\n",
    "\n",
    "alt.Chart(results_NB_10_features, \n",
    "          title='NB Performance Comparison with 10 Features'\n",
    "         ).mark_line(point=True).encode(\n",
    "    alt.X('nb__var_smoothing', title='Var. Smoothing'),\n",
    "    alt.Y('mean_score', title='AUC Score', scale=alt.Scale(zero=False))\n",
    ")"
   ]
  },
  {
   "cell_type": "markdown",
   "metadata": {},
   "source": [
    "## 6.3 Decision Trees (DT) tuning\n",
    "The hyper parameters for DT are:\n",
    "\n",
    "maximum depth (max_depth)\n",
    "\n",
    "minimum sample split (min_samples_split)\n",
    "\n",
    "number of features (n_features)."
   ]
  },
  {
   "cell_type": "code",
   "execution_count": 55,
   "metadata": {
    "scrolled": true
   },
   "outputs": [
    {
     "name": "stdout",
     "output_type": "stream",
     "text": [
      "Fitting 5 folds for each of 12 candidates, totalling 60 fits\n"
     ]
    },
    {
     "name": "stderr",
     "output_type": "stream",
     "text": [
      "[Parallel(n_jobs=-2)]: Using backend LokyBackend with 7 concurrent workers.\n",
      "[Parallel(n_jobs=-2)]: Done  36 tasks      | elapsed:    2.2s\n",
      "[Parallel(n_jobs=-2)]: Done  60 out of  60 | elapsed:    3.2s finished\n"
     ]
    }
   ],
   "source": [
    "from sklearn.tree import DecisionTreeClassifier\n",
    "\n",
    "pipe_DT = Pipeline([('rfi_fs', RFIFeatureSelector()),\n",
    "                    ('dt', DecisionTreeClassifier(criterion='gini', random_state=999))])\n",
    "\n",
    "params_pipe_DT = {'rfi_fs__n_features_': [10],\n",
    "                  'dt__max_depth': [5, 10, 15],\n",
    "                  'dt__min_samples_split': [5, 50, 100, 150]}\n",
    "\n",
    "gs_pipe_DT = GridSearchCV(estimator=pipe_DT, \n",
    "                          param_grid=params_pipe_DT, \n",
    "                          cv=cv_method,\n",
    "                          refit=True,\n",
    "                          n_jobs=-2,\n",
    "                          scoring='roc_auc',\n",
    "                          verbose=1) \n",
    "\n",
    "gs_pipe_DT.fit(X_train, y_train);"
   ]
  },
  {
   "cell_type": "code",
   "execution_count": 56,
   "metadata": {},
   "outputs": [
    {
     "data": {
      "text/plain": [
       "{'dt__max_depth': 5, 'dt__min_samples_split': 100, 'rfi_fs__n_features_': 10}"
      ]
     },
     "execution_count": 56,
     "metadata": {},
     "output_type": "execute_result"
    }
   ],
   "source": [
    "gs_pipe_DT.best_params_"
   ]
  },
  {
   "cell_type": "markdown",
   "metadata": {},
   "source": [
    "best parameters for Decision tree classifier are:\n",
    "'dt__max_depth': 10, 'dt__min_samples_split': 150, 'rfi_fs__n_features_': 10"
   ]
  },
  {
   "cell_type": "code",
   "execution_count": 57,
   "metadata": {},
   "outputs": [
    {
     "data": {
      "text/plain": [
       "0.723002318132753"
      ]
     },
     "execution_count": 57,
     "metadata": {},
     "output_type": "execute_result"
    }
   ],
   "source": [
    "gs_pipe_DT.best_score_"
   ]
  },
  {
   "cell_type": "markdown",
   "metadata": {},
   "source": [
    "Deicision Tree classifier after Cross validation with AUC scoring metric gives the best score of 0.718 which is better than KNN but does not beat NB classifier accuracy. We will continue to check for more classifiers. Visulaization of DT classifier is shown below."
   ]
  },
  {
   "cell_type": "code",
   "execution_count": 58,
   "metadata": {},
   "outputs": [
    {
     "data": {
      "text/html": [
       "\n",
       "<div id=\"altair-viz-0660384970184d7ba71a8f3f59bd34a8\"></div>\n",
       "<script type=\"text/javascript\">\n",
       "  (function(spec, embedOpt){\n",
       "    let outputDiv = document.currentScript.previousElementSibling;\n",
       "    if (outputDiv.id !== \"altair-viz-0660384970184d7ba71a8f3f59bd34a8\") {\n",
       "      outputDiv = document.getElementById(\"altair-viz-0660384970184d7ba71a8f3f59bd34a8\");\n",
       "    }\n",
       "    const paths = {\n",
       "      \"vega\": \"https://cdn.jsdelivr.net/npm//vega@5?noext\",\n",
       "      \"vega-lib\": \"https://cdn.jsdelivr.net/npm//vega-lib?noext\",\n",
       "      \"vega-lite\": \"https://cdn.jsdelivr.net/npm//vega-lite@4.8.1?noext\",\n",
       "      \"vega-embed\": \"https://cdn.jsdelivr.net/npm//vega-embed@6?noext\",\n",
       "    };\n",
       "\n",
       "    function loadScript(lib) {\n",
       "      return new Promise(function(resolve, reject) {\n",
       "        var s = document.createElement('script');\n",
       "        s.src = paths[lib];\n",
       "        s.async = true;\n",
       "        s.onload = () => resolve(paths[lib]);\n",
       "        s.onerror = () => reject(`Error loading script: ${paths[lib]}`);\n",
       "        document.getElementsByTagName(\"head\")[0].appendChild(s);\n",
       "      });\n",
       "    }\n",
       "\n",
       "    function showError(err) {\n",
       "      outputDiv.innerHTML = `<div class=\"error\" style=\"color:red;\">${err}</div>`;\n",
       "      throw err;\n",
       "    }\n",
       "\n",
       "    function displayChart(vegaEmbed) {\n",
       "      vegaEmbed(outputDiv, spec, embedOpt)\n",
       "        .catch(err => showError(`Javascript Error: ${err.message}<br>This usually means there's a typo in your chart specification. See the javascript console for the full traceback.`));\n",
       "    }\n",
       "\n",
       "    if(typeof define === \"function\" && define.amd) {\n",
       "      requirejs.config({paths});\n",
       "      require([\"vega-embed\"], displayChart, err => showError(`Error loading script: ${err.message}`));\n",
       "    } else if (typeof vegaEmbed === \"function\") {\n",
       "      displayChart(vegaEmbed);\n",
       "    } else {\n",
       "      loadScript(\"vega\")\n",
       "        .then(() => loadScript(\"vega-lite\"))\n",
       "        .then(() => loadScript(\"vega-embed\"))\n",
       "        .catch(showError)\n",
       "        .then(() => displayChart(vegaEmbed));\n",
       "    }\n",
       "  })({\"config\": {\"view\": {\"continuousWidth\": 400, \"continuousHeight\": 300}}, \"data\": {\"name\": \"data-46904af651fa762c9dd801e5c0f6acee\"}, \"mark\": {\"type\": \"line\", \"point\": true}, \"encoding\": {\"color\": {\"type\": \"nominal\", \"field\": \"dt__max_depth\", \"title\": \"Max Depth\"}, \"x\": {\"type\": \"quantitative\", \"field\": \"dt__min_samples_split\", \"title\": \"Min Samples for Split\"}, \"y\": {\"type\": \"quantitative\", \"field\": \"mean_score\", \"scale\": {\"zero\": false}, \"title\": \"AUC Score\"}}, \"title\": \"DT Performance Comparison with 10 Features\", \"$schema\": \"https://vega.github.io/schema/vega-lite/v4.8.1.json\", \"datasets\": {\"data-46904af651fa762c9dd801e5c0f6acee\": [{\"mean_score\": 0.723002318132753, \"std_score\": 0.04644537556855274, \"max_score\": 0.7738294314381271, \"min_score\": 0.6567725752508362, \"dt__max_depth\": 5.0, \"dt__min_samples_split\": 100.0, \"rfi_fs__n_features_\": 10.0}, {\"mean_score\": 0.7219405071578985, \"std_score\": 0.05155483801845067, \"max_score\": 0.7815873015873016, \"min_score\": 0.6475132275132274, \"dt__max_depth\": 5.0, \"dt__min_samples_split\": 150.0, \"rfi_fs__n_features_\": 10.0}, {\"mean_score\": 0.7217856833182921, \"std_score\": 0.04339557413678377, \"max_score\": 0.7752926421404682, \"min_score\": 0.6475132275132274, \"dt__max_depth\": 15.0, \"dt__min_samples_split\": 150.0, \"rfi_fs__n_features_\": 10.0}, {\"mean_score\": 0.7216654191219408, \"std_score\": 0.04723426313200643, \"max_score\": 0.7668269230769231, \"min_score\": 0.6475132275132274, \"dt__max_depth\": 10.0, \"dt__min_samples_split\": 150.0, \"rfi_fs__n_features_\": 10.0}, {\"mean_score\": 0.7151580356036877, \"std_score\": 0.029999453075824644, \"max_score\": 0.7426839464882944, \"min_score\": 0.6767349498327758, \"dt__max_depth\": 15.0, \"dt__min_samples_split\": 100.0, \"rfi_fs__n_features_\": 10.0}, {\"mean_score\": 0.7064832864398081, \"std_score\": 0.043215663125807866, \"max_score\": 0.7426839464882944, \"min_score\": 0.6333612040133778, \"dt__max_depth\": 10.0, \"dt__min_samples_split\": 100.0, \"rfi_fs__n_features_\": 10.0}, {\"mean_score\": 0.7015334934791457, \"std_score\": 0.022172916069001066, \"max_score\": 0.7230351170568562, \"min_score\": 0.6664924749163881, \"dt__max_depth\": 5.0, \"dt__min_samples_split\": 50.0, \"rfi_fs__n_features_\": 10.0}, {\"mean_score\": 0.6890095025747199, \"std_score\": 0.019371656455255234, \"max_score\": 0.710388795986622, \"min_score\": 0.6605351170568561, \"dt__max_depth\": 10.0, \"dt__min_samples_split\": 50.0, \"rfi_fs__n_features_\": 10.0}, {\"mean_score\": 0.6738971483428006, \"std_score\": 0.018135103163981606, \"max_score\": 0.7075132275132275, \"min_score\": 0.65436872909699, \"dt__max_depth\": 5.0, \"dt__min_samples_split\": 5.0, \"rfi_fs__n_features_\": 10.0}, {\"mean_score\": 0.6737410636867159, \"std_score\": 0.025229690546493384, \"max_score\": 0.710388795986622, \"min_score\": 0.6447619047619048, \"dt__max_depth\": 15.0, \"dt__min_samples_split\": 50.0, \"rfi_fs__n_features_\": 10.0}, {\"mean_score\": 0.6011824998672826, \"std_score\": 0.031065169383944522, \"max_score\": 0.6478306878306879, \"min_score\": 0.569502508361204, \"dt__max_depth\": 15.0, \"dt__min_samples_split\": 5.0, \"rfi_fs__n_features_\": 10.0}, {\"mean_score\": 0.5901316380881598, \"std_score\": 0.023724389763058573, \"max_score\": 0.6356613756613757, \"min_score\": 0.5698160535117057, \"dt__max_depth\": 10.0, \"dt__min_samples_split\": 5.0, \"rfi_fs__n_features_\": 10.0}]}}, {\"mode\": \"vega-lite\"});\n",
       "</script>"
      ],
      "text/plain": [
       "alt.Chart(...)"
      ]
     },
     "execution_count": 58,
     "metadata": {},
     "output_type": "execute_result"
    }
   ],
   "source": [
    "results_DT = get_search_results(gs_pipe_DT)\n",
    "\n",
    "results_DT_10_features = results_DT[results_DT['rfi_fs__n_features_'] == 10.0]\n",
    "\n",
    "alt.Chart(results_DT_10_features, \n",
    "          title='DT Performance Comparison with 10 Features'\n",
    "         ).mark_line(point=True).encode(\n",
    "    alt.X('dt__min_samples_split', title='Min Samples for Split'),\n",
    "    alt.Y('mean_score', title='AUC Score', scale=alt.Scale(zero=False)),\n",
    "    alt.Color('dt__max_depth:N', title='Max Depth')\n",
    ")"
   ]
  },
  {
   "cell_type": "code",
   "execution_count": 59,
   "metadata": {},
   "outputs": [
    {
     "data": {
      "text/html": [
       "<div>\n",
       "<style scoped>\n",
       "    .dataframe tbody tr th:only-of-type {\n",
       "        vertical-align: middle;\n",
       "    }\n",
       "\n",
       "    .dataframe tbody tr th {\n",
       "        vertical-align: top;\n",
       "    }\n",
       "\n",
       "    .dataframe thead th {\n",
       "        text-align: right;\n",
       "    }\n",
       "</style>\n",
       "<table border=\"1\" class=\"dataframe\">\n",
       "  <thead>\n",
       "    <tr style=\"text-align: right;\">\n",
       "      <th></th>\n",
       "      <th>mean_score</th>\n",
       "      <th>std_score</th>\n",
       "      <th>max_score</th>\n",
       "      <th>min_score</th>\n",
       "      <th>dt__max_depth</th>\n",
       "      <th>dt__min_samples_split</th>\n",
       "      <th>rfi_fs__n_features_</th>\n",
       "    </tr>\n",
       "  </thead>\n",
       "  <tbody>\n",
       "    <tr>\n",
       "      <th>2</th>\n",
       "      <td>0.723002</td>\n",
       "      <td>0.046445</td>\n",
       "      <td>0.773829</td>\n",
       "      <td>0.656773</td>\n",
       "      <td>5.0</td>\n",
       "      <td>100.0</td>\n",
       "      <td>10.0</td>\n",
       "    </tr>\n",
       "    <tr>\n",
       "      <th>3</th>\n",
       "      <td>0.721941</td>\n",
       "      <td>0.051555</td>\n",
       "      <td>0.781587</td>\n",
       "      <td>0.647513</td>\n",
       "      <td>5.0</td>\n",
       "      <td>150.0</td>\n",
       "      <td>10.0</td>\n",
       "    </tr>\n",
       "    <tr>\n",
       "      <th>11</th>\n",
       "      <td>0.721786</td>\n",
       "      <td>0.043396</td>\n",
       "      <td>0.775293</td>\n",
       "      <td>0.647513</td>\n",
       "      <td>15.0</td>\n",
       "      <td>150.0</td>\n",
       "      <td>10.0</td>\n",
       "    </tr>\n",
       "    <tr>\n",
       "      <th>7</th>\n",
       "      <td>0.721665</td>\n",
       "      <td>0.047234</td>\n",
       "      <td>0.766827</td>\n",
       "      <td>0.647513</td>\n",
       "      <td>10.0</td>\n",
       "      <td>150.0</td>\n",
       "      <td>10.0</td>\n",
       "    </tr>\n",
       "    <tr>\n",
       "      <th>10</th>\n",
       "      <td>0.715158</td>\n",
       "      <td>0.029999</td>\n",
       "      <td>0.742684</td>\n",
       "      <td>0.676735</td>\n",
       "      <td>15.0</td>\n",
       "      <td>100.0</td>\n",
       "      <td>10.0</td>\n",
       "    </tr>\n",
       "  </tbody>\n",
       "</table>\n",
       "</div>"
      ],
      "text/plain": [
       "    mean_score  std_score  max_score  min_score  dt__max_depth  \\\n",
       "2     0.723002   0.046445   0.773829   0.656773            5.0   \n",
       "3     0.721941   0.051555   0.781587   0.647513            5.0   \n",
       "11    0.721786   0.043396   0.775293   0.647513           15.0   \n",
       "7     0.721665   0.047234   0.766827   0.647513           10.0   \n",
       "10    0.715158   0.029999   0.742684   0.676735           15.0   \n",
       "\n",
       "    dt__min_samples_split  rfi_fs__n_features_  \n",
       "2                   100.0                 10.0  \n",
       "3                   150.0                 10.0  \n",
       "11                  150.0                 10.0  \n",
       "7                   150.0                 10.0  \n",
       "10                  100.0                 10.0  "
      ]
     },
     "execution_count": 59,
     "metadata": {},
     "output_type": "execute_result"
    }
   ],
   "source": [
    "results_DT = get_search_results(gs_pipe_DT)\n",
    "results_DT.head()"
   ]
  },
  {
   "cell_type": "markdown",
   "metadata": {},
   "source": [
    "## 6.4 Random Forest tuning\n",
    "\n",
    "The Hyper parameters for Random forest are:\n",
    "\n",
    "max_depth\n",
    "\n",
    "number of estimators (n_estimators)\n",
    "\n",
    "max_features\n",
    "\n",
    "n_features\n",
    "\n",
    "As before, we will use RFI to select features and perform grid search cross validation to find the best parameters for the decision tree classifier."
   ]
  },
  {
   "cell_type": "code",
   "execution_count": 60,
   "metadata": {},
   "outputs": [
    {
     "name": "stdout",
     "output_type": "stream",
     "text": [
      "Fitting 5 folds for each of 90 candidates, totalling 450 fits\n"
     ]
    },
    {
     "name": "stderr",
     "output_type": "stream",
     "text": [
      "[Parallel(n_jobs=-2)]: Using backend LokyBackend with 7 concurrent workers.\n",
      "[Parallel(n_jobs=-2)]: Done  36 tasks      | elapsed:    2.7s\n",
      "[Parallel(n_jobs=-2)]: Done 186 tasks      | elapsed:   15.2s\n",
      "[Parallel(n_jobs=-2)]: Done 436 tasks      | elapsed:   36.6s\n",
      "[Parallel(n_jobs=-2)]: Done 450 out of 450 | elapsed:   38.2s finished\n"
     ]
    }
   ],
   "source": [
    "\n",
    "\n",
    "pipe_RF = Pipeline([('rfi_fs', RFIFeatureSelector()),\n",
    "                    ('rf', RandomForestClassifier( random_state=999))])\n",
    "\n",
    "params_pipe_RF = {'rf__max_depth': [3,5, 7, 10, None],\n",
    "              'rf__n_estimators':[3,5,10,25,50,150],\n",
    "              'rf__max_features': [4,7,15],\n",
    "                 'rfi_fs__n_features_': [15]}\n",
    "\n",
    "gs_pipe_RF = GridSearchCV(estimator=pipe_RF, \n",
    "                          param_grid=params_pipe_RF, \n",
    "                          cv=cv_method,\n",
    "                          refit=True,\n",
    "                          n_jobs=-2,\n",
    "                          scoring='roc_auc',\n",
    "                          verbose=1) \n",
    "\n",
    "gs_pipe_RF.fit(X_train, y_train);"
   ]
  },
  {
   "cell_type": "code",
   "execution_count": 61,
   "metadata": {},
   "outputs": [
    {
     "data": {
      "text/plain": [
       "{'rf__max_depth': 7,\n",
       " 'rf__max_features': 4,\n",
       " 'rf__n_estimators': 25,\n",
       " 'rfi_fs__n_features_': 15}"
      ]
     },
     "execution_count": 61,
     "metadata": {},
     "output_type": "execute_result"
    }
   ],
   "source": [
    "gs_pipe_RF.best_params_"
   ]
  },
  {
   "cell_type": "markdown",
   "metadata": {},
   "source": [
    "best parameters for random forest classifier are :  \n",
    " 'max_depth': 10,\n",
    " 'max_features': 4,\n",
    " 'n_estimators': 50,\n",
    " 'n_features_': 15"
   ]
  },
  {
   "cell_type": "code",
   "execution_count": 62,
   "metadata": {},
   "outputs": [
    {
     "data": {
      "text/plain": [
       "0.767479375696767"
      ]
     },
     "execution_count": 62,
     "metadata": {},
     "output_type": "execute_result"
    }
   ],
   "source": [
    "gs_pipe_RF.best_score_"
   ]
  },
  {
   "cell_type": "markdown",
   "metadata": {},
   "source": [
    "#### RF classifier after Cross validation with AUC scoring metric gives the best score of 0.769 which is better than all classifiers tested before.\n",
    "Visualization of  Random forest classifier with best parameters is shown below."
   ]
  },
  {
   "cell_type": "code",
   "execution_count": 63,
   "metadata": {},
   "outputs": [
    {
     "data": {
      "text/html": [
       "\n",
       "<div id=\"altair-viz-2179caffd60349409cbe273238afca02\"></div>\n",
       "<script type=\"text/javascript\">\n",
       "  (function(spec, embedOpt){\n",
       "    let outputDiv = document.currentScript.previousElementSibling;\n",
       "    if (outputDiv.id !== \"altair-viz-2179caffd60349409cbe273238afca02\") {\n",
       "      outputDiv = document.getElementById(\"altair-viz-2179caffd60349409cbe273238afca02\");\n",
       "    }\n",
       "    const paths = {\n",
       "      \"vega\": \"https://cdn.jsdelivr.net/npm//vega@5?noext\",\n",
       "      \"vega-lib\": \"https://cdn.jsdelivr.net/npm//vega-lib?noext\",\n",
       "      \"vega-lite\": \"https://cdn.jsdelivr.net/npm//vega-lite@4.8.1?noext\",\n",
       "      \"vega-embed\": \"https://cdn.jsdelivr.net/npm//vega-embed@6?noext\",\n",
       "    };\n",
       "\n",
       "    function loadScript(lib) {\n",
       "      return new Promise(function(resolve, reject) {\n",
       "        var s = document.createElement('script');\n",
       "        s.src = paths[lib];\n",
       "        s.async = true;\n",
       "        s.onload = () => resolve(paths[lib]);\n",
       "        s.onerror = () => reject(`Error loading script: ${paths[lib]}`);\n",
       "        document.getElementsByTagName(\"head\")[0].appendChild(s);\n",
       "      });\n",
       "    }\n",
       "\n",
       "    function showError(err) {\n",
       "      outputDiv.innerHTML = `<div class=\"error\" style=\"color:red;\">${err}</div>`;\n",
       "      throw err;\n",
       "    }\n",
       "\n",
       "    function displayChart(vegaEmbed) {\n",
       "      vegaEmbed(outputDiv, spec, embedOpt)\n",
       "        .catch(err => showError(`Javascript Error: ${err.message}<br>This usually means there's a typo in your chart specification. See the javascript console for the full traceback.`));\n",
       "    }\n",
       "\n",
       "    if(typeof define === \"function\" && define.amd) {\n",
       "      requirejs.config({paths});\n",
       "      require([\"vega-embed\"], displayChart, err => showError(`Error loading script: ${err.message}`));\n",
       "    } else if (typeof vegaEmbed === \"function\") {\n",
       "      displayChart(vegaEmbed);\n",
       "    } else {\n",
       "      loadScript(\"vega\")\n",
       "        .then(() => loadScript(\"vega-lite\"))\n",
       "        .then(() => loadScript(\"vega-embed\"))\n",
       "        .catch(showError)\n",
       "        .then(() => displayChart(vegaEmbed));\n",
       "    }\n",
       "  })({\"config\": {\"view\": {\"continuousWidth\": 400, \"continuousHeight\": 300}}, \"data\": {\"name\": \"data-46904af651fa762c9dd801e5c0f6acee\"}, \"mark\": {\"type\": \"line\", \"point\": true}, \"encoding\": {\"color\": {\"type\": \"nominal\", \"field\": \"dt__max_depth\", \"title\": \"Max Depth\"}, \"x\": {\"type\": \"quantitative\", \"field\": \"dt__min_samples_split\", \"title\": \"Min Samples for Split\"}, \"y\": {\"type\": \"quantitative\", \"field\": \"mean_score\", \"scale\": {\"zero\": false}, \"title\": \"AUC Score\"}}, \"title\": \"RF Performance Comparison with 10 Features\", \"$schema\": \"https://vega.github.io/schema/vega-lite/v4.8.1.json\", \"datasets\": {\"data-46904af651fa762c9dd801e5c0f6acee\": [{\"mean_score\": 0.723002318132753, \"std_score\": 0.04644537556855274, \"max_score\": 0.7738294314381271, \"min_score\": 0.6567725752508362, \"dt__max_depth\": 5.0, \"dt__min_samples_split\": 100.0, \"rfi_fs__n_features_\": 10.0}, {\"mean_score\": 0.7219405071578985, \"std_score\": 0.05155483801845067, \"max_score\": 0.7815873015873016, \"min_score\": 0.6475132275132274, \"dt__max_depth\": 5.0, \"dt__min_samples_split\": 150.0, \"rfi_fs__n_features_\": 10.0}, {\"mean_score\": 0.7217856833182921, \"std_score\": 0.04339557413678377, \"max_score\": 0.7752926421404682, \"min_score\": 0.6475132275132274, \"dt__max_depth\": 15.0, \"dt__min_samples_split\": 150.0, \"rfi_fs__n_features_\": 10.0}, {\"mean_score\": 0.7216654191219408, \"std_score\": 0.04723426313200643, \"max_score\": 0.7668269230769231, \"min_score\": 0.6475132275132274, \"dt__max_depth\": 10.0, \"dt__min_samples_split\": 150.0, \"rfi_fs__n_features_\": 10.0}, {\"mean_score\": 0.7151580356036877, \"std_score\": 0.029999453075824644, \"max_score\": 0.7426839464882944, \"min_score\": 0.6767349498327758, \"dt__max_depth\": 15.0, \"dt__min_samples_split\": 100.0, \"rfi_fs__n_features_\": 10.0}, {\"mean_score\": 0.7064832864398081, \"std_score\": 0.043215663125807866, \"max_score\": 0.7426839464882944, \"min_score\": 0.6333612040133778, \"dt__max_depth\": 10.0, \"dt__min_samples_split\": 100.0, \"rfi_fs__n_features_\": 10.0}, {\"mean_score\": 0.7015334934791457, \"std_score\": 0.022172916069001066, \"max_score\": 0.7230351170568562, \"min_score\": 0.6664924749163881, \"dt__max_depth\": 5.0, \"dt__min_samples_split\": 50.0, \"rfi_fs__n_features_\": 10.0}, {\"mean_score\": 0.6890095025747199, \"std_score\": 0.019371656455255234, \"max_score\": 0.710388795986622, \"min_score\": 0.6605351170568561, \"dt__max_depth\": 10.0, \"dt__min_samples_split\": 50.0, \"rfi_fs__n_features_\": 10.0}, {\"mean_score\": 0.6738971483428006, \"std_score\": 0.018135103163981606, \"max_score\": 0.7075132275132275, \"min_score\": 0.65436872909699, \"dt__max_depth\": 5.0, \"dt__min_samples_split\": 5.0, \"rfi_fs__n_features_\": 10.0}, {\"mean_score\": 0.6737410636867159, \"std_score\": 0.025229690546493384, \"max_score\": 0.710388795986622, \"min_score\": 0.6447619047619048, \"dt__max_depth\": 15.0, \"dt__min_samples_split\": 50.0, \"rfi_fs__n_features_\": 10.0}, {\"mean_score\": 0.6011824998672826, \"std_score\": 0.031065169383944522, \"max_score\": 0.6478306878306879, \"min_score\": 0.569502508361204, \"dt__max_depth\": 15.0, \"dt__min_samples_split\": 5.0, \"rfi_fs__n_features_\": 10.0}, {\"mean_score\": 0.5901316380881598, \"std_score\": 0.023724389763058573, \"max_score\": 0.6356613756613757, \"min_score\": 0.5698160535117057, \"dt__max_depth\": 10.0, \"dt__min_samples_split\": 5.0, \"rfi_fs__n_features_\": 10.0}]}}, {\"mode\": \"vega-lite\"});\n",
       "</script>"
      ],
      "text/plain": [
       "alt.Chart(...)"
      ]
     },
     "execution_count": 63,
     "metadata": {},
     "output_type": "execute_result"
    }
   ],
   "source": [
    "results_RF = get_search_results(gs_pipe_DT)\n",
    "\n",
    "results_RF_10_features = results_DT[results_RF['rfi_fs__n_features_'] == 10.0]\n",
    "\n",
    "alt.Chart(results_RF_10_features, \n",
    "          title='RF Performance Comparison with 10 Features'\n",
    "         ).mark_line(point=True).encode(\n",
    "    alt.X('dt__min_samples_split', title='Min Samples for Split'),\n",
    "    alt.Y('mean_score', title='AUC Score', scale=alt.Scale(zero=False)),\n",
    "    alt.Color('dt__max_depth:N', title='Max Depth')\n",
    ")"
   ]
  },
  {
   "cell_type": "markdown",
   "metadata": {},
   "source": [
    "### 6.5 Logistic Regression tuning\n",
    "\n",
    "Hyper paramter for Logistic regression is C which is the inverse of regularization strength.\n",
    "\n",
    "We performed Grid search cross validation to find the best paramters for Logistic regression."
   ]
  },
  {
   "cell_type": "code",
   "execution_count": 64,
   "metadata": {},
   "outputs": [],
   "source": [
    "LR = GridSearchCV(cv=None,\n",
    "             estimator=LogisticRegression(C=1.0, intercept_scaling=1,   \n",
    "               dual=False, fit_intercept=True, penalty='l2', tol=0.0001),scoring='roc_auc',\n",
    "             param_grid={'C': [0.001, 0.01, 0.1, 1, 10, 100, 1000]})"
   ]
  },
  {
   "cell_type": "code",
   "execution_count": 65,
   "metadata": {},
   "outputs": [
    {
     "data": {
      "text/plain": [
       "GridSearchCV(estimator=LogisticRegression(),\n",
       "             param_grid={'C': [0.001, 0.01, 0.1, 1, 10, 100, 1000]},\n",
       "             scoring='roc_auc')"
      ]
     },
     "execution_count": 65,
     "metadata": {},
     "output_type": "execute_result"
    }
   ],
   "source": [
    "LR.fit(X_train, y_train)"
   ]
  },
  {
   "cell_type": "code",
   "execution_count": 66,
   "metadata": {},
   "outputs": [
    {
     "data": {
      "text/plain": [
       "{'C': 1}"
      ]
     },
     "execution_count": 66,
     "metadata": {},
     "output_type": "execute_result"
    }
   ],
   "source": [
    "LR.best_params_"
   ]
  },
  {
   "cell_type": "markdown",
   "metadata": {},
   "source": [
    "The best parameter for LR is c = 0.1. "
   ]
  },
  {
   "cell_type": "code",
   "execution_count": 67,
   "metadata": {},
   "outputs": [
    {
     "data": {
      "text/plain": [
       "0.7400041230910797"
      ]
     },
     "execution_count": 67,
     "metadata": {},
     "output_type": "execute_result"
    }
   ],
   "source": [
    "LR.best_score_"
   ]
  },
  {
   "cell_type": "markdown",
   "metadata": {},
   "source": [
    "We found the best score for LR to be 0.72 which is better than KNN but fails to beat random forest in terms of accuracy with AUC scoring metric"
   ]
  },
  {
   "cell_type": "markdown",
   "metadata": {},
   "source": [
    "## 7. Performance Comparison between Models\n",
    "\n",
    "Before, we found the hyper parameters for our classifiers using 750 rows of training data using cross validation. In order for us to really compare their performance, we will use the best parameters of each classifier (tuned) to predict using 250 rows of Test data which is unseen data for the classifiers. The scoring metric will be AUC. We will perform 10 splits and use the mean of the results for each split to determine the accuracy of each classifier on the Test data. The seed value for each classifier is same ie 999.\n",
    "\n",
    "Finally, we will perform paired t-test on the results of each classifier to compare whether the differences are statistically significant. The comparison of each tuned classifier will be with every other tuned classifier being tested."
   ]
  },
  {
   "cell_type": "markdown",
   "metadata": {},
   "source": [
    "Let see usee the KNN model performance using cross validation."
   ]
  },
  {
   "cell_type": "code",
   "execution_count": 68,
   "metadata": {},
   "outputs": [
    {
     "data": {
      "text/plain": [
       "0.5840219421101775"
      ]
     },
     "execution_count": 68,
     "metadata": {},
     "output_type": "execute_result"
    }
   ],
   "source": [
    "from sklearn.model_selection import cross_val_score\n",
    "\n",
    "cv_method_ttest = StratifiedKFold(n_splits=10, random_state=999)\n",
    "\n",
    "cv_results_KNN = cross_val_score(estimator=gs_pipe_KNN.best_estimator_,\n",
    "                                 X=X_test,\n",
    "                                 y=y_test, \n",
    "                                 cv=cv_method_ttest, \n",
    "                                 n_jobs=-2,\n",
    "                                 scoring='roc_auc')\n",
    "cv_results_KNN.mean()"
   ]
  },
  {
   "cell_type": "markdown",
   "metadata": {},
   "source": [
    "Mean result for KNN performance on test data is 0.597 which is not that good."
   ]
  },
  {
   "cell_type": "markdown",
   "metadata": {},
   "source": [
    "NB model performance using cross validation:"
   ]
  },
  {
   "cell_type": "code",
   "execution_count": 69,
   "metadata": {},
   "outputs": [
    {
     "data": {
      "text/plain": [
       "0.7383053221288515"
      ]
     },
     "execution_count": 69,
     "metadata": {},
     "output_type": "execute_result"
    }
   ],
   "source": [
    "Data_sample_test_transformed = PowerTransformer().fit_transform(X_test)\n",
    "\n",
    "cv_results_NB = cross_val_score(estimator=gs_pipe_NB.best_estimator_,\n",
    "                                X=Data_sample_test_transformed,\n",
    "                                y=y_test, \n",
    "                                cv=cv_method_ttest, \n",
    "                                n_jobs=-2,\n",
    "                                scoring='roc_auc')\n",
    "cv_results_NB.mean()"
   ]
  },
  {
   "cell_type": "markdown",
   "metadata": {},
   "source": [
    "Mean result for NB performance on test data is 0.718 which is better than KNN."
   ]
  },
  {
   "cell_type": "markdown",
   "metadata": {},
   "source": [
    "DT model performance using cross validation."
   ]
  },
  {
   "cell_type": "code",
   "execution_count": 70,
   "metadata": {},
   "outputs": [
    {
     "data": {
      "text/plain": [
       "0.6898867880485527"
      ]
     },
     "execution_count": 70,
     "metadata": {},
     "output_type": "execute_result"
    }
   ],
   "source": [
    "cv_results_DT = cross_val_score(estimator=gs_pipe_DT.best_estimator_,\n",
    "                                X=X_test,\n",
    "                                y=y_test, \n",
    "                                cv=cv_method_ttest, \n",
    "                                n_jobs=-2,\n",
    "                                scoring='roc_auc')\n",
    "cv_results_DT.mean()"
   ]
  },
  {
   "cell_type": "markdown",
   "metadata": {},
   "source": [
    "Mean result for DT performance on test data is 0.665 which is better than KNN but not as good as NB."
   ]
  },
  {
   "cell_type": "markdown",
   "metadata": {},
   "source": [
    "Random forest model performance using cross validation."
   ]
  },
  {
   "cell_type": "code",
   "execution_count": 71,
   "metadata": {},
   "outputs": [
    {
     "data": {
      "text/plain": [
       "0.7583800186741364"
      ]
     },
     "execution_count": 71,
     "metadata": {},
     "output_type": "execute_result"
    }
   ],
   "source": [
    "cv_results_RF = cross_val_score(estimator=gs_pipe_RF.best_estimator_,\n",
    "                                X=X_test,\n",
    "                                y=y_test, \n",
    "                                cv=cv_method_ttest, \n",
    "                                n_jobs=-2,\n",
    "                                scoring='roc_auc')\n",
    "cv_results_RF.mean()"
   ]
  },
  {
   "cell_type": "markdown",
   "metadata": {},
   "source": [
    "Mean result for RF performance on test data after Cross validation is 0.792 which is quite good and better than all previois."
   ]
  },
  {
   "cell_type": "markdown",
   "metadata": {},
   "source": [
    "Logistic Regression model performance using cross validation."
   ]
  },
  {
   "cell_type": "code",
   "execution_count": 72,
   "metadata": {},
   "outputs": [
    {
     "data": {
      "text/plain": [
       "0.7081115779645192"
      ]
     },
     "execution_count": 72,
     "metadata": {},
     "output_type": "execute_result"
    }
   ],
   "source": [
    "cv_results_LR = cross_val_score(estimator=LR.best_estimator_,\n",
    "                                X=X_test,\n",
    "                                y=y_test, \n",
    "                                cv=cv_method_ttest, \n",
    "                                n_jobs=-2,\n",
    "                                scoring='roc_auc')\n",
    "cv_results_LR.mean()"
   ]
  },
  {
   "cell_type": "markdown",
   "metadata": {},
   "source": [
    "Mean result for LR performance on test data using CV is 0.709 which is not as good as that of RF."
   ]
  },
  {
   "cell_type": "markdown",
   "metadata": {},
   "source": [
    "#### Let us now go ahead and perform the paired t-test between all 5 classifiers to see which difference is statistically significant between them."
   ]
  },
  {
   "cell_type": "code",
   "execution_count": 73,
   "metadata": {},
   "outputs": [
    {
     "name": "stdout",
     "output_type": "stream",
     "text": [
      "Ttest_relResult(statistic=-2.998988894044687, pvalue=0.014980906109027208)\n",
      "Ttest_relResult(statistic=-5.33207061226557, pvalue=0.00047339118113614746)\n",
      "Ttest_relResult(statistic=-2.5729596665155077, pvalue=0.030041580700790136)\n",
      "Ttest_relResult(statistic=1.722479230397192, pvalue=0.11908177401206683)\n",
      "Ttest_relResult(statistic=-1.5490495199633212, pvalue=0.1557788755863572)\n",
      "Ttest_relResult(statistic=-1.7944038852668251, pvalue=0.10632797509584165)\n",
      "Ttest_relResult(statistic=-2.5729596665155077, pvalue=0.030041580700790136)\n",
      "Ttest_relResult(statistic=-2.4287634875370863, pvalue=0.038059664263175655)\n",
      "Ttest_relResult(statistic=2.193439326265192, pvalue=0.055935751261338214)\n",
      "Ttest_relResult(statistic=0.8587832980201, pvalue=0.4127475745833942)\n"
     ]
    }
   ],
   "source": [
    "from scipy import stats\n",
    "\n",
    "print(stats.ttest_rel(cv_results_KNN, cv_results_NB))\n",
    "print(stats.ttest_rel(cv_results_KNN, cv_results_RF))\n",
    "print(stats.ttest_rel(cv_results_KNN, cv_results_LR))\n",
    "print(stats.ttest_rel(cv_results_DT, cv_results_KNN))\n",
    "print(stats.ttest_rel(cv_results_DT, cv_results_NB))\n",
    "print(stats.ttest_rel(cv_results_DT, cv_results_RF))\n",
    "print(stats.ttest_rel(cv_results_KNN, cv_results_LR))\n",
    "print(stats.ttest_rel(cv_results_LR, cv_results_NB))\n",
    "print(stats.ttest_rel(cv_results_RF, cv_results_LR))\n",
    "print(stats.ttest_rel(cv_results_RF, cv_results_NB))\n"
   ]
  },
  {
   "cell_type": "markdown",
   "metadata": {},
   "source": [
    "From the results above, we can safely say that with a 95% significance level, Random forest classifier (RF) is statistically the best model in terms of AUC when compared to the test data. A p-value smaller than 0.05 indicates a statistically significant difference. "
   ]
  },
  {
   "cell_type": "markdown",
   "metadata": {},
   "source": [
    "Now we shall consider the following scoring metrics to evaluate models based on the test set:\n",
    "\n",
    "Accuracy\n",
    "Precision\n",
    "Recall\n",
    "F1 Score (the harmonic average of precision and recall)\n",
    "Confusion Matrix\n",
    "These metrics can be computed using classification_report from sklearn.metrics. The classification reports are shown below."
   ]
  },
  {
   "cell_type": "code",
   "execution_count": 74,
   "metadata": {},
   "outputs": [],
   "source": [
    "pred_KNN = gs_pipe_KNN.predict(X_test)"
   ]
  },
  {
   "cell_type": "code",
   "execution_count": 75,
   "metadata": {},
   "outputs": [],
   "source": [
    "Data_test_transformed = PowerTransformer().fit_transform(X_test)\n",
    "pred_NB = gs_pipe_NB.predict(Data_test_transformed)"
   ]
  },
  {
   "cell_type": "code",
   "execution_count": 76,
   "metadata": {},
   "outputs": [],
   "source": [
    "pred_DT = gs_pipe_DT.predict(X_test)"
   ]
  },
  {
   "cell_type": "code",
   "execution_count": 77,
   "metadata": {},
   "outputs": [],
   "source": [
    "pred_RF = gs_pipe_RF.predict(X_test)"
   ]
  },
  {
   "cell_type": "code",
   "execution_count": 78,
   "metadata": {},
   "outputs": [],
   "source": [
    "pred_LR = LR.predict(X_test)"
   ]
  },
  {
   "cell_type": "code",
   "execution_count": 79,
   "metadata": {},
   "outputs": [
    {
     "name": "stdout",
     "output_type": "stream",
     "text": [
      "\n",
      "Classification report for K-Nearest Neighbor\n",
      "              precision    recall  f1-score   support\n",
      "\n",
      "           0       0.29      0.17      0.21        72\n",
      "           1       0.71      0.84      0.77       178\n",
      "\n",
      "    accuracy                           0.64       250\n",
      "   macro avg       0.50      0.50      0.49       250\n",
      "weighted avg       0.59      0.64      0.61       250\n",
      "\n",
      "\n",
      "Classification report for Naive Bayes\n",
      "              precision    recall  f1-score   support\n",
      "\n",
      "           0       0.48      0.43      0.46        72\n",
      "           1       0.78      0.81      0.80       178\n",
      "\n",
      "    accuracy                           0.70       250\n",
      "   macro avg       0.63      0.62      0.63       250\n",
      "weighted avg       0.69      0.70      0.70       250\n",
      "\n",
      "\n",
      "Classification report for Decision Tree\n",
      "              precision    recall  f1-score   support\n",
      "\n",
      "           0       0.60      0.44      0.51        72\n",
      "           1       0.80      0.88      0.84       178\n",
      "\n",
      "    accuracy                           0.76       250\n",
      "   macro avg       0.70      0.66      0.67       250\n",
      "weighted avg       0.74      0.76      0.74       250\n",
      "\n",
      "\n",
      "Classification report for Random Forest\n",
      "              precision    recall  f1-score   support\n",
      "\n",
      "           0       0.70      0.36      0.48        72\n",
      "           1       0.78      0.94      0.85       178\n",
      "\n",
      "    accuracy                           0.77       250\n",
      "   macro avg       0.74      0.65      0.67       250\n",
      "weighted avg       0.76      0.77      0.75       250\n",
      "\n",
      "\n",
      "Classification report for Logistic Regression\n",
      "              precision    recall  f1-score   support\n",
      "\n",
      "           0       0.53      0.35      0.42        72\n",
      "           1       0.77      0.88      0.82       178\n",
      "\n",
      "    accuracy                           0.72       250\n",
      "   macro avg       0.65      0.61      0.62       250\n",
      "weighted avg       0.70      0.72      0.70       250\n",
      "\n"
     ]
    }
   ],
   "source": [
    "from sklearn import metrics\n",
    "print(\"\\nClassification report for K-Nearest Neighbor\") \n",
    "print(metrics.classification_report(y_test, pred_KNN))\n",
    "print(\"\\nClassification report for Naive Bayes\") \n",
    "print(metrics.classification_report(y_test, pred_NB))\n",
    "print(\"\\nClassification report for Decision Tree\") \n",
    "print(metrics.classification_report(y_test, pred_DT))\n",
    "print(\"\\nClassification report for Random Forest\") \n",
    "print(metrics.classification_report(y_test, pred_RF))\n",
    "print(\"\\nClassification report for Logistic Regression\") \n",
    "print(metrics.classification_report(y_test, pred_LR))"
   ]
  },
  {
   "cell_type": "code",
   "execution_count": 80,
   "metadata": {},
   "outputs": [
    {
     "name": "stdout",
     "output_type": "stream",
     "text": [
      "\n",
      "Confusion matrix for K-Nearest Neighbor\n",
      "[[ 12  60]\n",
      " [ 29 149]]\n",
      "\n",
      "Confusion matrix for Naive Bayes\n",
      "[[ 31  41]\n",
      " [ 33 145]]\n",
      "\n",
      "Confusion matrix for Decision Tree\n",
      "[[ 32  40]\n",
      " [ 21 157]]\n",
      "\n",
      "Confusion matrix for Random Forest\n",
      "[[ 26  46]\n",
      " [ 11 167]]\n",
      "\n",
      "Confusion matrix for Logistic Regression\n",
      "[[ 25  47]\n",
      " [ 22 156]]\n"
     ]
    }
   ],
   "source": [
    "from sklearn import metrics\n",
    "print(\"\\nConfusion matrix for K-Nearest Neighbor\") \n",
    "print(metrics.confusion_matrix(y_test, pred_KNN))\n",
    "print(\"\\nConfusion matrix for Naive Bayes\") \n",
    "print(metrics.confusion_matrix(y_test, pred_NB))\n",
    "print(\"\\nConfusion matrix for Decision Tree\") \n",
    "print(metrics.confusion_matrix(y_test, pred_DT))\n",
    "print(\"\\nConfusion matrix for Random Forest\") \n",
    "print(metrics.confusion_matrix(y_test, pred_RF))\n",
    "print(\"\\nConfusion matrix for Logistic Regression\") \n",
    "print(metrics.confusion_matrix(y_test, pred_LR))"
   ]
  },
  {
   "cell_type": "markdown",
   "metadata": {},
   "source": [
    "Looking at the Report, if the scoring metric used to classify a customer is Recall, then Decision Tree would give the best TPR values. This result is different from our statistical analysis as the scoring metric we used was AUC which showed that RF is the best classifier.\n",
    "If we used F1 score as the scoring metric, we again would see that DT comes on top, closely followed by Random Forest classifier."
   ]
  },
  {
   "cell_type": "markdown",
   "metadata": {},
   "source": [
    "## 8. Limitations "
   ]
  },
  {
   "cell_type": "markdown",
   "metadata": {},
   "source": [
    "Firstly, we only selected 15 features from the final dataset, which we felt might be the reason why our classifiers did not perform splendidly. We could try increasing the limits in our feature selection. Also, the dataset was small and had only 750 rows for training. We could potentially gather more data so that the classifiers can be more optimized. Considering the size of the dataset, we are happy with the results.\n",
    "\n",
    "Secondly, in the plots we saw that credit amount is correlated to credit worthiness i.e risk but in our feature selection analysis, the credit amount feature did not give outstanding correlational results with the target feature and we saw that credit amount does not always relate to credit worthiness. We for some reason got better results if we removed the credit amount feature but thought best to include it as it is directly relevant to the creditworthiness/ target feature.\n",
    "\n",
    "Thirdly, we saw that Random forest classifier outperformed the other 4 classifiers. We can further fine tune and improve it by adding other other parameters available for the RF classifier. We could also expand its search space to get better results."
   ]
  },
  {
   "cell_type": "markdown",
   "metadata": {},
   "source": [
    "## 9. Summary "
   ]
  },
  {
   "cell_type": "markdown",
   "metadata": {},
   "source": [
    "We saw that the tuned Random Forest model produced the best AUC score after cross validation with 15 of the best features selected using RFI (Random Forest Importance). Furthermore, After evaluating the classifiers on the test data, we again saw RF as the best performer among all 5 classifiers and had the highest score w.r.t AUC. In terms of recall and F1 score however, we saw that Decision Tree yeilds the highest recall on the test data. In our analysis, We saw that more the number of features selected, better the results were for the tuned classifiers."
   ]
  },
  {
   "cell_type": "markdown",
   "metadata": {},
   "source": [
    "## 10. References"
   ]
  },
  {
   "cell_type": "markdown",
   "metadata": {},
   "source": [
    "UCI Machine Learning Repository: Statlog (German Credit Data) Data Set. Archive.ics.uci.edu. (2020). Retrieved 31 May 2020, from https://archive.ics.uci.edu/ml/datasets/Statlog+%28German+Credit+Data%29.\n",
    "\n",
    "Vural Aksakalli, (2020). www.featureranking.com, Case Study: Predicting Income Status Available at:<https: #4=\"\" case-study-predicting-income-status=\"\" machine-learning-tutorials=\"\" tutorials=\"\" www.featureranking.com=\"\">\n",
    "\n",
    "Vural Aksakalli, (2020). www.featureranking.com, SK Part 0: Introduction to Machine Learning with Python and scikit-learn¶ Available at:<https: #4=\"\" machine-learning-tutorials=\"\" sk-part-0-introduction-to-machine-learning-with-python-and-scikit-learn=\"\" tutorials=\"\" www.featureranking.com=\"\">\n",
    "\n",
    "Vural Aksakalli, (2020). www.featureranking.com, SK Part 1: Basic Modeling Available at:<https: #4=\"\" machine-learning-tutorials=\"\" sk-part-1-basic-modeling=\"\" tutorials=\"\" www.featureranking.com=\"\">\n",
    "\n",
    "Vural Aksakalli, (2020). www.featureranking.com, SK Part 2: Feature Selection and Ranking Available at:<https: #4=\"\" machine-learning-tutorials=\"\" sk-part-2-feature-selection-and-ranking=\"\" tutorials=\"\" www.featureranking.com=\"\">\n",
    "\n",
    "Vural Aksakalli, (2020). www.featureranking.com, SK Part 3: Cross-Validation and Hyperparameter Tuning Available at:<https: #4=\"\" machine-learning-tutorials=\"\" sk-part-3-cross-validation-and-hyperparameter-tuning=\"\" tutorials=\"\" www.featureranking.com=\"\">\n",
    "\n",
    "Vural Aksakalli, (2020). www.featureranking.com, SK Part 3: Cross-Validation and Hyperparameter Tuning Available at:<https: #4=\"\" machine-learning-tutorials=\"\" sk-part-3-cross-validation-and-hyperparameter-tuning=\"\" tutorials=\"\" www.featureranking.com=\"\">\n",
    "\n",
    "Vural Aksakalli, (2020). www.featureranking.com, SK Part 4: Model Evaluation Available at:<https: #4=\"\" machine-learning-tutorials=\"\" sk-part-4-model-evaluation=\"\" tutorials=\"\" www.featureranking.com=\"\">\n",
    "\n",
    "Michael Waskom, (2020). seaborn.pydata.org, Plotting with categorical data Available at:<https: #4=\"\" categorical.html=\"\" seaborn.pydata.org=\"\" tutorial=\"\">\n",
    "\n",
    "Shaked Zychlinski, (2020). github.com/shakedzy/dython,\n",
    "Dython Available at:<http: #examples#4=\"\" dython=\"\" shakedzy.xyz=\"\">\n",
    "\n",
    "Stackoverflow. (2017). Using Pandas crosstab with seaborn stacked barplots. https://stackoverflow.com/questions/43544694/using-pandas-crosstab-with-seaborn-stacked-barplots&lt;/http:&gt;&lt;/https:&gt;&lt;/https:&gt;&lt;/https:&gt;&lt;/https:&gt;&lt;/https:&gt;&lt;/https:&gt;&lt;/https:&gt;&lt;/https:&gt;"
   ]
  }
 ],
 "metadata": {
  "kernelspec": {
   "display_name": "Python 3",
   "language": "python",
   "name": "python3"
  },
  "language_info": {
   "codemirror_mode": {
    "name": "ipython",
    "version": 3
   },
   "file_extension": ".py",
   "mimetype": "text/x-python",
   "name": "python",
   "nbconvert_exporter": "python",
   "pygments_lexer": "ipython3",
   "version": "3.8.3"
  }
 },
 "nbformat": 4,
 "nbformat_minor": 2
}
