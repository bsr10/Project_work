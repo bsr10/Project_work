{
  "cells": [
    {
      "metadata": {},
      "cell_type": "markdown",
      "source": "Assignment Honour Code\n\n(1) I hereby agree to follow any and all assignment rules and procedures as stated in Canvas for this course, MATH2319.\n\n(2) In particular, I solemnly swear that I will not discuss/ have not discussed my assignment solutions with anyone in any way and the solutions I am submitting are my own personal work.\n\n Full Name: **[Brian Steven Rathod, s3760875]**"
    },
    {
      "metadata": {},
      "cell_type": "markdown",
      "source": "# Question 1."
    },
    {
      "metadata": {
        "trusted": true
      },
      "cell_type": "code",
      "source": "#Importing Numpy and Pandas modules\n\nimport numpy as np\nimport pandas as pd\nimport warnings\nwarnings.filterwarnings('ignore')",
      "execution_count": 1,
      "outputs": []
    },
    {
      "metadata": {
        "trusted": true
      },
      "cell_type": "code",
      "source": "#Reading \"crx.data\" file uploaded to Azure storage\n\ncrx_data = 'crx.data.csv'\ncrxd = pd.read_csv(crx_data , sep=',', header =None)",
      "execution_count": 2,
      "outputs": []
    },
    {
      "metadata": {
        "trusted": true
      },
      "cell_type": "code",
      "source": "#Viewing first 5 observations of the dataset\n\ncrxd.head(5)",
      "execution_count": 3,
      "outputs": [
        {
          "output_type": "execute_result",
          "execution_count": 3,
          "data": {
            "text/html": "<div>\n<style scoped>\n    .dataframe tbody tr th:only-of-type {\n        vertical-align: middle;\n    }\n\n    .dataframe tbody tr th {\n        vertical-align: top;\n    }\n\n    .dataframe thead th {\n        text-align: right;\n    }\n</style>\n<table border=\"1\" class=\"dataframe\">\n  <thead>\n    <tr style=\"text-align: right;\">\n      <th></th>\n      <th>0</th>\n      <th>1</th>\n      <th>2</th>\n      <th>3</th>\n      <th>4</th>\n      <th>5</th>\n      <th>6</th>\n      <th>7</th>\n      <th>8</th>\n      <th>9</th>\n      <th>10</th>\n      <th>11</th>\n      <th>12</th>\n      <th>13</th>\n      <th>14</th>\n      <th>15</th>\n    </tr>\n  </thead>\n  <tbody>\n    <tr>\n      <th>0</th>\n      <td>b</td>\n      <td>30.83</td>\n      <td>0.000</td>\n      <td>u</td>\n      <td>g</td>\n      <td>w</td>\n      <td>v</td>\n      <td>1.25</td>\n      <td>t</td>\n      <td>t</td>\n      <td>1</td>\n      <td>f</td>\n      <td>g</td>\n      <td>00202</td>\n      <td>0</td>\n      <td>+</td>\n    </tr>\n    <tr>\n      <th>1</th>\n      <td>a</td>\n      <td>58.67</td>\n      <td>4.460</td>\n      <td>u</td>\n      <td>g</td>\n      <td>q</td>\n      <td>h</td>\n      <td>3.04</td>\n      <td>t</td>\n      <td>t</td>\n      <td>6</td>\n      <td>f</td>\n      <td>g</td>\n      <td>00043</td>\n      <td>560</td>\n      <td>+</td>\n    </tr>\n    <tr>\n      <th>2</th>\n      <td>a</td>\n      <td>24.50</td>\n      <td>0.500</td>\n      <td>u</td>\n      <td>g</td>\n      <td>q</td>\n      <td>h</td>\n      <td>1.50</td>\n      <td>t</td>\n      <td>f</td>\n      <td>0</td>\n      <td>f</td>\n      <td>g</td>\n      <td>00280</td>\n      <td>824</td>\n      <td>+</td>\n    </tr>\n    <tr>\n      <th>3</th>\n      <td>b</td>\n      <td>27.83</td>\n      <td>1.540</td>\n      <td>u</td>\n      <td>g</td>\n      <td>w</td>\n      <td>v</td>\n      <td>3.75</td>\n      <td>t</td>\n      <td>t</td>\n      <td>5</td>\n      <td>t</td>\n      <td>g</td>\n      <td>00100</td>\n      <td>3</td>\n      <td>+</td>\n    </tr>\n    <tr>\n      <th>4</th>\n      <td>b</td>\n      <td>20.17</td>\n      <td>5.625</td>\n      <td>u</td>\n      <td>g</td>\n      <td>w</td>\n      <td>v</td>\n      <td>1.71</td>\n      <td>t</td>\n      <td>f</td>\n      <td>0</td>\n      <td>f</td>\n      <td>s</td>\n      <td>00120</td>\n      <td>0</td>\n      <td>+</td>\n    </tr>\n  </tbody>\n</table>\n</div>",
            "text/plain": "  0      1      2  3  4  5  6     7  8  9   10 11 12     13   14 15\n0  b  30.83  0.000  u  g  w  v  1.25  t  t   1  f  g  00202    0  +\n1  a  58.67  4.460  u  g  q  h  3.04  t  t   6  f  g  00043  560  +\n2  a  24.50  0.500  u  g  q  h  1.50  t  f   0  f  g  00280  824  +\n3  b  27.83  1.540  u  g  w  v  3.75  t  t   5  t  g  00100    3  +\n4  b  20.17  5.625  u  g  w  v  1.71  t  f   0  f  s  00120    0  +"
          },
          "metadata": {}
        }
      ]
    },
    {
      "metadata": {
        "trusted": true
      },
      "cell_type": "code",
      "source": "#Viewing datatypes of all columns\n\ncrxd.dtypes",
      "execution_count": 4,
      "outputs": [
        {
          "output_type": "execute_result",
          "execution_count": 4,
          "data": {
            "text/plain": "0      object\n1      object\n2     float64\n3      object\n4      object\n5      object\n6      object\n7     float64\n8      object\n9      object\n10      int64\n11     object\n12     object\n13     object\n14      int64\n15     object\ndtype: object"
          },
          "metadata": {}
        }
      ]
    },
    {
      "metadata": {
        "trusted": true
      },
      "cell_type": "code",
      "source": "#Viewing number of missing values in each column, but it doesn't look quite right\n\ncrxd.isna().sum()",
      "execution_count": 5,
      "outputs": [
        {
          "output_type": "execute_result",
          "execution_count": 5,
          "data": {
            "text/plain": "0     0\n1     0\n2     0\n3     0\n4     0\n5     0\n6     0\n7     0\n8     0\n9     0\n10    0\n11    0\n12    0\n13    0\n14    0\n15    0\ndtype: int64"
          },
          "metadata": {}
        }
      ]
    },
    {
      "metadata": {
        "trusted": true
      },
      "cell_type": "code",
      "source": "# Making a list of missing value types, to include \"?\" values\n\nmissing_values = [\"n/a\", \"na\", \"--\", \"?\"]\ncrxd = pd.read_csv(crx_data , sep=',', header =None, na_values = missing_values)",
      "execution_count": 6,
      "outputs": []
    },
    {
      "metadata": {
        "trusted": true
      },
      "cell_type": "code",
      "source": "#Summary statistics of numeric features\n\ncrxd.describe(include = np.number).round(3)",
      "execution_count": 7,
      "outputs": [
        {
          "output_type": "execute_result",
          "execution_count": 7,
          "data": {
            "text/html": "<div>\n<style scoped>\n    .dataframe tbody tr th:only-of-type {\n        vertical-align: middle;\n    }\n\n    .dataframe tbody tr th {\n        vertical-align: top;\n    }\n\n    .dataframe thead th {\n        text-align: right;\n    }\n</style>\n<table border=\"1\" class=\"dataframe\">\n  <thead>\n    <tr style=\"text-align: right;\">\n      <th></th>\n      <th>1</th>\n      <th>2</th>\n      <th>7</th>\n      <th>10</th>\n      <th>13</th>\n      <th>14</th>\n    </tr>\n  </thead>\n  <tbody>\n    <tr>\n      <th>count</th>\n      <td>678.000</td>\n      <td>690.000</td>\n      <td>690.000</td>\n      <td>690.000</td>\n      <td>677.000</td>\n      <td>690.000</td>\n    </tr>\n    <tr>\n      <th>mean</th>\n      <td>31.568</td>\n      <td>4.759</td>\n      <td>2.223</td>\n      <td>2.400</td>\n      <td>184.015</td>\n      <td>1017.386</td>\n    </tr>\n    <tr>\n      <th>std</th>\n      <td>11.958</td>\n      <td>4.978</td>\n      <td>3.347</td>\n      <td>4.863</td>\n      <td>173.807</td>\n      <td>5210.103</td>\n    </tr>\n    <tr>\n      <th>min</th>\n      <td>13.750</td>\n      <td>0.000</td>\n      <td>0.000</td>\n      <td>0.000</td>\n      <td>0.000</td>\n      <td>0.000</td>\n    </tr>\n    <tr>\n      <th>25%</th>\n      <td>22.602</td>\n      <td>1.000</td>\n      <td>0.165</td>\n      <td>0.000</td>\n      <td>75.000</td>\n      <td>0.000</td>\n    </tr>\n    <tr>\n      <th>50%</th>\n      <td>28.460</td>\n      <td>2.750</td>\n      <td>1.000</td>\n      <td>0.000</td>\n      <td>160.000</td>\n      <td>5.000</td>\n    </tr>\n    <tr>\n      <th>75%</th>\n      <td>38.230</td>\n      <td>7.208</td>\n      <td>2.625</td>\n      <td>3.000</td>\n      <td>276.000</td>\n      <td>395.500</td>\n    </tr>\n    <tr>\n      <th>max</th>\n      <td>80.250</td>\n      <td>28.000</td>\n      <td>28.500</td>\n      <td>67.000</td>\n      <td>2000.000</td>\n      <td>100000.000</td>\n    </tr>\n  </tbody>\n</table>\n</div>",
            "text/plain": "            1        2        7        10        13          14\ncount  678.000  690.000  690.000  690.000   677.000     690.000\nmean    31.568    4.759    2.223    2.400   184.015    1017.386\nstd     11.958    4.978    3.347    4.863   173.807    5210.103\nmin     13.750    0.000    0.000    0.000     0.000       0.000\n25%     22.602    1.000    0.165    0.000    75.000       0.000\n50%     28.460    2.750    1.000    0.000   160.000       5.000\n75%     38.230    7.208    2.625    3.000   276.000     395.500\nmax     80.250   28.000   28.500   67.000  2000.000  100000.000"
          },
          "metadata": {}
        }
      ]
    },
    {
      "metadata": {
        "trusted": true
      },
      "cell_type": "code",
      "source": "##Summary statistics of categorical features\n\ncrxd.describe(include = np.object) ",
      "execution_count": 8,
      "outputs": [
        {
          "output_type": "execute_result",
          "execution_count": 8,
          "data": {
            "text/html": "<div>\n<style scoped>\n    .dataframe tbody tr th:only-of-type {\n        vertical-align: middle;\n    }\n\n    .dataframe tbody tr th {\n        vertical-align: top;\n    }\n\n    .dataframe thead th {\n        text-align: right;\n    }\n</style>\n<table border=\"1\" class=\"dataframe\">\n  <thead>\n    <tr style=\"text-align: right;\">\n      <th></th>\n      <th>0</th>\n      <th>3</th>\n      <th>4</th>\n      <th>5</th>\n      <th>6</th>\n      <th>8</th>\n      <th>9</th>\n      <th>11</th>\n      <th>12</th>\n      <th>15</th>\n    </tr>\n  </thead>\n  <tbody>\n    <tr>\n      <th>count</th>\n      <td>678</td>\n      <td>684</td>\n      <td>684</td>\n      <td>681</td>\n      <td>681</td>\n      <td>690</td>\n      <td>690</td>\n      <td>690</td>\n      <td>690</td>\n      <td>690</td>\n    </tr>\n    <tr>\n      <th>unique</th>\n      <td>2</td>\n      <td>3</td>\n      <td>3</td>\n      <td>14</td>\n      <td>9</td>\n      <td>2</td>\n      <td>2</td>\n      <td>2</td>\n      <td>3</td>\n      <td>2</td>\n    </tr>\n    <tr>\n      <th>top</th>\n      <td>b</td>\n      <td>u</td>\n      <td>g</td>\n      <td>c</td>\n      <td>v</td>\n      <td>t</td>\n      <td>f</td>\n      <td>f</td>\n      <td>g</td>\n      <td>-</td>\n    </tr>\n    <tr>\n      <th>freq</th>\n      <td>468</td>\n      <td>519</td>\n      <td>519</td>\n      <td>137</td>\n      <td>399</td>\n      <td>361</td>\n      <td>395</td>\n      <td>374</td>\n      <td>625</td>\n      <td>383</td>\n    </tr>\n  </tbody>\n</table>\n</div>",
            "text/plain": "         0    3    4    5    6    8    9    11   12   15\ncount   678  684  684  681  681  690  690  690  690  690\nunique    2    3    3   14    9    2    2    2    3    2\ntop       b    u    g    c    v    t    f    f    g    -\nfreq    468  519  519  137  399  361  395  374  625  383"
          },
          "metadata": {}
        }
      ]
    },
    {
      "metadata": {
        "trusted": true
      },
      "cell_type": "code",
      "source": "# get the list of categorical descriptive features\ncategorical_cols = crxd.columns[crxd.dtypes==object].tolist()\n\ncategorical_cols\n\n#Removing whitespaces from observations in categorical columns(if present)\nfor col in categorical_cols:\n    print( 'Before transformation, unique values for ' + str(col))\n    print(crxd[col].unique())\n    print('\\nAfter transformation')\n    crxd[col] = crxd[col].str.strip()\n    print(crxd[col].unique())\n    print('')",
      "execution_count": 9,
      "outputs": [
        {
          "output_type": "stream",
          "text": "Before transformation, unique values for 0\n['b' 'a' nan]\n\nAfter transformation\n['b' 'a' nan]\n\nBefore transformation, unique values for 3\n['u' 'y' nan 'l']\n\nAfter transformation\n['u' 'y' nan 'l']\n\nBefore transformation, unique values for 4\n['g' 'p' nan 'gg']\n\nAfter transformation\n['g' 'p' nan 'gg']\n\nBefore transformation, unique values for 5\n['w' 'q' 'm' 'r' 'cc' 'k' 'c' 'd' 'x' 'i' 'e' 'aa' 'ff' 'j' nan]\n\nAfter transformation\n['w' 'q' 'm' 'r' 'cc' 'k' 'c' 'd' 'x' 'i' 'e' 'aa' 'ff' 'j' nan]\n\nBefore transformation, unique values for 6\n['v' 'h' 'bb' 'ff' 'j' 'z' nan 'o' 'dd' 'n']\n\nAfter transformation\n['v' 'h' 'bb' 'ff' 'j' 'z' nan 'o' 'dd' 'n']\n\nBefore transformation, unique values for 8\n['t' 'f']\n\nAfter transformation\n['t' 'f']\n\nBefore transformation, unique values for 9\n['t' 'f']\n\nAfter transformation\n['t' 'f']\n\nBefore transformation, unique values for 11\n['f' 't']\n\nAfter transformation\n['f' 't']\n\nBefore transformation, unique values for 12\n['g' 's' 'p']\n\nAfter transformation\n['g' 's' 'p']\n\nBefore transformation, unique values for 15\n['+' '-']\n\nAfter transformation\n['+' '-']\n\n",
          "name": "stdout"
        }
      ]
    },
    {
      "metadata": {
        "trusted": true
      },
      "cell_type": "code",
      "source": "#Getting value counts for all categorical columns to check for redundancy\n\ncrxd[0].value_counts()",
      "execution_count": 10,
      "outputs": [
        {
          "output_type": "execute_result",
          "execution_count": 10,
          "data": {
            "text/plain": "b    468\na    210\nName: 0, dtype: int64"
          },
          "metadata": {}
        }
      ]
    },
    {
      "metadata": {
        "trusted": true
      },
      "cell_type": "code",
      "source": "crxd[3].value_counts()",
      "execution_count": 11,
      "outputs": [
        {
          "output_type": "execute_result",
          "execution_count": 11,
          "data": {
            "text/plain": "u    519\ny    163\nl      2\nName: 3, dtype: int64"
          },
          "metadata": {}
        }
      ]
    },
    {
      "metadata": {
        "trusted": true
      },
      "cell_type": "code",
      "source": "crxd[4].value_counts()\n\n#Columns 3 & 4 appear to have the same data, pertaining to the same number of values for their 3 categories. \n#One of the columns, number 4, needs to be removed to avoid duplication.",
      "execution_count": 12,
      "outputs": [
        {
          "output_type": "execute_result",
          "execution_count": 12,
          "data": {
            "text/plain": "g     519\np     163\ngg      2\nName: 4, dtype: int64"
          },
          "metadata": {}
        }
      ]
    },
    {
      "metadata": {
        "trusted": true
      },
      "cell_type": "code",
      "source": "crxd[5].value_counts()",
      "execution_count": 13,
      "outputs": [
        {
          "output_type": "execute_result",
          "execution_count": 13,
          "data": {
            "text/plain": "c     137\nq      78\nw      64\ni      59\naa     54\nff     53\nk      51\ncc     41\nx      38\nm      38\nd      30\ne      25\nj      10\nr       3\nName: 5, dtype: int64"
          },
          "metadata": {}
        }
      ]
    },
    {
      "metadata": {
        "trusted": true
      },
      "cell_type": "code",
      "source": "crxd[6].value_counts()",
      "execution_count": 14,
      "outputs": [
        {
          "output_type": "execute_result",
          "execution_count": 14,
          "data": {
            "text/plain": "v     399\nh     138\nbb     59\nff     57\nz       8\nj       8\ndd      6\nn       4\no       2\nName: 6, dtype: int64"
          },
          "metadata": {}
        }
      ]
    },
    {
      "metadata": {
        "trusted": true
      },
      "cell_type": "code",
      "source": "crxd[8].value_counts()",
      "execution_count": 15,
      "outputs": [
        {
          "output_type": "execute_result",
          "execution_count": 15,
          "data": {
            "text/plain": "t    361\nf    329\nName: 8, dtype: int64"
          },
          "metadata": {}
        }
      ]
    },
    {
      "metadata": {
        "trusted": true
      },
      "cell_type": "code",
      "source": "crxd[9].value_counts()",
      "execution_count": 16,
      "outputs": [
        {
          "output_type": "execute_result",
          "execution_count": 16,
          "data": {
            "text/plain": "f    395\nt    295\nName: 9, dtype: int64"
          },
          "metadata": {}
        }
      ]
    },
    {
      "metadata": {
        "trusted": true
      },
      "cell_type": "code",
      "source": "crxd[11].value_counts()",
      "execution_count": 17,
      "outputs": [
        {
          "output_type": "execute_result",
          "execution_count": 17,
          "data": {
            "text/plain": "f    374\nt    316\nName: 11, dtype: int64"
          },
          "metadata": {}
        }
      ]
    },
    {
      "metadata": {
        "trusted": true
      },
      "cell_type": "code",
      "source": "crxd[12].value_counts()",
      "execution_count": 18,
      "outputs": [
        {
          "output_type": "execute_result",
          "execution_count": 18,
          "data": {
            "text/plain": "g    625\ns     57\np      8\nName: 12, dtype: int64"
          },
          "metadata": {}
        }
      ]
    },
    {
      "metadata": {
        "trusted": true
      },
      "cell_type": "code",
      "source": "crxd[15].value_counts()",
      "execution_count": 19,
      "outputs": [
        {
          "output_type": "execute_result",
          "execution_count": 19,
          "data": {
            "text/plain": "-    383\n+    307\nName: 15, dtype: int64"
          },
          "metadata": {}
        }
      ]
    },
    {
      "metadata": {
        "trusted": true
      },
      "cell_type": "code",
      "source": "#Completed value_counts function for all categorical columns\n#Removing column 4 using the drop function, in order to avoid duplication\n\ncrxd2 = crxd.drop(crxd.columns[[4]], axis=1)\ncrxd2.head(5)",
      "execution_count": 20,
      "outputs": [
        {
          "output_type": "execute_result",
          "execution_count": 20,
          "data": {
            "text/html": "<div>\n<style scoped>\n    .dataframe tbody tr th:only-of-type {\n        vertical-align: middle;\n    }\n\n    .dataframe tbody tr th {\n        vertical-align: top;\n    }\n\n    .dataframe thead th {\n        text-align: right;\n    }\n</style>\n<table border=\"1\" class=\"dataframe\">\n  <thead>\n    <tr style=\"text-align: right;\">\n      <th></th>\n      <th>0</th>\n      <th>1</th>\n      <th>2</th>\n      <th>3</th>\n      <th>5</th>\n      <th>6</th>\n      <th>7</th>\n      <th>8</th>\n      <th>9</th>\n      <th>10</th>\n      <th>11</th>\n      <th>12</th>\n      <th>13</th>\n      <th>14</th>\n      <th>15</th>\n    </tr>\n  </thead>\n  <tbody>\n    <tr>\n      <th>0</th>\n      <td>b</td>\n      <td>30.83</td>\n      <td>0.000</td>\n      <td>u</td>\n      <td>w</td>\n      <td>v</td>\n      <td>1.25</td>\n      <td>t</td>\n      <td>t</td>\n      <td>1</td>\n      <td>f</td>\n      <td>g</td>\n      <td>202.0</td>\n      <td>0</td>\n      <td>+</td>\n    </tr>\n    <tr>\n      <th>1</th>\n      <td>a</td>\n      <td>58.67</td>\n      <td>4.460</td>\n      <td>u</td>\n      <td>q</td>\n      <td>h</td>\n      <td>3.04</td>\n      <td>t</td>\n      <td>t</td>\n      <td>6</td>\n      <td>f</td>\n      <td>g</td>\n      <td>43.0</td>\n      <td>560</td>\n      <td>+</td>\n    </tr>\n    <tr>\n      <th>2</th>\n      <td>a</td>\n      <td>24.50</td>\n      <td>0.500</td>\n      <td>u</td>\n      <td>q</td>\n      <td>h</td>\n      <td>1.50</td>\n      <td>t</td>\n      <td>f</td>\n      <td>0</td>\n      <td>f</td>\n      <td>g</td>\n      <td>280.0</td>\n      <td>824</td>\n      <td>+</td>\n    </tr>\n    <tr>\n      <th>3</th>\n      <td>b</td>\n      <td>27.83</td>\n      <td>1.540</td>\n      <td>u</td>\n      <td>w</td>\n      <td>v</td>\n      <td>3.75</td>\n      <td>t</td>\n      <td>t</td>\n      <td>5</td>\n      <td>t</td>\n      <td>g</td>\n      <td>100.0</td>\n      <td>3</td>\n      <td>+</td>\n    </tr>\n    <tr>\n      <th>4</th>\n      <td>b</td>\n      <td>20.17</td>\n      <td>5.625</td>\n      <td>u</td>\n      <td>w</td>\n      <td>v</td>\n      <td>1.71</td>\n      <td>t</td>\n      <td>f</td>\n      <td>0</td>\n      <td>f</td>\n      <td>s</td>\n      <td>120.0</td>\n      <td>0</td>\n      <td>+</td>\n    </tr>\n  </tbody>\n</table>\n</div>",
            "text/plain": "  0      1      2  3  5  6     7  8  9   10 11 12     13   14 15\n0  b  30.83  0.000  u  w  v  1.25  t  t   1  f  g  202.0    0  +\n1  a  58.67  4.460  u  q  h  3.04  t  t   6  f  g   43.0  560  +\n2  a  24.50  0.500  u  q  h  1.50  t  f   0  f  g  280.0  824  +\n3  b  27.83  1.540  u  w  v  3.75  t  t   5  t  g  100.0    3  +\n4  b  20.17  5.625  u  w  v  1.71  t  f   0  f  s  120.0    0  +"
          },
          "metadata": {}
        }
      ]
    },
    {
      "metadata": {
        "trusted": true
      },
      "cell_type": "code",
      "source": "#Verifying datatypes of all columns again, after performing value_counts\n\ncrxd2.dtypes",
      "execution_count": 21,
      "outputs": [
        {
          "output_type": "execute_result",
          "execution_count": 21,
          "data": {
            "text/plain": "0      object\n1     float64\n2     float64\n3      object\n5      object\n6      object\n7     float64\n8      object\n9      object\n10      int64\n11     object\n12     object\n13    float64\n14      int64\n15     object\ndtype: object"
          },
          "metadata": {}
        }
      ]
    },
    {
      "metadata": {
        "trusted": true
      },
      "cell_type": "code",
      "source": "#Imputing missing values of all numeric features with their median\n\ncrxd2.fillna(crxd.median(), inplace=True)",
      "execution_count": 22,
      "outputs": []
    },
    {
      "metadata": {
        "trusted": true
      },
      "cell_type": "code",
      "source": "#Checking sum of missing values for all columns\n\ncrxd2.isna().sum()",
      "execution_count": 23,
      "outputs": [
        {
          "output_type": "execute_result",
          "execution_count": 23,
          "data": {
            "text/plain": "0     12\n1      0\n2      0\n3      6\n5      9\n6      9\n7      0\n8      0\n9      0\n10     0\n11     0\n12     0\n13     0\n14     0\n15     0\ndtype: int64"
          },
          "metadata": {}
        }
      ]
    },
    {
      "metadata": {
        "trusted": true
      },
      "cell_type": "code",
      "source": "#Imputing missing values of categorical features(columns 0,3,5 and 6) with their mode\n\ncrxd2 = crxd2.fillna(crxd[0].value_counts().index[0] ) \ncrxd2 = crxd2.fillna(crxd[3].value_counts().index[0] ) \ncrxd2 = crxd2.fillna(crxd[5].value_counts().index[0] ) \ncrxd2 = crxd2.fillna(crxd[6].value_counts().index[0] ) ",
      "execution_count": 24,
      "outputs": []
    },
    {
      "metadata": {
        "trusted": true
      },
      "cell_type": "code",
      "source": "#Checking if any missing values are still present. There are none so we can go ahead with the preprocessing tasks.\n\ncrxd2.isna().sum()",
      "execution_count": 25,
      "outputs": [
        {
          "output_type": "execute_result",
          "execution_count": 25,
          "data": {
            "text/plain": "0     0\n1     0\n2     0\n3     0\n5     0\n6     0\n7     0\n8     0\n9     0\n10    0\n11    0\n12    0\n13    0\n14    0\n15    0\ndtype: int64"
          },
          "metadata": {}
        }
      ]
    },
    {
      "metadata": {
        "trusted": true
      },
      "cell_type": "code",
      "source": "#Discretizing A2 numerical feature with 3 equal-frequency bins named \"low\", \"medium\", and \"high\"\n\ncrxd_cat = crxd2.copy()\n\ncrxd_cat[1] = pd.qcut(crxd_cat[1], q=3, \n                                     labels=['low', 'medium', 'high'])",
      "execution_count": 26,
      "outputs": []
    },
    {
      "metadata": {
        "trusted": true
      },
      "cell_type": "code",
      "source": "#Checking bins of A2 feature\n\ncrxd_cat[1].value_counts()",
      "execution_count": 27,
      "outputs": [
        {
          "output_type": "execute_result",
          "execution_count": 27,
          "data": {
            "text/plain": "medium    231\nlow       230\nhigh      229\nName: 1, dtype: int64"
          },
          "metadata": {}
        }
      ]
    },
    {
      "metadata": {
        "trusted": true
      },
      "cell_type": "code",
      "source": "#Displaying first 5 entries of crxd_cat\ncrxd_cat.head(5)",
      "execution_count": 28,
      "outputs": [
        {
          "output_type": "execute_result",
          "execution_count": 28,
          "data": {
            "text/html": "<div>\n<style scoped>\n    .dataframe tbody tr th:only-of-type {\n        vertical-align: middle;\n    }\n\n    .dataframe tbody tr th {\n        vertical-align: top;\n    }\n\n    .dataframe thead th {\n        text-align: right;\n    }\n</style>\n<table border=\"1\" class=\"dataframe\">\n  <thead>\n    <tr style=\"text-align: right;\">\n      <th></th>\n      <th>0</th>\n      <th>1</th>\n      <th>2</th>\n      <th>3</th>\n      <th>5</th>\n      <th>6</th>\n      <th>7</th>\n      <th>8</th>\n      <th>9</th>\n      <th>10</th>\n      <th>11</th>\n      <th>12</th>\n      <th>13</th>\n      <th>14</th>\n      <th>15</th>\n    </tr>\n  </thead>\n  <tbody>\n    <tr>\n      <th>0</th>\n      <td>b</td>\n      <td>medium</td>\n      <td>0.000</td>\n      <td>u</td>\n      <td>w</td>\n      <td>v</td>\n      <td>1.25</td>\n      <td>t</td>\n      <td>t</td>\n      <td>1</td>\n      <td>f</td>\n      <td>g</td>\n      <td>202.0</td>\n      <td>0</td>\n      <td>+</td>\n    </tr>\n    <tr>\n      <th>1</th>\n      <td>a</td>\n      <td>high</td>\n      <td>4.460</td>\n      <td>u</td>\n      <td>q</td>\n      <td>h</td>\n      <td>3.04</td>\n      <td>t</td>\n      <td>t</td>\n      <td>6</td>\n      <td>f</td>\n      <td>g</td>\n      <td>43.0</td>\n      <td>560</td>\n      <td>+</td>\n    </tr>\n    <tr>\n      <th>2</th>\n      <td>a</td>\n      <td>medium</td>\n      <td>0.500</td>\n      <td>u</td>\n      <td>q</td>\n      <td>h</td>\n      <td>1.50</td>\n      <td>t</td>\n      <td>f</td>\n      <td>0</td>\n      <td>f</td>\n      <td>g</td>\n      <td>280.0</td>\n      <td>824</td>\n      <td>+</td>\n    </tr>\n    <tr>\n      <th>3</th>\n      <td>b</td>\n      <td>medium</td>\n      <td>1.540</td>\n      <td>u</td>\n      <td>w</td>\n      <td>v</td>\n      <td>3.75</td>\n      <td>t</td>\n      <td>t</td>\n      <td>5</td>\n      <td>t</td>\n      <td>g</td>\n      <td>100.0</td>\n      <td>3</td>\n      <td>+</td>\n    </tr>\n    <tr>\n      <th>4</th>\n      <td>b</td>\n      <td>low</td>\n      <td>5.625</td>\n      <td>u</td>\n      <td>w</td>\n      <td>v</td>\n      <td>1.71</td>\n      <td>t</td>\n      <td>f</td>\n      <td>0</td>\n      <td>f</td>\n      <td>s</td>\n      <td>120.0</td>\n      <td>0</td>\n      <td>+</td>\n    </tr>\n  </tbody>\n</table>\n</div>",
            "text/plain": "  0       1      2  3  5  6     7  8  9   10 11 12     13   14 15\n0  b  medium  0.000  u  w  v  1.25  t  t   1  f  g  202.0    0  +\n1  a    high  4.460  u  q  h  3.04  t  t   6  f  g   43.0  560  +\n2  a  medium  0.500  u  q  h  1.50  t  f   0  f  g  280.0  824  +\n3  b  medium  1.540  u  w  v  3.75  t  t   5  t  g  100.0    3  +\n4  b     low  5.625  u  w  v  1.71  t  f   0  f  s  120.0    0  +"
          },
          "metadata": {}
        }
      ]
    },
    {
      "metadata": {
        "trusted": true
      },
      "cell_type": "code",
      "source": "#Copying encoded data \"crxd_cat\" as \"Data_copy\" to be used at later stage to assign column names to standardised dataset.\nData_copy = crxd_cat.drop(columns = 15).copy()\n\n#Setting Data and Target variables for modeling, also converting them into Numpy array to facilitate the usage of sklearn module.\nData = crxd_cat.drop(columns = 15).values\n\ntarget = crxd_cat[15].values\n",
      "execution_count": 29,
      "outputs": []
    },
    {
      "metadata": {
        "trusted": true
      },
      "cell_type": "code",
      "source": "#Viewing unique values for target variable\n\nnp.unique(target, return_counts=True)",
      "execution_count": 30,
      "outputs": [
        {
          "output_type": "execute_result",
          "execution_count": 30,
          "data": {
            "text/plain": "(array(['+', '-'], dtype=object), array([307, 383]))"
          },
          "metadata": {}
        }
      ]
    },
    {
      "metadata": {
        "trusted": true
      },
      "cell_type": "code",
      "source": "#Performing integer-encoding for target variable\n\nfrom sklearn import preprocessing\n\nle = preprocessing.LabelEncoder()\nle_fit = le.fit(target)\ntarget_encoded_le = le_fit.transform(target)\n",
      "execution_count": 31,
      "outputs": []
    },
    {
      "metadata": {
        "trusted": true
      },
      "cell_type": "code",
      "source": "#Displaying target variable after encoding\n\nprint(\"Target Type:\", type(target))\n\nprint(\"Counts Using NumPy:\")\nprint(np.unique(target_encoded_le, return_counts = True))\n",
      "execution_count": 32,
      "outputs": [
        {
          "output_type": "stream",
          "text": "Target Type: <class 'numpy.ndarray'>\nCounts Using NumPy:\n(array([0, 1]), array([307, 383]))\n",
          "name": "stdout"
        }
      ]
    },
    {
      "metadata": {
        "trusted": true
      },
      "cell_type": "code",
      "source": "#Recovering original labels of target variable using inverse_transform method\n\ntarget_original_values = le_fit.inverse_transform(target_encoded_le)\n\n# NumPy array to pandas Series conversion:\npd.Series(target_original_values).value_counts()",
      "execution_count": 33,
      "outputs": [
        {
          "output_type": "execute_result",
          "execution_count": 33,
          "data": {
            "text/plain": "-    383\n+    307\ndtype: int64"
          },
          "metadata": {}
        }
      ]
    },
    {
      "metadata": {
        "trusted": true
      },
      "cell_type": "code",
      "source": "#Re-encoding positive class as 1 and negative class as 0\n\ntarget_encoded_where = np.where(target=='+', 1, 0)\n\nnp.unique(target_encoded_where, return_counts = True)",
      "execution_count": 34,
      "outputs": [
        {
          "output_type": "execute_result",
          "execution_count": 34,
          "data": {
            "text/plain": "(array([0, 1]), array([383, 307]))"
          },
          "metadata": {}
        }
      ]
    },
    {
      "metadata": {
        "trusted": true
      },
      "cell_type": "code",
      "source": "# get the list of categorical descriptive features before one-hot-encoding\ncategorical_cols = Data_copy.columns[Data_copy.dtypes==object].tolist()\n\ncategorical_cols",
      "execution_count": 35,
      "outputs": [
        {
          "output_type": "execute_result",
          "execution_count": 35,
          "data": {
            "text/plain": "[0, 3, 5, 6, 8, 9, 11, 12]"
          },
          "metadata": {}
        }
      ]
    },
    {
      "metadata": {
        "trusted": true
      },
      "cell_type": "code",
      "source": "# Performing one-hot encoding for all categorical features\nData_encoded = pd.get_dummies(Data_copy)\n\nData_encoded.head()",
      "execution_count": 36,
      "outputs": [
        {
          "output_type": "execute_result",
          "execution_count": 36,
          "data": {
            "text/html": "<div>\n<style scoped>\n    .dataframe tbody tr th:only-of-type {\n        vertical-align: middle;\n    }\n\n    .dataframe tbody tr th {\n        vertical-align: top;\n    }\n\n    .dataframe thead th {\n        text-align: right;\n    }\n</style>\n<table border=\"1\" class=\"dataframe\">\n  <thead>\n    <tr style=\"text-align: right;\">\n      <th></th>\n      <th>2</th>\n      <th>7</th>\n      <th>10</th>\n      <th>13</th>\n      <th>14</th>\n      <th>0_a</th>\n      <th>0_b</th>\n      <th>1_low</th>\n      <th>1_medium</th>\n      <th>1_high</th>\n      <th>...</th>\n      <th>6_z</th>\n      <th>8_f</th>\n      <th>8_t</th>\n      <th>9_f</th>\n      <th>9_t</th>\n      <th>11_f</th>\n      <th>11_t</th>\n      <th>12_g</th>\n      <th>12_p</th>\n      <th>12_s</th>\n    </tr>\n  </thead>\n  <tbody>\n    <tr>\n      <th>0</th>\n      <td>0.000</td>\n      <td>1.25</td>\n      <td>1</td>\n      <td>202.0</td>\n      <td>0</td>\n      <td>0</td>\n      <td>1</td>\n      <td>0</td>\n      <td>1</td>\n      <td>0</td>\n      <td>...</td>\n      <td>0</td>\n      <td>0</td>\n      <td>1</td>\n      <td>0</td>\n      <td>1</td>\n      <td>1</td>\n      <td>0</td>\n      <td>1</td>\n      <td>0</td>\n      <td>0</td>\n    </tr>\n    <tr>\n      <th>1</th>\n      <td>4.460</td>\n      <td>3.04</td>\n      <td>6</td>\n      <td>43.0</td>\n      <td>560</td>\n      <td>1</td>\n      <td>0</td>\n      <td>0</td>\n      <td>0</td>\n      <td>1</td>\n      <td>...</td>\n      <td>0</td>\n      <td>0</td>\n      <td>1</td>\n      <td>0</td>\n      <td>1</td>\n      <td>1</td>\n      <td>0</td>\n      <td>1</td>\n      <td>0</td>\n      <td>0</td>\n    </tr>\n    <tr>\n      <th>2</th>\n      <td>0.500</td>\n      <td>1.50</td>\n      <td>0</td>\n      <td>280.0</td>\n      <td>824</td>\n      <td>1</td>\n      <td>0</td>\n      <td>0</td>\n      <td>1</td>\n      <td>0</td>\n      <td>...</td>\n      <td>0</td>\n      <td>0</td>\n      <td>1</td>\n      <td>1</td>\n      <td>0</td>\n      <td>1</td>\n      <td>0</td>\n      <td>1</td>\n      <td>0</td>\n      <td>0</td>\n    </tr>\n    <tr>\n      <th>3</th>\n      <td>1.540</td>\n      <td>3.75</td>\n      <td>5</td>\n      <td>100.0</td>\n      <td>3</td>\n      <td>0</td>\n      <td>1</td>\n      <td>0</td>\n      <td>1</td>\n      <td>0</td>\n      <td>...</td>\n      <td>0</td>\n      <td>0</td>\n      <td>1</td>\n      <td>0</td>\n      <td>1</td>\n      <td>0</td>\n      <td>1</td>\n      <td>1</td>\n      <td>0</td>\n      <td>0</td>\n    </tr>\n    <tr>\n      <th>4</th>\n      <td>5.625</td>\n      <td>1.71</td>\n      <td>0</td>\n      <td>120.0</td>\n      <td>0</td>\n      <td>0</td>\n      <td>1</td>\n      <td>1</td>\n      <td>0</td>\n      <td>0</td>\n      <td>...</td>\n      <td>0</td>\n      <td>0</td>\n      <td>1</td>\n      <td>1</td>\n      <td>0</td>\n      <td>1</td>\n      <td>0</td>\n      <td>0</td>\n      <td>0</td>\n      <td>1</td>\n    </tr>\n  </tbody>\n</table>\n<p>5 rows × 48 columns</p>\n</div>",
            "text/plain": "       2     7  10     13   14  0_a  0_b  1_low  1_medium  1_high  ...   6_z  \\\n0  0.000  1.25   1  202.0    0    0    1      0         1       0  ...     0   \n1  4.460  3.04   6   43.0  560    1    0      0         0       1  ...     0   \n2  0.500  1.50   0  280.0  824    1    0      0         1       0  ...     0   \n3  1.540  3.75   5  100.0    3    0    1      0         1       0  ...     0   \n4  5.625  1.71   0  120.0    0    0    1      1         0       0  ...     0   \n\n   8_f  8_t  9_f  9_t  11_f  11_t  12_g  12_p  12_s  \n0    0    1    0    1     1     0     1     0     0  \n1    0    1    0    1     1     0     1     0     0  \n2    0    1    1    0     1     0     1     0     0  \n3    0    1    0    1     0     1     1     0     0  \n4    0    1    1    0     1     0     0     0     1  \n\n[5 rows x 48 columns]"
          },
          "metadata": {}
        }
      ]
    },
    {
      "metadata": {
        "trusted": true
      },
      "cell_type": "code",
      "source": "#Checking datatypes after encoding\n\nprint(type(Data_encoded))\nprint(type(Data_copy))\nprint(type(Data))",
      "execution_count": 37,
      "outputs": [
        {
          "output_type": "stream",
          "text": "<class 'pandas.core.frame.DataFrame'>\n<class 'pandas.core.frame.DataFrame'>\n<class 'numpy.ndarray'>\n",
          "name": "stdout"
        }
      ]
    },
    {
      "metadata": {
        "trusted": true
      },
      "cell_type": "code",
      "source": "#Normalisation using standard scaling, and rounding figures to 3 decimal places\n\nfrom sklearn import preprocessing\n\nData_scaler = preprocessing.StandardScaler()\n\nData_encoded_norm_numpy = Data_scaler.fit_transform(Data_encoded)\n\nData_encoded_norm_numpy.round(3)",
      "execution_count": 38,
      "outputs": [
        {
          "output_type": "execute_result",
          "execution_count": 38,
          "data": {
            "text/plain": "array([[-0.957, -0.291, -0.288, ...,  0.322, -0.108, -0.3  ],\n       [-0.06 ,  0.244,  0.741, ...,  0.322, -0.108, -0.3  ],\n       [-0.856, -0.216, -0.494, ...,  0.322, -0.108, -0.3  ],\n       ...,\n       [ 1.757, -0.067, -0.288, ...,  0.322, -0.108, -0.3  ],\n       [-0.915, -0.653, -0.494, ...,  0.322, -0.108, -0.3  ],\n       [-0.278,  1.814, -0.494, ...,  0.322, -0.108, -0.3  ]])"
          },
          "metadata": {}
        }
      ]
    },
    {
      "metadata": {
        "trusted": true
      },
      "cell_type": "code",
      "source": "#View class of encoded data\n\nprint(type(Data_encoded_norm_numpy))",
      "execution_count": 39,
      "outputs": [
        {
          "output_type": "stream",
          "text": "<class 'numpy.ndarray'>\n",
          "name": "stdout"
        }
      ]
    },
    {
      "metadata": {
        "trusted": true
      },
      "cell_type": "code",
      "source": "#Adding back column names to encoded data\n\nData_encoded_norm_df = pd.DataFrame(Data_encoded_norm_numpy, \n                                    columns=Data_encoded.columns)\n\n#Displaying small sample of clean data\nData_encoded_norm_df.sample(n=4, random_state=11)\n",
      "execution_count": 40,
      "outputs": [
        {
          "output_type": "execute_result",
          "execution_count": 40,
          "data": {
            "text/html": "<div>\n<style scoped>\n    .dataframe tbody tr th:only-of-type {\n        vertical-align: middle;\n    }\n\n    .dataframe tbody tr th {\n        vertical-align: top;\n    }\n\n    .dataframe thead th {\n        text-align: right;\n    }\n</style>\n<table border=\"1\" class=\"dataframe\">\n  <thead>\n    <tr style=\"text-align: right;\">\n      <th></th>\n      <th>2</th>\n      <th>7</th>\n      <th>10</th>\n      <th>13</th>\n      <th>14</th>\n      <th>0_a</th>\n      <th>0_b</th>\n      <th>1_low</th>\n      <th>1_medium</th>\n      <th>1_high</th>\n      <th>...</th>\n      <th>6_z</th>\n      <th>8_f</th>\n      <th>8_t</th>\n      <th>9_f</th>\n      <th>9_t</th>\n      <th>11_f</th>\n      <th>11_t</th>\n      <th>12_g</th>\n      <th>12_p</th>\n      <th>12_s</th>\n    </tr>\n  </thead>\n  <tbody>\n    <tr>\n      <th>214</th>\n      <td>-0.411841</td>\n      <td>0.905058</td>\n      <td>-0.288101</td>\n      <td>0.159461</td>\n      <td>-0.195413</td>\n      <td>-0.661438</td>\n      <td>0.661438</td>\n      <td>-0.707107</td>\n      <td>1.409614</td>\n      <td>-0.704802</td>\n      <td>...</td>\n      <td>-0.108306</td>\n      <td>-0.954650</td>\n      <td>0.954650</td>\n      <td>-1.157144</td>\n      <td>1.157144</td>\n      <td>0.919195</td>\n      <td>-0.919195</td>\n      <td>0.322490</td>\n      <td>-0.108306</td>\n      <td>-0.300079</td>\n    </tr>\n    <tr>\n      <th>545</th>\n      <td>1.254640</td>\n      <td>-0.216324</td>\n      <td>-0.493887</td>\n      <td>-1.066817</td>\n      <td>-0.195413</td>\n      <td>-0.661438</td>\n      <td>0.661438</td>\n      <td>-0.707107</td>\n      <td>-0.709414</td>\n      <td>1.418838</td>\n      <td>...</td>\n      <td>-0.108306</td>\n      <td>-0.954650</td>\n      <td>0.954650</td>\n      <td>0.864196</td>\n      <td>-0.864196</td>\n      <td>0.919195</td>\n      <td>-0.919195</td>\n      <td>-3.100868</td>\n      <td>-0.108306</td>\n      <td>3.332456</td>\n    </tr>\n    <tr>\n      <th>436</th>\n      <td>-0.839015</td>\n      <td>-0.664877</td>\n      <td>0.123472</td>\n      <td>0.967293</td>\n      <td>-0.047708</td>\n      <td>-0.661438</td>\n      <td>0.661438</td>\n      <td>1.414214</td>\n      <td>-0.709414</td>\n      <td>-0.704802</td>\n      <td>...</td>\n      <td>-0.108306</td>\n      <td>1.047504</td>\n      <td>-1.047504</td>\n      <td>-1.157144</td>\n      <td>1.157144</td>\n      <td>0.919195</td>\n      <td>-0.919195</td>\n      <td>0.322490</td>\n      <td>-0.108306</td>\n      <td>-0.300079</td>\n    </tr>\n    <tr>\n      <th>201</th>\n      <td>-0.755590</td>\n      <td>0.007953</td>\n      <td>-0.493887</td>\n      <td>-1.066817</td>\n      <td>-0.137791</td>\n      <td>1.511858</td>\n      <td>-1.511858</td>\n      <td>-0.707107</td>\n      <td>-0.709414</td>\n      <td>1.418838</td>\n      <td>...</td>\n      <td>-0.108306</td>\n      <td>-0.954650</td>\n      <td>0.954650</td>\n      <td>0.864196</td>\n      <td>-0.864196</td>\n      <td>-1.087908</td>\n      <td>1.087908</td>\n      <td>0.322490</td>\n      <td>-0.108306</td>\n      <td>-0.300079</td>\n    </tr>\n  </tbody>\n</table>\n<p>4 rows × 48 columns</p>\n</div>",
            "text/plain": "            2         7        10        13        14       0_a       0_b  \\\n214 -0.411841  0.905058 -0.288101  0.159461 -0.195413 -0.661438  0.661438   \n545  1.254640 -0.216324 -0.493887 -1.066817 -0.195413 -0.661438  0.661438   \n436 -0.839015 -0.664877  0.123472  0.967293 -0.047708 -0.661438  0.661438   \n201 -0.755590  0.007953 -0.493887 -1.066817 -0.137791  1.511858 -1.511858   \n\n        1_low  1_medium    1_high    ...          6_z       8_f       8_t  \\\n214 -0.707107  1.409614 -0.704802    ...    -0.108306 -0.954650  0.954650   \n545 -0.707107 -0.709414  1.418838    ...    -0.108306 -0.954650  0.954650   \n436  1.414214 -0.709414 -0.704802    ...    -0.108306  1.047504 -1.047504   \n201 -0.707107 -0.709414  1.418838    ...    -0.108306 -0.954650  0.954650   \n\n          9_f       9_t      11_f      11_t      12_g      12_p      12_s  \n214 -1.157144  1.157144  0.919195 -0.919195  0.322490 -0.108306 -0.300079  \n545  0.864196 -0.864196  0.919195 -0.919195 -3.100868 -0.108306  3.332456  \n436 -1.157144  1.157144  0.919195 -0.919195  0.322490 -0.108306 -0.300079  \n201  0.864196 -0.864196 -1.087908  1.087908  0.322490 -0.108306 -0.300079  \n\n[4 rows x 48 columns]"
          },
          "metadata": {}
        }
      ]
    },
    {
      "metadata": {
        "trusted": true
      },
      "cell_type": "code",
      "source": "#Copying clean data as \"df_clean\"\n\ndf_clean = Data_encoded_norm_df.copy()",
      "execution_count": 41,
      "outputs": []
    },
    {
      "metadata": {
        "trusted": true
      },
      "cell_type": "code",
      "source": "df_clean.shape",
      "execution_count": 42,
      "outputs": [
        {
          "output_type": "execute_result",
          "execution_count": 42,
          "data": {
            "text/plain": "(690, 48)"
          },
          "metadata": {}
        }
      ]
    },
    {
      "metadata": {
        "trusted": true
      },
      "cell_type": "code",
      "source": "df_clean.describe(include='all').round(3) ",
      "execution_count": 43,
      "outputs": [
        {
          "output_type": "execute_result",
          "execution_count": 43,
          "data": {
            "text/html": "<div>\n<style scoped>\n    .dataframe tbody tr th:only-of-type {\n        vertical-align: middle;\n    }\n\n    .dataframe tbody tr th {\n        vertical-align: top;\n    }\n\n    .dataframe thead th {\n        text-align: right;\n    }\n</style>\n<table border=\"1\" class=\"dataframe\">\n  <thead>\n    <tr style=\"text-align: right;\">\n      <th></th>\n      <th>2</th>\n      <th>7</th>\n      <th>10</th>\n      <th>13</th>\n      <th>14</th>\n      <th>0_a</th>\n      <th>0_b</th>\n      <th>1_low</th>\n      <th>1_medium</th>\n      <th>1_high</th>\n      <th>...</th>\n      <th>6_z</th>\n      <th>8_f</th>\n      <th>8_t</th>\n      <th>9_f</th>\n      <th>9_t</th>\n      <th>11_f</th>\n      <th>11_t</th>\n      <th>12_g</th>\n      <th>12_p</th>\n      <th>12_s</th>\n    </tr>\n  </thead>\n  <tbody>\n    <tr>\n      <th>count</th>\n      <td>690.000</td>\n      <td>690.000</td>\n      <td>690.000</td>\n      <td>690.000</td>\n      <td>690.000</td>\n      <td>690.000</td>\n      <td>690.000</td>\n      <td>690.000</td>\n      <td>690.000</td>\n      <td>690.000</td>\n      <td>...</td>\n      <td>690.000</td>\n      <td>690.000</td>\n      <td>690.000</td>\n      <td>690.000</td>\n      <td>690.000</td>\n      <td>690.000</td>\n      <td>690.000</td>\n      <td>690.000</td>\n      <td>690.000</td>\n      <td>690.000</td>\n    </tr>\n    <tr>\n      <th>mean</th>\n      <td>0.000</td>\n      <td>0.000</td>\n      <td>0.000</td>\n      <td>0.000</td>\n      <td>-0.000</td>\n      <td>-0.000</td>\n      <td>0.000</td>\n      <td>0.000</td>\n      <td>-0.000</td>\n      <td>0.000</td>\n      <td>...</td>\n      <td>-0.000</td>\n      <td>-0.000</td>\n      <td>0.000</td>\n      <td>0.000</td>\n      <td>-0.000</td>\n      <td>0.000</td>\n      <td>-0.000</td>\n      <td>0.000</td>\n      <td>-0.000</td>\n      <td>-0.000</td>\n    </tr>\n    <tr>\n      <th>std</th>\n      <td>1.001</td>\n      <td>1.001</td>\n      <td>1.001</td>\n      <td>1.001</td>\n      <td>1.001</td>\n      <td>1.001</td>\n      <td>1.001</td>\n      <td>1.001</td>\n      <td>1.001</td>\n      <td>1.001</td>\n      <td>...</td>\n      <td>1.001</td>\n      <td>1.001</td>\n      <td>1.001</td>\n      <td>1.001</td>\n      <td>1.001</td>\n      <td>1.001</td>\n      <td>1.001</td>\n      <td>1.001</td>\n      <td>1.001</td>\n      <td>1.001</td>\n    </tr>\n    <tr>\n      <th>min</th>\n      <td>-0.957</td>\n      <td>-0.665</td>\n      <td>-0.494</td>\n      <td>-1.067</td>\n      <td>-0.195</td>\n      <td>-0.661</td>\n      <td>-1.512</td>\n      <td>-0.707</td>\n      <td>-0.709</td>\n      <td>-0.705</td>\n      <td>...</td>\n      <td>-0.108</td>\n      <td>-0.955</td>\n      <td>-1.048</td>\n      <td>-1.157</td>\n      <td>-0.864</td>\n      <td>-1.088</td>\n      <td>-0.919</td>\n      <td>-3.101</td>\n      <td>-0.108</td>\n      <td>-0.300</td>\n    </tr>\n    <tr>\n      <th>25%</th>\n      <td>-0.756</td>\n      <td>-0.616</td>\n      <td>-0.494</td>\n      <td>-0.602</td>\n      <td>-0.195</td>\n      <td>-0.661</td>\n      <td>-1.512</td>\n      <td>-0.707</td>\n      <td>-0.709</td>\n      <td>-0.705</td>\n      <td>...</td>\n      <td>-0.108</td>\n      <td>-0.955</td>\n      <td>-1.048</td>\n      <td>-1.157</td>\n      <td>-0.864</td>\n      <td>-1.088</td>\n      <td>-0.919</td>\n      <td>0.322</td>\n      <td>-0.108</td>\n      <td>-0.300</td>\n    </tr>\n    <tr>\n      <th>50%</th>\n      <td>-0.404</td>\n      <td>-0.366</td>\n      <td>-0.494</td>\n      <td>-0.137</td>\n      <td>-0.194</td>\n      <td>-0.661</td>\n      <td>0.661</td>\n      <td>-0.707</td>\n      <td>-0.709</td>\n      <td>-0.705</td>\n      <td>...</td>\n      <td>-0.108</td>\n      <td>-0.955</td>\n      <td>0.955</td>\n      <td>0.864</td>\n      <td>-0.864</td>\n      <td>0.919</td>\n      <td>-0.919</td>\n      <td>0.322</td>\n      <td>-0.108</td>\n      <td>-0.300</td>\n    </tr>\n    <tr>\n      <th>75%</th>\n      <td>0.492</td>\n      <td>0.120</td>\n      <td>0.123</td>\n      <td>0.514</td>\n      <td>-0.119</td>\n      <td>1.512</td>\n      <td>0.661</td>\n      <td>1.414</td>\n      <td>1.410</td>\n      <td>1.419</td>\n      <td>...</td>\n      <td>-0.108</td>\n      <td>1.048</td>\n      <td>0.955</td>\n      <td>0.864</td>\n      <td>1.157</td>\n      <td>0.919</td>\n      <td>1.088</td>\n      <td>0.322</td>\n      <td>-0.108</td>\n      <td>-0.300</td>\n    </tr>\n    <tr>\n      <th>max</th>\n      <td>4.672</td>\n      <td>7.858</td>\n      <td>13.294</td>\n      <td>10.557</td>\n      <td>19.012</td>\n      <td>1.512</td>\n      <td>0.661</td>\n      <td>1.414</td>\n      <td>1.410</td>\n      <td>1.419</td>\n      <td>...</td>\n      <td>9.233</td>\n      <td>1.048</td>\n      <td>0.955</td>\n      <td>0.864</td>\n      <td>1.157</td>\n      <td>0.919</td>\n      <td>1.088</td>\n      <td>0.322</td>\n      <td>9.233</td>\n      <td>3.332</td>\n    </tr>\n  </tbody>\n</table>\n<p>8 rows × 48 columns</p>\n</div>",
            "text/plain": "             2        7       10       13       14      0_a      0_b    1_low  \\\ncount  690.000  690.000  690.000  690.000  690.000  690.000  690.000  690.000   \nmean     0.000    0.000    0.000    0.000   -0.000   -0.000    0.000    0.000   \nstd      1.001    1.001    1.001    1.001    1.001    1.001    1.001    1.001   \nmin     -0.957   -0.665   -0.494   -1.067   -0.195   -0.661   -1.512   -0.707   \n25%     -0.756   -0.616   -0.494   -0.602   -0.195   -0.661   -1.512   -0.707   \n50%     -0.404   -0.366   -0.494   -0.137   -0.194   -0.661    0.661   -0.707   \n75%      0.492    0.120    0.123    0.514   -0.119    1.512    0.661    1.414   \nmax      4.672    7.858   13.294   10.557   19.012    1.512    0.661    1.414   \n\n       1_medium   1_high   ...         6_z      8_f      8_t      9_f  \\\ncount   690.000  690.000   ...     690.000  690.000  690.000  690.000   \nmean     -0.000    0.000   ...      -0.000   -0.000    0.000    0.000   \nstd       1.001    1.001   ...       1.001    1.001    1.001    1.001   \nmin      -0.709   -0.705   ...      -0.108   -0.955   -1.048   -1.157   \n25%      -0.709   -0.705   ...      -0.108   -0.955   -1.048   -1.157   \n50%      -0.709   -0.705   ...      -0.108   -0.955    0.955    0.864   \n75%       1.410    1.419   ...      -0.108    1.048    0.955    0.864   \nmax       1.410    1.419   ...       9.233    1.048    0.955    0.864   \n\n           9_t     11_f     11_t     12_g     12_p     12_s  \ncount  690.000  690.000  690.000  690.000  690.000  690.000  \nmean    -0.000    0.000   -0.000    0.000   -0.000   -0.000  \nstd      1.001    1.001    1.001    1.001    1.001    1.001  \nmin     -0.864   -1.088   -0.919   -3.101   -0.108   -0.300  \n25%     -0.864   -1.088   -0.919    0.322   -0.108   -0.300  \n50%     -0.864    0.919   -0.919    0.322   -0.108   -0.300  \n75%      1.157    0.919    1.088    0.322   -0.108   -0.300  \nmax      1.157    0.919    1.088    0.322    9.233    3.332  \n\n[8 rows x 48 columns]"
          },
          "metadata": {}
        }
      ]
    },
    {
      "metadata": {
        "trusted": true
      },
      "cell_type": "code",
      "source": "df_clean.head(5)",
      "execution_count": 44,
      "outputs": [
        {
          "output_type": "execute_result",
          "execution_count": 44,
          "data": {
            "text/html": "<div>\n<style scoped>\n    .dataframe tbody tr th:only-of-type {\n        vertical-align: middle;\n    }\n\n    .dataframe tbody tr th {\n        vertical-align: top;\n    }\n\n    .dataframe thead th {\n        text-align: right;\n    }\n</style>\n<table border=\"1\" class=\"dataframe\">\n  <thead>\n    <tr style=\"text-align: right;\">\n      <th></th>\n      <th>2</th>\n      <th>7</th>\n      <th>10</th>\n      <th>13</th>\n      <th>14</th>\n      <th>0_a</th>\n      <th>0_b</th>\n      <th>1_low</th>\n      <th>1_medium</th>\n      <th>1_high</th>\n      <th>...</th>\n      <th>6_z</th>\n      <th>8_f</th>\n      <th>8_t</th>\n      <th>9_f</th>\n      <th>9_t</th>\n      <th>11_f</th>\n      <th>11_t</th>\n      <th>12_g</th>\n      <th>12_p</th>\n      <th>12_s</th>\n    </tr>\n  </thead>\n  <tbody>\n    <tr>\n      <th>0</th>\n      <td>-0.956613</td>\n      <td>-0.291083</td>\n      <td>-0.288101</td>\n      <td>0.107155</td>\n      <td>-0.195413</td>\n      <td>-0.661438</td>\n      <td>0.661438</td>\n      <td>-0.707107</td>\n      <td>1.409614</td>\n      <td>-0.704802</td>\n      <td>...</td>\n      <td>-0.108306</td>\n      <td>-0.95465</td>\n      <td>0.95465</td>\n      <td>-1.157144</td>\n      <td>1.157144</td>\n      <td>0.919195</td>\n      <td>-0.919195</td>\n      <td>0.322490</td>\n      <td>-0.108306</td>\n      <td>-0.300079</td>\n    </tr>\n    <tr>\n      <th>1</th>\n      <td>-0.060051</td>\n      <td>0.244190</td>\n      <td>0.740830</td>\n      <td>-0.816912</td>\n      <td>-0.087852</td>\n      <td>1.511858</td>\n      <td>-1.511858</td>\n      <td>-0.707107</td>\n      <td>-0.709414</td>\n      <td>1.418838</td>\n      <td>...</td>\n      <td>-0.108306</td>\n      <td>-0.95465</td>\n      <td>0.95465</td>\n      <td>-1.157144</td>\n      <td>1.157144</td>\n      <td>0.919195</td>\n      <td>-0.919195</td>\n      <td>0.322490</td>\n      <td>-0.108306</td>\n      <td>-0.300079</td>\n    </tr>\n    <tr>\n      <th>2</th>\n      <td>-0.856102</td>\n      <td>-0.216324</td>\n      <td>-0.493887</td>\n      <td>0.560471</td>\n      <td>-0.037144</td>\n      <td>1.511858</td>\n      <td>-1.511858</td>\n      <td>-0.707107</td>\n      <td>1.409614</td>\n      <td>-0.704802</td>\n      <td>...</td>\n      <td>-0.108306</td>\n      <td>-0.95465</td>\n      <td>0.95465</td>\n      <td>0.864196</td>\n      <td>-0.864196</td>\n      <td>0.919195</td>\n      <td>-0.919195</td>\n      <td>0.322490</td>\n      <td>-0.108306</td>\n      <td>-0.300079</td>\n    </tr>\n    <tr>\n      <th>3</th>\n      <td>-0.647038</td>\n      <td>0.456505</td>\n      <td>0.535044</td>\n      <td>-0.485643</td>\n      <td>-0.194837</td>\n      <td>-0.661438</td>\n      <td>0.661438</td>\n      <td>-0.707107</td>\n      <td>1.409614</td>\n      <td>-0.704802</td>\n      <td>...</td>\n      <td>-0.108306</td>\n      <td>-0.95465</td>\n      <td>0.95465</td>\n      <td>-1.157144</td>\n      <td>1.157144</td>\n      <td>-1.087908</td>\n      <td>1.087908</td>\n      <td>0.322490</td>\n      <td>-0.108306</td>\n      <td>-0.300079</td>\n    </tr>\n    <tr>\n      <th>4</th>\n      <td>0.174141</td>\n      <td>-0.153526</td>\n      <td>-0.493887</td>\n      <td>-0.369408</td>\n      <td>-0.195413</td>\n      <td>-0.661438</td>\n      <td>0.661438</td>\n      <td>1.414214</td>\n      <td>-0.709414</td>\n      <td>-0.704802</td>\n      <td>...</td>\n      <td>-0.108306</td>\n      <td>-0.95465</td>\n      <td>0.95465</td>\n      <td>0.864196</td>\n      <td>-0.864196</td>\n      <td>0.919195</td>\n      <td>-0.919195</td>\n      <td>-3.100868</td>\n      <td>-0.108306</td>\n      <td>3.332456</td>\n    </tr>\n  </tbody>\n</table>\n<p>5 rows × 48 columns</p>\n</div>",
            "text/plain": "          2         7        10        13        14       0_a       0_b  \\\n0 -0.956613 -0.291083 -0.288101  0.107155 -0.195413 -0.661438  0.661438   \n1 -0.060051  0.244190  0.740830 -0.816912 -0.087852  1.511858 -1.511858   \n2 -0.856102 -0.216324 -0.493887  0.560471 -0.037144  1.511858 -1.511858   \n3 -0.647038  0.456505  0.535044 -0.485643 -0.194837 -0.661438  0.661438   \n4  0.174141 -0.153526 -0.493887 -0.369408 -0.195413 -0.661438  0.661438   \n\n      1_low  1_medium    1_high    ...          6_z      8_f      8_t  \\\n0 -0.707107  1.409614 -0.704802    ...    -0.108306 -0.95465  0.95465   \n1 -0.707107 -0.709414  1.418838    ...    -0.108306 -0.95465  0.95465   \n2 -0.707107  1.409614 -0.704802    ...    -0.108306 -0.95465  0.95465   \n3 -0.707107  1.409614 -0.704802    ...    -0.108306 -0.95465  0.95465   \n4  1.414214 -0.709414 -0.704802    ...    -0.108306 -0.95465  0.95465   \n\n        9_f       9_t      11_f      11_t      12_g      12_p      12_s  \n0 -1.157144  1.157144  0.919195 -0.919195  0.322490 -0.108306 -0.300079  \n1 -1.157144  1.157144  0.919195 -0.919195  0.322490 -0.108306 -0.300079  \n2  0.864196 -0.864196  0.919195 -0.919195  0.322490 -0.108306 -0.300079  \n3 -1.157144  1.157144 -1.087908  1.087908  0.322490 -0.108306 -0.300079  \n4  0.864196 -0.864196  0.919195 -0.919195 -3.100868 -0.108306  3.332456  \n\n[5 rows x 48 columns]"
          },
          "metadata": {}
        }
      ]
    },
    {
      "metadata": {
        "trusted": true
      },
      "cell_type": "code",
      "source": "pd.DataFrame(df_clean).to_csv(\"df_clean.csv\")",
      "execution_count": 45,
      "outputs": []
    },
    {
      "metadata": {
        "trusted": true
      },
      "cell_type": "markdown",
      "source": "# Question 2.(a)"
    },
    {
      "metadata": {
        "trusted": true
      },
      "cell_type": "code",
      "source": "#Reading the data set\n\nq2 = 'Asignment1_Q2.csv'\nq2 = pd.read_csv(q2 , sep=',')\nq2.head(5)",
      "execution_count": 46,
      "outputs": [
        {
          "output_type": "execute_result",
          "execution_count": 46,
          "data": {
            "text/html": "<div>\n<style scoped>\n    .dataframe tbody tr th:only-of-type {\n        vertical-align: middle;\n    }\n\n    .dataframe tbody tr th {\n        vertical-align: top;\n    }\n\n    .dataframe thead th {\n        text-align: right;\n    }\n</style>\n<table border=\"1\" class=\"dataframe\">\n  <thead>\n    <tr style=\"text-align: right;\">\n      <th></th>\n      <th>COUNTRY_ID</th>\n      <th>LIFE_EXP</th>\n      <th>TOP10_INCOME</th>\n      <th>INFANT_MORT</th>\n      <th>MIL_SPEND</th>\n      <th>SCHOOL_YEARS</th>\n      <th>CPI</th>\n    </tr>\n  </thead>\n  <tbody>\n    <tr>\n      <th>0</th>\n      <td>Afghanistan</td>\n      <td>59.61</td>\n      <td>23.21</td>\n      <td>74.3</td>\n      <td>4.44</td>\n      <td>0.4</td>\n      <td>1.5171</td>\n    </tr>\n    <tr>\n      <th>1</th>\n      <td>Haiti</td>\n      <td>45.00</td>\n      <td>47.67</td>\n      <td>73.1</td>\n      <td>0.09</td>\n      <td>3.4</td>\n      <td>1.7999</td>\n    </tr>\n    <tr>\n      <th>2</th>\n      <td>Nigeria</td>\n      <td>51.30</td>\n      <td>38.23</td>\n      <td>82.6</td>\n      <td>1.07</td>\n      <td>4.1</td>\n      <td>2.4493</td>\n    </tr>\n    <tr>\n      <th>3</th>\n      <td>Egypt</td>\n      <td>70.48</td>\n      <td>26.58</td>\n      <td>19.6</td>\n      <td>1.86</td>\n      <td>5.3</td>\n      <td>2.8622</td>\n    </tr>\n    <tr>\n      <th>4</th>\n      <td>Argentina</td>\n      <td>75.77</td>\n      <td>32.30</td>\n      <td>13.3</td>\n      <td>0.76</td>\n      <td>10.1</td>\n      <td>2.9961</td>\n    </tr>\n  </tbody>\n</table>\n</div>",
            "text/plain": "    COUNTRY_ID  LIFE_EXP  TOP10_INCOME  INFANT_MORT  MIL_SPEND  SCHOOL_YEARS  \\\n0  Afghanistan     59.61         23.21         74.3       4.44           0.4   \n1        Haiti     45.00         47.67         73.1       0.09           3.4   \n2      Nigeria     51.30         38.23         82.6       1.07           4.1   \n3        Egypt     70.48         26.58         19.6       1.86           5.3   \n4    Argentina     75.77         32.30         13.3       0.76          10.1   \n\n      CPI  \n0  1.5171  \n1  1.7999  \n2  2.4493  \n3  2.8622  \n4  2.9961  "
          },
          "metadata": {}
        }
      ]
    },
    {
      "metadata": {
        "trusted": true
      },
      "cell_type": "code",
      "source": "# Setting the target variable\n\ntarget = q2[q2[\"COUNTRY_ID\"] == \"Russia\"].iloc[0]\ntarget",
      "execution_count": 47,
      "outputs": [
        {
          "output_type": "execute_result",
          "execution_count": 47,
          "data": {
            "text/plain": "COUNTRY_ID      Russia\nLIFE_EXP         67.62\nTOP10_INCOME     31.68\nINFANT_MORT         10\nMIL_SPEND         3.87\nSCHOOL_YEARS      12.9\nCPI                  ?\nName: 16, dtype: object"
          },
          "metadata": {}
        }
      ]
    },
    {
      "metadata": {
        "trusted": true
      },
      "cell_type": "code",
      "source": "import math\n\ndist_columns = ['LIFE_EXP','TOP10_INCOME','INFANT_MORT','MIL_SPEND','SCHOOL_YEARS']\n\n#Defining function to calculate Manhattan distance and implementing it on the data set\n\ndef manhattan_distance(value):\n    inner_value = 0\n    for i in dist_columns:\n        inner_value += abs(value[i] - target[i])\n    return inner_value\n\nmanhattan = q2.apply(manhattan_distance, axis=1).round(4)\nmanhattan",
      "execution_count": 48,
      "outputs": [
        {
          "output_type": "execute_result",
          "execution_count": 48,
          "data": {
            "text/plain": "0      93.85\n1     114.99\n2     107.07\n3      27.17\n4      17.98\n5      21.07\n6      29.39\n7      26.26\n8      18.07\n9      28.15\n10     22.64\n11     32.19\n12     29.11\n13     29.96\n14     33.61\n15     25.36\n16      0.00\ndtype: float64"
          },
          "metadata": {}
        }
      ]
    },
    {
      "metadata": {
        "trusted": true
      },
      "cell_type": "code",
      "source": "#Adding Manhattan distance as a column to the original data set\nq2_manhattan = q2.assign(manhattan= manhattan.values)\n\n\n#Subsetting the data table and sorting obervations by Manhattan distance\n\nman_subset=q2_manhattan[['COUNTRY_ID','manhattan','CPI']]\nman_subset.sort_values(by=['manhattan'], inplace=True)\nman_subset ",
      "execution_count": 49,
      "outputs": [
        {
          "output_type": "execute_result",
          "execution_count": 49,
          "data": {
            "text/html": "<div>\n<style scoped>\n    .dataframe tbody tr th:only-of-type {\n        vertical-align: middle;\n    }\n\n    .dataframe tbody tr th {\n        vertical-align: top;\n    }\n\n    .dataframe thead th {\n        text-align: right;\n    }\n</style>\n<table border=\"1\" class=\"dataframe\">\n  <thead>\n    <tr style=\"text-align: right;\">\n      <th></th>\n      <th>COUNTRY_ID</th>\n      <th>manhattan</th>\n      <th>CPI</th>\n    </tr>\n  </thead>\n  <tbody>\n    <tr>\n      <th>16</th>\n      <td>Russia</td>\n      <td>0.00</td>\n      <td>?</td>\n    </tr>\n    <tr>\n      <th>4</th>\n      <td>Argentina</td>\n      <td>17.98</td>\n      <td>2.9961</td>\n    </tr>\n    <tr>\n      <th>8</th>\n      <td>U.S.A</td>\n      <td>18.07</td>\n      <td>7.1357</td>\n    </tr>\n    <tr>\n      <th>5</th>\n      <td>China</td>\n      <td>21.07</td>\n      <td>3.6356</td>\n    </tr>\n    <tr>\n      <th>10</th>\n      <td>U.K.</td>\n      <td>22.64</td>\n      <td>7.7751</td>\n    </tr>\n    <tr>\n      <th>15</th>\n      <td>New Zealand</td>\n      <td>25.36</td>\n      <td>9.4627</td>\n    </tr>\n    <tr>\n      <th>7</th>\n      <td>Israel</td>\n      <td>26.26</td>\n      <td>5.8069</td>\n    </tr>\n    <tr>\n      <th>3</th>\n      <td>Egypt</td>\n      <td>27.17</td>\n      <td>2.8622</td>\n    </tr>\n    <tr>\n      <th>9</th>\n      <td>Ireland</td>\n      <td>28.15</td>\n      <td>7.536</td>\n    </tr>\n    <tr>\n      <th>12</th>\n      <td>Canada</td>\n      <td>29.11</td>\n      <td>8.6725</td>\n    </tr>\n    <tr>\n      <th>6</th>\n      <td>Brazil</td>\n      <td>29.39</td>\n      <td>3.7741</td>\n    </tr>\n    <tr>\n      <th>13</th>\n      <td>Australia</td>\n      <td>29.96</td>\n      <td>8.8442</td>\n    </tr>\n    <tr>\n      <th>11</th>\n      <td>Germany</td>\n      <td>32.19</td>\n      <td>8.0461</td>\n    </tr>\n    <tr>\n      <th>14</th>\n      <td>Sweden</td>\n      <td>33.61</td>\n      <td>9.2985</td>\n    </tr>\n    <tr>\n      <th>0</th>\n      <td>Afghanistan</td>\n      <td>93.85</td>\n      <td>1.5171</td>\n    </tr>\n    <tr>\n      <th>2</th>\n      <td>Nigeria</td>\n      <td>107.07</td>\n      <td>2.4493</td>\n    </tr>\n    <tr>\n      <th>1</th>\n      <td>Haiti</td>\n      <td>114.99</td>\n      <td>1.7999</td>\n    </tr>\n  </tbody>\n</table>\n</div>",
            "text/plain": "     COUNTRY_ID  manhattan     CPI\n16       Russia       0.00       ?\n4     Argentina      17.98  2.9961\n8         U.S.A      18.07  7.1357\n5         China      21.07  3.6356\n10         U.K.      22.64  7.7751\n15  New Zealand      25.36  9.4627\n7        Israel      26.26  5.8069\n3         Egypt      27.17  2.8622\n9       Ireland      28.15   7.536\n12       Canada      29.11  8.6725\n6        Brazil      29.39  3.7741\n13    Australia      29.96  8.8442\n11      Germany      32.19  8.0461\n14       Sweden      33.61  9.2985\n0   Afghanistan      93.85  1.5171\n2       Nigeria     107.07  2.4493\n1         Haiti     114.99  1.7999"
          },
          "metadata": {}
        }
      ]
    },
    {
      "metadata": {
        "trusted": true
      },
      "cell_type": "code",
      "source": "#Subsetting data to not include the Russia observation.\n\nman_subset2 = man_subset[man_subset['COUNTRY_ID'] != \"Russia\"] \n\n#Selecting 3-nearest neighbours for prediction as follows-\n\nman_subset2['CPI']=man_subset2['CPI'].astype(float)\nman_subset3=man_subset2.nsmallest(3,'manhattan')\nman_subset3",
      "execution_count": 50,
      "outputs": [
        {
          "output_type": "execute_result",
          "execution_count": 50,
          "data": {
            "text/html": "<div>\n<style scoped>\n    .dataframe tbody tr th:only-of-type {\n        vertical-align: middle;\n    }\n\n    .dataframe tbody tr th {\n        vertical-align: top;\n    }\n\n    .dataframe thead th {\n        text-align: right;\n    }\n</style>\n<table border=\"1\" class=\"dataframe\">\n  <thead>\n    <tr style=\"text-align: right;\">\n      <th></th>\n      <th>COUNTRY_ID</th>\n      <th>manhattan</th>\n      <th>CPI</th>\n    </tr>\n  </thead>\n  <tbody>\n    <tr>\n      <th>4</th>\n      <td>Argentina</td>\n      <td>17.98</td>\n      <td>2.9961</td>\n    </tr>\n    <tr>\n      <th>8</th>\n      <td>U.S.A</td>\n      <td>18.07</td>\n      <td>7.1357</td>\n    </tr>\n    <tr>\n      <th>5</th>\n      <td>China</td>\n      <td>21.07</td>\n      <td>3.6356</td>\n    </tr>\n  </tbody>\n</table>\n</div>",
            "text/plain": "  COUNTRY_ID  manhattan     CPI\n4  Argentina      17.98  2.9961\n8      U.S.A      18.07  7.1357\n5      China      21.07  3.6356"
          },
          "metadata": {}
        }
      ]
    },
    {
      "metadata": {
        "trusted": true
      },
      "cell_type": "code",
      "source": "#Calculating CPI of Russia using 3NN prediction with Manhattan distance\n\nRussia_cpi=man_subset3['CPI'].mean()\nRussia_cpi",
      "execution_count": 51,
      "outputs": [
        {
          "output_type": "execute_result",
          "execution_count": 51,
          "data": {
            "text/plain": "4.589133333333334"
          },
          "metadata": {}
        }
      ]
    },
    {
      "metadata": {},
      "cell_type": "markdown",
      "source": "# 2.(b)"
    },
    {
      "metadata": {
        "trusted": true
      },
      "cell_type": "code",
      "source": "#Calculating weights for the kNN prediction model\n\nwt=man_subset2[['manhattan']]\ndef weight(value):\n    sum = 0\n    for i in wt:\n        sum += 1/(value[i])**2\n    return sum\n\nweight = man_subset2.apply(weight, axis=1).round(4)\n\nweight",
      "execution_count": 52,
      "outputs": [
        {
          "output_type": "execute_result",
          "execution_count": 52,
          "data": {
            "text/plain": "4     0.0031\n8     0.0031\n5     0.0023\n10    0.0020\n15    0.0016\n7     0.0015\n3     0.0014\n9     0.0013\n12    0.0012\n6     0.0012\n13    0.0011\n11    0.0010\n14    0.0009\n0     0.0001\n2     0.0001\n1     0.0001\ndtype: float64"
          },
          "metadata": {}
        }
      ]
    },
    {
      "metadata": {
        "trusted": true
      },
      "cell_type": "code",
      "source": "#Adding calculated-weights column to the subsetted data table\n\nman_weights = man_subset2.assign(weight = weight.values)\n\nman_weights",
      "execution_count": 53,
      "outputs": [
        {
          "output_type": "execute_result",
          "execution_count": 53,
          "data": {
            "text/html": "<div>\n<style scoped>\n    .dataframe tbody tr th:only-of-type {\n        vertical-align: middle;\n    }\n\n    .dataframe tbody tr th {\n        vertical-align: top;\n    }\n\n    .dataframe thead th {\n        text-align: right;\n    }\n</style>\n<table border=\"1\" class=\"dataframe\">\n  <thead>\n    <tr style=\"text-align: right;\">\n      <th></th>\n      <th>COUNTRY_ID</th>\n      <th>manhattan</th>\n      <th>CPI</th>\n      <th>weight</th>\n    </tr>\n  </thead>\n  <tbody>\n    <tr>\n      <th>4</th>\n      <td>Argentina</td>\n      <td>17.98</td>\n      <td>2.9961</td>\n      <td>0.0031</td>\n    </tr>\n    <tr>\n      <th>8</th>\n      <td>U.S.A</td>\n      <td>18.07</td>\n      <td>7.1357</td>\n      <td>0.0031</td>\n    </tr>\n    <tr>\n      <th>5</th>\n      <td>China</td>\n      <td>21.07</td>\n      <td>3.6356</td>\n      <td>0.0023</td>\n    </tr>\n    <tr>\n      <th>10</th>\n      <td>U.K.</td>\n      <td>22.64</td>\n      <td>7.7751</td>\n      <td>0.0020</td>\n    </tr>\n    <tr>\n      <th>15</th>\n      <td>New Zealand</td>\n      <td>25.36</td>\n      <td>9.4627</td>\n      <td>0.0016</td>\n    </tr>\n    <tr>\n      <th>7</th>\n      <td>Israel</td>\n      <td>26.26</td>\n      <td>5.8069</td>\n      <td>0.0015</td>\n    </tr>\n    <tr>\n      <th>3</th>\n      <td>Egypt</td>\n      <td>27.17</td>\n      <td>2.8622</td>\n      <td>0.0014</td>\n    </tr>\n    <tr>\n      <th>9</th>\n      <td>Ireland</td>\n      <td>28.15</td>\n      <td>7.5360</td>\n      <td>0.0013</td>\n    </tr>\n    <tr>\n      <th>12</th>\n      <td>Canada</td>\n      <td>29.11</td>\n      <td>8.6725</td>\n      <td>0.0012</td>\n    </tr>\n    <tr>\n      <th>6</th>\n      <td>Brazil</td>\n      <td>29.39</td>\n      <td>3.7741</td>\n      <td>0.0012</td>\n    </tr>\n    <tr>\n      <th>13</th>\n      <td>Australia</td>\n      <td>29.96</td>\n      <td>8.8442</td>\n      <td>0.0011</td>\n    </tr>\n    <tr>\n      <th>11</th>\n      <td>Germany</td>\n      <td>32.19</td>\n      <td>8.0461</td>\n      <td>0.0010</td>\n    </tr>\n    <tr>\n      <th>14</th>\n      <td>Sweden</td>\n      <td>33.61</td>\n      <td>9.2985</td>\n      <td>0.0009</td>\n    </tr>\n    <tr>\n      <th>0</th>\n      <td>Afghanistan</td>\n      <td>93.85</td>\n      <td>1.5171</td>\n      <td>0.0001</td>\n    </tr>\n    <tr>\n      <th>2</th>\n      <td>Nigeria</td>\n      <td>107.07</td>\n      <td>2.4493</td>\n      <td>0.0001</td>\n    </tr>\n    <tr>\n      <th>1</th>\n      <td>Haiti</td>\n      <td>114.99</td>\n      <td>1.7999</td>\n      <td>0.0001</td>\n    </tr>\n  </tbody>\n</table>\n</div>",
            "text/plain": "     COUNTRY_ID  manhattan     CPI  weight\n4     Argentina      17.98  2.9961  0.0031\n8         U.S.A      18.07  7.1357  0.0031\n5         China      21.07  3.6356  0.0023\n10         U.K.      22.64  7.7751  0.0020\n15  New Zealand      25.36  9.4627  0.0016\n7        Israel      26.26  5.8069  0.0015\n3         Egypt      27.17  2.8622  0.0014\n9       Ireland      28.15  7.5360  0.0013\n12       Canada      29.11  8.6725  0.0012\n6        Brazil      29.39  3.7741  0.0012\n13    Australia      29.96  8.8442  0.0011\n11      Germany      32.19  8.0461  0.0010\n14       Sweden      33.61  9.2985  0.0009\n0   Afghanistan      93.85  1.5171  0.0001\n2       Nigeria     107.07  2.4493  0.0001\n1         Haiti     114.99  1.7999  0.0001"
          },
          "metadata": {}
        }
      ]
    },
    {
      "metadata": {
        "trusted": true
      },
      "cell_type": "code",
      "source": "#Sum of weights column\n\nsum_weight=man_weights['weight'].sum(axis=0)\nsum_weight\n",
      "execution_count": 54,
      "outputs": [
        {
          "output_type": "execute_result",
          "execution_count": 54,
          "data": {
            "text/plain": "0.022"
          },
          "metadata": {}
        }
      ]
    },
    {
      "metadata": {
        "trusted": true
      },
      "cell_type": "code",
      "source": "#Multiplying CPI by calculated-weights column\n\nwt_cpi=man_weights['CPI']*man_weights['weight']\nq2_wt = man_weights.assign(wt_cpi = wt_cpi.values)\nq2_wt\n",
      "execution_count": 55,
      "outputs": [
        {
          "output_type": "execute_result",
          "execution_count": 55,
          "data": {
            "text/html": "<div>\n<style scoped>\n    .dataframe tbody tr th:only-of-type {\n        vertical-align: middle;\n    }\n\n    .dataframe tbody tr th {\n        vertical-align: top;\n    }\n\n    .dataframe thead th {\n        text-align: right;\n    }\n</style>\n<table border=\"1\" class=\"dataframe\">\n  <thead>\n    <tr style=\"text-align: right;\">\n      <th></th>\n      <th>COUNTRY_ID</th>\n      <th>manhattan</th>\n      <th>CPI</th>\n      <th>weight</th>\n      <th>wt_cpi</th>\n    </tr>\n  </thead>\n  <tbody>\n    <tr>\n      <th>4</th>\n      <td>Argentina</td>\n      <td>17.98</td>\n      <td>2.9961</td>\n      <td>0.0031</td>\n      <td>0.009288</td>\n    </tr>\n    <tr>\n      <th>8</th>\n      <td>U.S.A</td>\n      <td>18.07</td>\n      <td>7.1357</td>\n      <td>0.0031</td>\n      <td>0.022121</td>\n    </tr>\n    <tr>\n      <th>5</th>\n      <td>China</td>\n      <td>21.07</td>\n      <td>3.6356</td>\n      <td>0.0023</td>\n      <td>0.008362</td>\n    </tr>\n    <tr>\n      <th>10</th>\n      <td>U.K.</td>\n      <td>22.64</td>\n      <td>7.7751</td>\n      <td>0.0020</td>\n      <td>0.015550</td>\n    </tr>\n    <tr>\n      <th>15</th>\n      <td>New Zealand</td>\n      <td>25.36</td>\n      <td>9.4627</td>\n      <td>0.0016</td>\n      <td>0.015140</td>\n    </tr>\n    <tr>\n      <th>7</th>\n      <td>Israel</td>\n      <td>26.26</td>\n      <td>5.8069</td>\n      <td>0.0015</td>\n      <td>0.008710</td>\n    </tr>\n    <tr>\n      <th>3</th>\n      <td>Egypt</td>\n      <td>27.17</td>\n      <td>2.8622</td>\n      <td>0.0014</td>\n      <td>0.004007</td>\n    </tr>\n    <tr>\n      <th>9</th>\n      <td>Ireland</td>\n      <td>28.15</td>\n      <td>7.5360</td>\n      <td>0.0013</td>\n      <td>0.009797</td>\n    </tr>\n    <tr>\n      <th>12</th>\n      <td>Canada</td>\n      <td>29.11</td>\n      <td>8.6725</td>\n      <td>0.0012</td>\n      <td>0.010407</td>\n    </tr>\n    <tr>\n      <th>6</th>\n      <td>Brazil</td>\n      <td>29.39</td>\n      <td>3.7741</td>\n      <td>0.0012</td>\n      <td>0.004529</td>\n    </tr>\n    <tr>\n      <th>13</th>\n      <td>Australia</td>\n      <td>29.96</td>\n      <td>8.8442</td>\n      <td>0.0011</td>\n      <td>0.009729</td>\n    </tr>\n    <tr>\n      <th>11</th>\n      <td>Germany</td>\n      <td>32.19</td>\n      <td>8.0461</td>\n      <td>0.0010</td>\n      <td>0.008046</td>\n    </tr>\n    <tr>\n      <th>14</th>\n      <td>Sweden</td>\n      <td>33.61</td>\n      <td>9.2985</td>\n      <td>0.0009</td>\n      <td>0.008369</td>\n    </tr>\n    <tr>\n      <th>0</th>\n      <td>Afghanistan</td>\n      <td>93.85</td>\n      <td>1.5171</td>\n      <td>0.0001</td>\n      <td>0.000152</td>\n    </tr>\n    <tr>\n      <th>2</th>\n      <td>Nigeria</td>\n      <td>107.07</td>\n      <td>2.4493</td>\n      <td>0.0001</td>\n      <td>0.000245</td>\n    </tr>\n    <tr>\n      <th>1</th>\n      <td>Haiti</td>\n      <td>114.99</td>\n      <td>1.7999</td>\n      <td>0.0001</td>\n      <td>0.000180</td>\n    </tr>\n  </tbody>\n</table>\n</div>",
            "text/plain": "     COUNTRY_ID  manhattan     CPI  weight    wt_cpi\n4     Argentina      17.98  2.9961  0.0031  0.009288\n8         U.S.A      18.07  7.1357  0.0031  0.022121\n5         China      21.07  3.6356  0.0023  0.008362\n10         U.K.      22.64  7.7751  0.0020  0.015550\n15  New Zealand      25.36  9.4627  0.0016  0.015140\n7        Israel      26.26  5.8069  0.0015  0.008710\n3         Egypt      27.17  2.8622  0.0014  0.004007\n9       Ireland      28.15  7.5360  0.0013  0.009797\n12       Canada      29.11  8.6725  0.0012  0.010407\n6        Brazil      29.39  3.7741  0.0012  0.004529\n13    Australia      29.96  8.8442  0.0011  0.009729\n11      Germany      32.19  8.0461  0.0010  0.008046\n14       Sweden      33.61  9.2985  0.0009  0.008369\n0   Afghanistan      93.85  1.5171  0.0001  0.000152\n2       Nigeria     107.07  2.4493  0.0001  0.000245\n1         Haiti     114.99  1.7999  0.0001  0.000180"
          },
          "metadata": {}
        }
      ]
    },
    {
      "metadata": {
        "trusted": true
      },
      "cell_type": "code",
      "source": "#Calculating CPI value for Russia, according to weighted k-NN prediction model, with k=16\n\nwt_cpi=q2_wt['wt_cpi'].sum(axis=0).round(3)\n\ncpi_russia2=wt_cpi/sum_weight\ncpi_russia2.round(3)",
      "execution_count": 56,
      "outputs": [
        {
          "output_type": "execute_result",
          "execution_count": 56,
          "data": {
            "text/plain": "6.136"
          },
          "metadata": {}
        }
      ]
    },
    {
      "metadata": {},
      "cell_type": "markdown",
      "source": "# 2.(c)"
    },
    {
      "metadata": {
        "trusted": true
      },
      "cell_type": "code",
      "source": "#Normalizing the data using range normalization\n\nnormal = ['LIFE_EXP','TOP10_INCOME','INFANT_MORT','MIL_SPEND','SCHOOL_YEARS']\nq2_new=q2.copy()\nq2_new[normal] = q2_new[normal].apply(lambda x: (x - x.min()) / (x.max() - x.min()))\n\nq2_new",
      "execution_count": 57,
      "outputs": [
        {
          "output_type": "execute_result",
          "execution_count": 57,
          "data": {
            "text/html": "<div>\n<style scoped>\n    .dataframe tbody tr th:only-of-type {\n        vertical-align: middle;\n    }\n\n    .dataframe tbody tr th {\n        vertical-align: top;\n    }\n\n    .dataframe thead th {\n        text-align: right;\n    }\n</style>\n<table border=\"1\" class=\"dataframe\">\n  <thead>\n    <tr style=\"text-align: right;\">\n      <th></th>\n      <th>COUNTRY_ID</th>\n      <th>LIFE_EXP</th>\n      <th>TOP10_INCOME</th>\n      <th>INFANT_MORT</th>\n      <th>MIL_SPEND</th>\n      <th>SCHOOL_YEARS</th>\n      <th>CPI</th>\n    </tr>\n  </thead>\n  <tbody>\n    <tr>\n      <th>0</th>\n      <td>Afghanistan</td>\n      <td>0.393907</td>\n      <td>0.044531</td>\n      <td>0.896509</td>\n      <td>0.651198</td>\n      <td>0.000000</td>\n      <td>1.5171</td>\n    </tr>\n    <tr>\n      <th>1</th>\n      <td>Haiti</td>\n      <td>0.000000</td>\n      <td>1.000000</td>\n      <td>0.881546</td>\n      <td>0.000000</td>\n      <td>0.217391</td>\n      <td>1.7999</td>\n    </tr>\n    <tr>\n      <th>2</th>\n      <td>Nigeria</td>\n      <td>0.169857</td>\n      <td>0.631250</td>\n      <td>1.000000</td>\n      <td>0.146707</td>\n      <td>0.268116</td>\n      <td>2.4493</td>\n    </tr>\n    <tr>\n      <th>3</th>\n      <td>Egypt</td>\n      <td>0.686978</td>\n      <td>0.176172</td>\n      <td>0.214464</td>\n      <td>0.264970</td>\n      <td>0.355072</td>\n      <td>2.8622</td>\n    </tr>\n    <tr>\n      <th>4</th>\n      <td>Argentina</td>\n      <td>0.829604</td>\n      <td>0.399609</td>\n      <td>0.135910</td>\n      <td>0.100299</td>\n      <td>0.702899</td>\n      <td>2.9961</td>\n    </tr>\n    <tr>\n      <th>5</th>\n      <td>China</td>\n      <td>0.805338</td>\n      <td>0.308984</td>\n      <td>0.140898</td>\n      <td>0.278443</td>\n      <td>0.434783</td>\n      <td>3.6356</td>\n    </tr>\n    <tr>\n      <th>6</th>\n      <td>Brazil</td>\n      <td>0.758156</td>\n      <td>0.814844</td>\n      <td>0.150873</td>\n      <td>0.200599</td>\n      <td>0.492754</td>\n      <td>3.7741</td>\n    </tr>\n    <tr>\n      <th>7</th>\n      <td>Israel</td>\n      <td>0.978700</td>\n      <td>0.262891</td>\n      <td>0.014963</td>\n      <td>1.000000</td>\n      <td>0.876812</td>\n      <td>5.8069</td>\n    </tr>\n    <tr>\n      <th>8</th>\n      <td>U.S.A</td>\n      <td>0.903478</td>\n      <td>0.303906</td>\n      <td>0.048628</td>\n      <td>0.693114</td>\n      <td>0.963768</td>\n      <td>7.1357</td>\n    </tr>\n    <tr>\n      <th>9</th>\n      <td>Ireland</td>\n      <td>0.947695</td>\n      <td>0.201563</td>\n      <td>0.013716</td>\n      <td>0.076347</td>\n      <td>0.804348</td>\n      <td>7.536</td>\n    </tr>\n    <tr>\n      <th>10</th>\n      <td>U.K.</td>\n      <td>0.946077</td>\n      <td>0.250781</td>\n      <td>0.024938</td>\n      <td>0.374251</td>\n      <td>0.913043</td>\n      <td>7.7751</td>\n    </tr>\n    <tr>\n      <th>11</th>\n      <td>Germany</td>\n      <td>0.950121</td>\n      <td>0.000000</td>\n      <td>0.013716</td>\n      <td>0.182635</td>\n      <td>0.840580</td>\n      <td>8.0461</td>\n    </tr>\n    <tr>\n      <th>12</th>\n      <td>Canada</td>\n      <td>0.970342</td>\n      <td>0.106250</td>\n      <td>0.031172</td>\n      <td>0.199102</td>\n      <td>1.000000</td>\n      <td>8.6725</td>\n    </tr>\n    <tr>\n      <th>13</th>\n      <td>Australia</td>\n      <td>1.000000</td>\n      <td>0.130078</td>\n      <td>0.022444</td>\n      <td>0.264970</td>\n      <td>0.804348</td>\n      <td>8.8442</td>\n    </tr>\n    <tr>\n      <th>14</th>\n      <td>Sweden</td>\n      <td>0.982205</td>\n      <td>0.004297</td>\n      <td>0.000000</td>\n      <td>0.176647</td>\n      <td>0.898551</td>\n      <td>9.2985</td>\n    </tr>\n    <tr>\n      <th>15</th>\n      <td>New Zealand</td>\n      <td>0.961715</td>\n      <td>0.224219</td>\n      <td>0.031172</td>\n      <td>0.155689</td>\n      <td>0.862319</td>\n      <td>9.4627</td>\n    </tr>\n    <tr>\n      <th>16</th>\n      <td>Russia</td>\n      <td>0.609868</td>\n      <td>0.375391</td>\n      <td>0.094763</td>\n      <td>0.565868</td>\n      <td>0.905797</td>\n      <td>?</td>\n    </tr>\n  </tbody>\n</table>\n</div>",
            "text/plain": "     COUNTRY_ID  LIFE_EXP  TOP10_INCOME  INFANT_MORT  MIL_SPEND  SCHOOL_YEARS  \\\n0   Afghanistan  0.393907      0.044531     0.896509   0.651198      0.000000   \n1         Haiti  0.000000      1.000000     0.881546   0.000000      0.217391   \n2       Nigeria  0.169857      0.631250     1.000000   0.146707      0.268116   \n3         Egypt  0.686978      0.176172     0.214464   0.264970      0.355072   \n4     Argentina  0.829604      0.399609     0.135910   0.100299      0.702899   \n5         China  0.805338      0.308984     0.140898   0.278443      0.434783   \n6        Brazil  0.758156      0.814844     0.150873   0.200599      0.492754   \n7        Israel  0.978700      0.262891     0.014963   1.000000      0.876812   \n8         U.S.A  0.903478      0.303906     0.048628   0.693114      0.963768   \n9       Ireland  0.947695      0.201563     0.013716   0.076347      0.804348   \n10         U.K.  0.946077      0.250781     0.024938   0.374251      0.913043   \n11      Germany  0.950121      0.000000     0.013716   0.182635      0.840580   \n12       Canada  0.970342      0.106250     0.031172   0.199102      1.000000   \n13    Australia  1.000000      0.130078     0.022444   0.264970      0.804348   \n14       Sweden  0.982205      0.004297     0.000000   0.176647      0.898551   \n15  New Zealand  0.961715      0.224219     0.031172   0.155689      0.862319   \n16       Russia  0.609868      0.375391     0.094763   0.565868      0.905797   \n\n       CPI  \n0   1.5171  \n1   1.7999  \n2   2.4493  \n3   2.8622  \n4   2.9961  \n5   3.6356  \n6   3.7741  \n7   5.8069  \n8   7.1357  \n9    7.536  \n10  7.7751  \n11  8.0461  \n12  8.6725  \n13  8.8442  \n14  9.2985  \n15  9.4627  \n16       ?  "
          },
          "metadata": {}
        }
      ]
    },
    {
      "metadata": {
        "trusted": true
      },
      "cell_type": "code",
      "source": "#setting the target variable\n\ntarget_new = q2_new[q2_new[\"COUNTRY_ID\"] == \"Russia\"].iloc[0]\ntarget_new",
      "execution_count": 58,
      "outputs": [
        {
          "output_type": "execute_result",
          "execution_count": 58,
          "data": {
            "text/plain": "COUNTRY_ID         Russia\nLIFE_EXP         0.609868\nTOP10_INCOME     0.375391\nINFANT_MORT     0.0947631\nMIL_SPEND        0.565868\nSCHOOL_YEARS     0.905797\nCPI                     ?\nName: 16, dtype: object"
          },
          "metadata": {}
        }
      ]
    },
    {
      "metadata": {
        "trusted": true
      },
      "cell_type": "code",
      "source": "import math\n\ncols_new = ['LIFE_EXP','TOP10_INCOME','INFANT_MORT','MIL_SPEND','SCHOOL_YEARS']\n\n#Defining function to calculate Manhattan distance and implementing it on the data set\n\ndef manhattan_distance(value):\n    inner_value = 0\n    for i in cols_new:\n        inner_value += abs(value[i] - target_new[i])\n    return inner_value\n\nmanh_new = q2_new.apply(manhattan_distance, axis=1).round(4)\n\nmanh_new",
      "execution_count": 59,
      "outputs": [
        {
          "output_type": "execute_result",
          "execution_count": 59,
          "data": {
            "text/plain": "0     2.3397\n1     3.2755\n2     2.6579\n3     1.2477\n4     0.9536\n5     1.0665\n6     1.4222\n7     1.0243\n8     0.5964\n9     1.1837\n10    0.7295\n11    1.2451\n12    1.1542\n13    1.1101\n14    1.2347\n15    1.0203\n16    0.0000\ndtype: float64"
          },
          "metadata": {}
        }
      ]
    },
    {
      "metadata": {
        "trusted": true
      },
      "cell_type": "code",
      "source": "#Adding Manhattan distance as a column to the original data set\nmanh_new2 = q2_new.assign(manh_new= manh_new.values)\n\n#Subsetting the data table and sorting obervations by Manhattan distance\nmanh_new3=manh_new2[['COUNTRY_ID','manh_new','CPI']]\nmanh_new3.sort_values(by=['manh_new'], inplace=True)\nmanh_new3 ",
      "execution_count": 60,
      "outputs": [
        {
          "output_type": "execute_result",
          "execution_count": 60,
          "data": {
            "text/html": "<div>\n<style scoped>\n    .dataframe tbody tr th:only-of-type {\n        vertical-align: middle;\n    }\n\n    .dataframe tbody tr th {\n        vertical-align: top;\n    }\n\n    .dataframe thead th {\n        text-align: right;\n    }\n</style>\n<table border=\"1\" class=\"dataframe\">\n  <thead>\n    <tr style=\"text-align: right;\">\n      <th></th>\n      <th>COUNTRY_ID</th>\n      <th>manh_new</th>\n      <th>CPI</th>\n    </tr>\n  </thead>\n  <tbody>\n    <tr>\n      <th>16</th>\n      <td>Russia</td>\n      <td>0.0000</td>\n      <td>?</td>\n    </tr>\n    <tr>\n      <th>8</th>\n      <td>U.S.A</td>\n      <td>0.5964</td>\n      <td>7.1357</td>\n    </tr>\n    <tr>\n      <th>10</th>\n      <td>U.K.</td>\n      <td>0.7295</td>\n      <td>7.7751</td>\n    </tr>\n    <tr>\n      <th>4</th>\n      <td>Argentina</td>\n      <td>0.9536</td>\n      <td>2.9961</td>\n    </tr>\n    <tr>\n      <th>15</th>\n      <td>New Zealand</td>\n      <td>1.0203</td>\n      <td>9.4627</td>\n    </tr>\n    <tr>\n      <th>7</th>\n      <td>Israel</td>\n      <td>1.0243</td>\n      <td>5.8069</td>\n    </tr>\n    <tr>\n      <th>5</th>\n      <td>China</td>\n      <td>1.0665</td>\n      <td>3.6356</td>\n    </tr>\n    <tr>\n      <th>13</th>\n      <td>Australia</td>\n      <td>1.1101</td>\n      <td>8.8442</td>\n    </tr>\n    <tr>\n      <th>12</th>\n      <td>Canada</td>\n      <td>1.1542</td>\n      <td>8.6725</td>\n    </tr>\n    <tr>\n      <th>9</th>\n      <td>Ireland</td>\n      <td>1.1837</td>\n      <td>7.536</td>\n    </tr>\n    <tr>\n      <th>14</th>\n      <td>Sweden</td>\n      <td>1.2347</td>\n      <td>9.2985</td>\n    </tr>\n    <tr>\n      <th>11</th>\n      <td>Germany</td>\n      <td>1.2451</td>\n      <td>8.0461</td>\n    </tr>\n    <tr>\n      <th>3</th>\n      <td>Egypt</td>\n      <td>1.2477</td>\n      <td>2.8622</td>\n    </tr>\n    <tr>\n      <th>6</th>\n      <td>Brazil</td>\n      <td>1.4222</td>\n      <td>3.7741</td>\n    </tr>\n    <tr>\n      <th>0</th>\n      <td>Afghanistan</td>\n      <td>2.3397</td>\n      <td>1.5171</td>\n    </tr>\n    <tr>\n      <th>2</th>\n      <td>Nigeria</td>\n      <td>2.6579</td>\n      <td>2.4493</td>\n    </tr>\n    <tr>\n      <th>1</th>\n      <td>Haiti</td>\n      <td>3.2755</td>\n      <td>1.7999</td>\n    </tr>\n  </tbody>\n</table>\n</div>",
            "text/plain": "     COUNTRY_ID  manh_new     CPI\n16       Russia    0.0000       ?\n8         U.S.A    0.5964  7.1357\n10         U.K.    0.7295  7.7751\n4     Argentina    0.9536  2.9961\n15  New Zealand    1.0203  9.4627\n7        Israel    1.0243  5.8069\n5         China    1.0665  3.6356\n13    Australia    1.1101  8.8442\n12       Canada    1.1542  8.6725\n9       Ireland    1.1837   7.536\n14       Sweden    1.2347  9.2985\n11      Germany    1.2451  8.0461\n3         Egypt    1.2477  2.8622\n6        Brazil    1.4222  3.7741\n0   Afghanistan    2.3397  1.5171\n2       Nigeria    2.6579  2.4493\n1         Haiti    3.2755  1.7999"
          },
          "metadata": {}
        }
      ]
    },
    {
      "metadata": {
        "trusted": true
      },
      "cell_type": "code",
      "source": "#Selecting 3-nearest neighbours for prediction as follows-\n\nman_subset2['CPI']=man_subset2['CPI'].astype(float)\nman_subset3=man_subset2.nsmallest(3,'manhattan')\nman_subset3\n\n\n#Subsetting data to not include the Russia observation.\nnorm_subset = manh_new3[manh_new3['COUNTRY_ID'] != \"Russia\"] \n\n#Selecting 3-nearest neighbours for prediction as follows-\nnorm_subset['CPI']=norm_subset['CPI'].astype(float)\nnorm_subset2=norm_subset.nsmallest(3,'manh_new')\nnorm_subset2",
      "execution_count": 61,
      "outputs": [
        {
          "output_type": "execute_result",
          "execution_count": 61,
          "data": {
            "text/html": "<div>\n<style scoped>\n    .dataframe tbody tr th:only-of-type {\n        vertical-align: middle;\n    }\n\n    .dataframe tbody tr th {\n        vertical-align: top;\n    }\n\n    .dataframe thead th {\n        text-align: right;\n    }\n</style>\n<table border=\"1\" class=\"dataframe\">\n  <thead>\n    <tr style=\"text-align: right;\">\n      <th></th>\n      <th>COUNTRY_ID</th>\n      <th>manh_new</th>\n      <th>CPI</th>\n    </tr>\n  </thead>\n  <tbody>\n    <tr>\n      <th>8</th>\n      <td>U.S.A</td>\n      <td>0.5964</td>\n      <td>7.1357</td>\n    </tr>\n    <tr>\n      <th>10</th>\n      <td>U.K.</td>\n      <td>0.7295</td>\n      <td>7.7751</td>\n    </tr>\n    <tr>\n      <th>4</th>\n      <td>Argentina</td>\n      <td>0.9536</td>\n      <td>2.9961</td>\n    </tr>\n  </tbody>\n</table>\n</div>",
            "text/plain": "   COUNTRY_ID  manh_new     CPI\n8       U.S.A    0.5964  7.1357\n10       U.K.    0.7295  7.7751\n4   Argentina    0.9536  2.9961"
          },
          "metadata": {}
        }
      ]
    },
    {
      "metadata": {
        "trusted": true
      },
      "cell_type": "code",
      "source": "#Calculating CPI of Russia using 3NN prediction with Manhattan distance, after normalising the data\n\nrus_cpi=norm_subset2['CPI'].mean()\nrus_cpi",
      "execution_count": 62,
      "outputs": [
        {
          "output_type": "execute_result",
          "execution_count": 62,
          "data": {
            "text/plain": "5.968966666666667"
          },
          "metadata": {}
        }
      ]
    },
    {
      "metadata": {},
      "cell_type": "markdown",
      "source": "# 2.(d)"
    },
    {
      "metadata": {
        "trusted": true
      },
      "cell_type": "code",
      "source": "#Calculating weights for the kNN prediction model\n\nknn_wt_norm=norm_subset[['manh_new']]\n\ndef weight(value):\n    sum = 0\n    for i in knn_wt_norm:\n        sum += 1/(value[i])**2\n    return sum\n\nnew_weights = norm_subset.apply(weight, axis=1).round(4)\n\nnew_weights",
      "execution_count": 63,
      "outputs": [
        {
          "output_type": "execute_result",
          "execution_count": 63,
          "data": {
            "text/plain": "8     2.8114\n10    1.8791\n4     1.0997\n15    0.9606\n7     0.9531\n5     0.8792\n13    0.8115\n12    0.7507\n9     0.7137\n14    0.6560\n11    0.6450\n3     0.6424\n6     0.4944\n0     0.1827\n2     0.1416\n1     0.0932\ndtype: float64"
          },
          "metadata": {}
        }
      ]
    },
    {
      "metadata": {
        "trusted": true
      },
      "cell_type": "code",
      "source": "#Adding calculated-weights column to the subsetted data table\n\ncorruption_weights_new = norm_subset.assign(new_weights = new_weights.values)\n\ncorruption_weights_new",
      "execution_count": 64,
      "outputs": [
        {
          "output_type": "execute_result",
          "execution_count": 64,
          "data": {
            "text/html": "<div>\n<style scoped>\n    .dataframe tbody tr th:only-of-type {\n        vertical-align: middle;\n    }\n\n    .dataframe tbody tr th {\n        vertical-align: top;\n    }\n\n    .dataframe thead th {\n        text-align: right;\n    }\n</style>\n<table border=\"1\" class=\"dataframe\">\n  <thead>\n    <tr style=\"text-align: right;\">\n      <th></th>\n      <th>COUNTRY_ID</th>\n      <th>manh_new</th>\n      <th>CPI</th>\n      <th>new_weights</th>\n    </tr>\n  </thead>\n  <tbody>\n    <tr>\n      <th>8</th>\n      <td>U.S.A</td>\n      <td>0.5964</td>\n      <td>7.1357</td>\n      <td>2.8114</td>\n    </tr>\n    <tr>\n      <th>10</th>\n      <td>U.K.</td>\n      <td>0.7295</td>\n      <td>7.7751</td>\n      <td>1.8791</td>\n    </tr>\n    <tr>\n      <th>4</th>\n      <td>Argentina</td>\n      <td>0.9536</td>\n      <td>2.9961</td>\n      <td>1.0997</td>\n    </tr>\n    <tr>\n      <th>15</th>\n      <td>New Zealand</td>\n      <td>1.0203</td>\n      <td>9.4627</td>\n      <td>0.9606</td>\n    </tr>\n    <tr>\n      <th>7</th>\n      <td>Israel</td>\n      <td>1.0243</td>\n      <td>5.8069</td>\n      <td>0.9531</td>\n    </tr>\n    <tr>\n      <th>5</th>\n      <td>China</td>\n      <td>1.0665</td>\n      <td>3.6356</td>\n      <td>0.8792</td>\n    </tr>\n    <tr>\n      <th>13</th>\n      <td>Australia</td>\n      <td>1.1101</td>\n      <td>8.8442</td>\n      <td>0.8115</td>\n    </tr>\n    <tr>\n      <th>12</th>\n      <td>Canada</td>\n      <td>1.1542</td>\n      <td>8.6725</td>\n      <td>0.7507</td>\n    </tr>\n    <tr>\n      <th>9</th>\n      <td>Ireland</td>\n      <td>1.1837</td>\n      <td>7.5360</td>\n      <td>0.7137</td>\n    </tr>\n    <tr>\n      <th>14</th>\n      <td>Sweden</td>\n      <td>1.2347</td>\n      <td>9.2985</td>\n      <td>0.6560</td>\n    </tr>\n    <tr>\n      <th>11</th>\n      <td>Germany</td>\n      <td>1.2451</td>\n      <td>8.0461</td>\n      <td>0.6450</td>\n    </tr>\n    <tr>\n      <th>3</th>\n      <td>Egypt</td>\n      <td>1.2477</td>\n      <td>2.8622</td>\n      <td>0.6424</td>\n    </tr>\n    <tr>\n      <th>6</th>\n      <td>Brazil</td>\n      <td>1.4222</td>\n      <td>3.7741</td>\n      <td>0.4944</td>\n    </tr>\n    <tr>\n      <th>0</th>\n      <td>Afghanistan</td>\n      <td>2.3397</td>\n      <td>1.5171</td>\n      <td>0.1827</td>\n    </tr>\n    <tr>\n      <th>2</th>\n      <td>Nigeria</td>\n      <td>2.6579</td>\n      <td>2.4493</td>\n      <td>0.1416</td>\n    </tr>\n    <tr>\n      <th>1</th>\n      <td>Haiti</td>\n      <td>3.2755</td>\n      <td>1.7999</td>\n      <td>0.0932</td>\n    </tr>\n  </tbody>\n</table>\n</div>",
            "text/plain": "     COUNTRY_ID  manh_new     CPI  new_weights\n8         U.S.A    0.5964  7.1357       2.8114\n10         U.K.    0.7295  7.7751       1.8791\n4     Argentina    0.9536  2.9961       1.0997\n15  New Zealand    1.0203  9.4627       0.9606\n7        Israel    1.0243  5.8069       0.9531\n5         China    1.0665  3.6356       0.8792\n13    Australia    1.1101  8.8442       0.8115\n12       Canada    1.1542  8.6725       0.7507\n9       Ireland    1.1837  7.5360       0.7137\n14       Sweden    1.2347  9.2985       0.6560\n11      Germany    1.2451  8.0461       0.6450\n3         Egypt    1.2477  2.8622       0.6424\n6        Brazil    1.4222  3.7741       0.4944\n0   Afghanistan    2.3397  1.5171       0.1827\n2       Nigeria    2.6579  2.4493       0.1416\n1         Haiti    3.2755  1.7999       0.0932"
          },
          "metadata": {}
        }
      ]
    },
    {
      "metadata": {
        "trusted": true
      },
      "cell_type": "code",
      "source": "#Sum of weights column\n\nsum_weight_new=corruption_weights_new['new_weights'].sum(axis=0)\nsum_weight_new",
      "execution_count": 65,
      "outputs": [
        {
          "output_type": "execute_result",
          "execution_count": 65,
          "data": {
            "text/plain": "13.7143"
          },
          "metadata": {}
        }
      ]
    },
    {
      "metadata": {
        "trusted": true
      },
      "cell_type": "code",
      "source": "#Multiplying CPI by calculated-weights column\n\nweightXcpi_new=corruption_weights_new['CPI']*corruption_weights_new['new_weights']\n\nweightXcpi_new",
      "execution_count": 66,
      "outputs": [
        {
          "output_type": "execute_result",
          "execution_count": 66,
          "data": {
            "text/plain": "8     20.061307\n10    14.610190\n4      3.294811\n15     9.089870\n7      5.534556\n5      3.196420\n13     7.177068\n12     6.510446\n9      5.378443\n14     6.099816\n11     5.189734\n3      1.838677\n6      1.865915\n0      0.277174\n2      0.346821\n1      0.167751\ndtype: float64"
          },
          "metadata": {}
        }
      ]
    },
    {
      "metadata": {
        "trusted": true
      },
      "cell_type": "code",
      "source": "#Viewing Manhattan distance, CPI, calcualted weights, weights*CPI for all countries\n\ndf_weights_cpi = corruption_weights_new.assign(weightXcpi_new = weightXcpi_new.values)\ndf_weights_cpi",
      "execution_count": 67,
      "outputs": [
        {
          "output_type": "execute_result",
          "execution_count": 67,
          "data": {
            "text/html": "<div>\n<style scoped>\n    .dataframe tbody tr th:only-of-type {\n        vertical-align: middle;\n    }\n\n    .dataframe tbody tr th {\n        vertical-align: top;\n    }\n\n    .dataframe thead th {\n        text-align: right;\n    }\n</style>\n<table border=\"1\" class=\"dataframe\">\n  <thead>\n    <tr style=\"text-align: right;\">\n      <th></th>\n      <th>COUNTRY_ID</th>\n      <th>manh_new</th>\n      <th>CPI</th>\n      <th>new_weights</th>\n      <th>weightXcpi_new</th>\n    </tr>\n  </thead>\n  <tbody>\n    <tr>\n      <th>8</th>\n      <td>U.S.A</td>\n      <td>0.5964</td>\n      <td>7.1357</td>\n      <td>2.8114</td>\n      <td>20.061307</td>\n    </tr>\n    <tr>\n      <th>10</th>\n      <td>U.K.</td>\n      <td>0.7295</td>\n      <td>7.7751</td>\n      <td>1.8791</td>\n      <td>14.610190</td>\n    </tr>\n    <tr>\n      <th>4</th>\n      <td>Argentina</td>\n      <td>0.9536</td>\n      <td>2.9961</td>\n      <td>1.0997</td>\n      <td>3.294811</td>\n    </tr>\n    <tr>\n      <th>15</th>\n      <td>New Zealand</td>\n      <td>1.0203</td>\n      <td>9.4627</td>\n      <td>0.9606</td>\n      <td>9.089870</td>\n    </tr>\n    <tr>\n      <th>7</th>\n      <td>Israel</td>\n      <td>1.0243</td>\n      <td>5.8069</td>\n      <td>0.9531</td>\n      <td>5.534556</td>\n    </tr>\n    <tr>\n      <th>5</th>\n      <td>China</td>\n      <td>1.0665</td>\n      <td>3.6356</td>\n      <td>0.8792</td>\n      <td>3.196420</td>\n    </tr>\n    <tr>\n      <th>13</th>\n      <td>Australia</td>\n      <td>1.1101</td>\n      <td>8.8442</td>\n      <td>0.8115</td>\n      <td>7.177068</td>\n    </tr>\n    <tr>\n      <th>12</th>\n      <td>Canada</td>\n      <td>1.1542</td>\n      <td>8.6725</td>\n      <td>0.7507</td>\n      <td>6.510446</td>\n    </tr>\n    <tr>\n      <th>9</th>\n      <td>Ireland</td>\n      <td>1.1837</td>\n      <td>7.5360</td>\n      <td>0.7137</td>\n      <td>5.378443</td>\n    </tr>\n    <tr>\n      <th>14</th>\n      <td>Sweden</td>\n      <td>1.2347</td>\n      <td>9.2985</td>\n      <td>0.6560</td>\n      <td>6.099816</td>\n    </tr>\n    <tr>\n      <th>11</th>\n      <td>Germany</td>\n      <td>1.2451</td>\n      <td>8.0461</td>\n      <td>0.6450</td>\n      <td>5.189734</td>\n    </tr>\n    <tr>\n      <th>3</th>\n      <td>Egypt</td>\n      <td>1.2477</td>\n      <td>2.8622</td>\n      <td>0.6424</td>\n      <td>1.838677</td>\n    </tr>\n    <tr>\n      <th>6</th>\n      <td>Brazil</td>\n      <td>1.4222</td>\n      <td>3.7741</td>\n      <td>0.4944</td>\n      <td>1.865915</td>\n    </tr>\n    <tr>\n      <th>0</th>\n      <td>Afghanistan</td>\n      <td>2.3397</td>\n      <td>1.5171</td>\n      <td>0.1827</td>\n      <td>0.277174</td>\n    </tr>\n    <tr>\n      <th>2</th>\n      <td>Nigeria</td>\n      <td>2.6579</td>\n      <td>2.4493</td>\n      <td>0.1416</td>\n      <td>0.346821</td>\n    </tr>\n    <tr>\n      <th>1</th>\n      <td>Haiti</td>\n      <td>3.2755</td>\n      <td>1.7999</td>\n      <td>0.0932</td>\n      <td>0.167751</td>\n    </tr>\n  </tbody>\n</table>\n</div>",
            "text/plain": "     COUNTRY_ID  manh_new     CPI  new_weights  weightXcpi_new\n8         U.S.A    0.5964  7.1357       2.8114       20.061307\n10         U.K.    0.7295  7.7751       1.8791       14.610190\n4     Argentina    0.9536  2.9961       1.0997        3.294811\n15  New Zealand    1.0203  9.4627       0.9606        9.089870\n7        Israel    1.0243  5.8069       0.9531        5.534556\n5         China    1.0665  3.6356       0.8792        3.196420\n13    Australia    1.1101  8.8442       0.8115        7.177068\n12       Canada    1.1542  8.6725       0.7507        6.510446\n9       Ireland    1.1837  7.5360       0.7137        5.378443\n14       Sweden    1.2347  9.2985       0.6560        6.099816\n11      Germany    1.2451  8.0461       0.6450        5.189734\n3         Egypt    1.2477  2.8622       0.6424        1.838677\n6        Brazil    1.4222  3.7741       0.4944        1.865915\n0   Afghanistan    2.3397  1.5171       0.1827        0.277174\n2       Nigeria    2.6579  2.4493       0.1416        0.346821\n1         Haiti    3.2755  1.7999       0.0932        0.167751"
          },
          "metadata": {}
        }
      ]
    },
    {
      "metadata": {
        "trusted": true
      },
      "cell_type": "code",
      "source": "#After range normalising\n#Calculating CPI value for Russia, according to weighted k-NN prediction model, with k=16 \n\nsum_weightXcpi_new=df_weights_cpi['weightXcpi_new'].sum(axis=0).round(3)\ncpi_russia2_new=sum_weightXcpi_new/sum_weight_new\ncpi_russia2_new.round(3)",
      "execution_count": 68,
      "outputs": [
        {
          "output_type": "execute_result",
          "execution_count": 68,
          "data": {
            "text/plain": "6.609"
          },
          "metadata": {}
        }
      ]
    },
    {
      "metadata": {},
      "cell_type": "markdown",
      "source": "# 2.(e)"
    },
    {
      "metadata": {},
      "cell_type": "markdown",
      "source": "The model having the best prediction was the weighted k-NN prediction model—with k = 16, used on normalized data. There are a few possible reasons\nfor this result, including the effect of normalization(especially when there are varying ranges of data). Secondly, small data sets tend to be \npoorly fitted by 3NN models, while weighted k-NN models mitigates this effect.\n"
    }
  ],
  "metadata": {
    "kernelspec": {
      "name": "python36",
      "display_name": "Python 3.6",
      "language": "python"
    },
    "language_info": {
      "mimetype": "text/x-python",
      "nbconvert_exporter": "python",
      "name": "python",
      "pygments_lexer": "ipython3",
      "version": "3.6.6",
      "file_extension": ".py",
      "codemirror_mode": {
        "version": 3,
        "name": "ipython"
      }
    }
  },
  "nbformat": 4,
  "nbformat_minor": 2
}